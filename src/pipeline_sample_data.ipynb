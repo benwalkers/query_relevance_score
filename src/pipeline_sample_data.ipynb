{
 "cells": [
  {
   "cell_type": "code",
   "execution_count": 114,
   "id": "f3a39f1b",
   "metadata": {},
   "outputs": [],
   "source": [
    "#-------------------------\n",
    "# Author: Benjamin Piscoya|24038341\n",
    "#-------------------------\n",
    "from sklearn.decomposition import TruncatedSVD\n",
    "from catboost import CatBoostRegressor\n",
    "from sklearn.ensemble import VotingRegressor\n",
    "from plotly.subplots import make_subplots\n",
    "import scipy.sparse as sp, inspect, os, json, joblib, gc, re, io, zipfile, numpy as np, pandas as pd, lightgbm as lgb, xgboost as xgb\n",
    "import matplotlib.pyplot as plt, nltk, plotly.express as px, plotly.graph_objects as go\n",
    "from scipy import sparse\n",
    "from joblib import Parallel, delayed, parallel_backend\n",
    "from pathlib import Path\n",
    "from sklearn.manifold import TSNE\n",
    "from sklearn.model_selection import GroupShuffleSplit, GroupKFold,train_test_split\n",
    "from sklearn.feature_extraction.text import TfidfVectorizer, CountVectorizer\n",
    "from sklearn.metrics.pairwise import cosine_similarity\n",
    "from sklearn.metrics import mean_squared_error, mean_absolute_error, silhouette_score, calinski_harabasz_score, root_mean_squared_error\n",
    "from sklearn.preprocessing import StandardScaler\n",
    "from lightgbm import LGBMRegressor\n",
    "\n",
    "from nltk.tokenize import word_tokenize\n",
    "from nltk.stem.snowball import SnowballStemmer\n",
    "from nltk.stem import WordNetLemmatizer\n",
    "from nltk import pos_tag\n",
    "from nltk.corpus import wordnet\n",
    "#hyperparameter tuning\n",
    "from hyperopt import fmin, tpe, hp, STATUS_OK, Trials, space_eval\n",
    "\n",
    "from sklearn.cluster import KMeans \n",
    "from collections import Counter\n",
    "from wordcloud import WordCloud\n",
    "#---------------------------------------------\n",
    "from contextlib import redirect_stdout\n",
    "import warnings\n",
    "warnings.filterwarnings(\"ignore\")"
   ]
  },
  {
   "cell_type": "code",
   "execution_count": 74,
   "id": "cffb3229",
   "metadata": {},
   "outputs": [
    {
     "name": "stderr",
     "output_type": "stream",
     "text": [
      "[nltk_data] Downloading package punkt to\n",
      "[nltk_data]     C:\\Users\\Usuario\\AppData\\Roaming\\nltk_data...\n",
      "[nltk_data]   Package punkt is already up-to-date!\n",
      "[nltk_data] Downloading package averaged_perceptron_tagger_eng to\n",
      "[nltk_data]     C:\\Users\\Usuario\\AppData\\Roaming\\nltk_data...\n",
      "[nltk_data]   Package averaged_perceptron_tagger_eng is already up-to-\n",
      "[nltk_data]       date!\n",
      "[nltk_data] Downloading package punkt_tab to\n",
      "[nltk_data]     C:\\Users\\Usuario\\AppData\\Roaming\\nltk_data...\n",
      "[nltk_data]   Package punkt_tab is already up-to-date!\n",
      "[nltk_data] Downloading package wordnet to\n",
      "[nltk_data]     C:\\Users\\Usuario\\AppData\\Roaming\\nltk_data...\n",
      "[nltk_data]   Package wordnet is already up-to-date!\n"
     ]
    },
    {
     "data": {
      "text/plain": [
       "True"
      ]
     },
     "execution_count": 74,
     "metadata": {},
     "output_type": "execute_result"
    }
   ],
   "source": [
    "nltk.download('punkt')\n",
    "nltk.download('averaged_perceptron_tagger_eng')\n",
    "nltk.download('punkt_tab')\n",
    "nltk.download('wordnet')"
   ]
  },
  {
   "cell_type": "code",
   "execution_count": 75,
   "id": "60d506fc",
   "metadata": {},
   "outputs": [],
   "source": [
    "# Set display options for pandas\n",
    "pd.set_option('display.max_columns', None)  # Show all columns\n",
    "# Global variables\n",
    "RS_STATE = 123\n",
    "PATH_FILE = '../data/'"
   ]
  },
  {
   "cell_type": "code",
   "execution_count": 76,
   "id": "e97f1543",
   "metadata": {},
   "outputs": [],
   "source": [
    "def load_csv_from_zip(\n",
    "    zip_path: str,\n",
    "    chunksize: int = 100_000,\n",
    "    max_chunks: int = None,\n",
    "    encoding: str = \"utf-8\",\n",
    "    fallback_encoding: str = \"latin-1\",\n",
    "    errors: str = \"replace\"\n",
    ") -> pd.DataFrame:\n",
    "    \"\"\"\n",
    "    Loads a CSV file from a zip archive using chunk-based reading,\n",
    "    with graceful handling of UnicodeDecodeErrors.\n",
    "\n",
    "    Parameters\n",
    "    ----------\n",
    "    zip_path : str\n",
    "        Path to the zip file containing exactly one CSV.\n",
    "    chunksize : int\n",
    "        Number of rows per chunk.\n",
    "    max_chunks : int or None\n",
    "        Maximum number of chunks to read (None = all).\n",
    "    encoding : str\n",
    "        Primary text encoding to use.\n",
    "    fallback_encoding : str\n",
    "        Fallback encoding if primary fails.\n",
    "    errors : str\n",
    "        Error handler for undecodable bytes ('strict', 'replace', 'ignore').\n",
    "\n",
    "    Returns\n",
    "    -------\n",
    "    pd.DataFrame\n",
    "        Concatenated DataFrame of all loaded chunks.\n",
    "    \"\"\"\n",
    "    # Open the zip and get the first (and only) CSV filename\n",
    "    with zipfile.ZipFile(zip_path, 'r') as zf:\n",
    "        csv_name = zf.namelist()[0]\n",
    "        print(f\"Loading '{csv_name}' from '{zip_path}' (chunksize={chunksize})\")\n",
    "\n",
    "        def _open_text(encoding_to_use):\n",
    "            raw = zf.open(csv_name, 'r')\n",
    "            return io.TextIOWrapper(raw, encoding=encoding_to_use, errors=errors)\n",
    "\n",
    "        # Try primary encoding, then fallback if it fails\n",
    "        try:\n",
    "            reader = pd.read_csv(_open_text(encoding), chunksize=chunksize)\n",
    "        except UnicodeDecodeError:\n",
    "            print(f\"Failed to decode with {encoding!r}, retrying with {fallback_encoding!r}\")\n",
    "            reader = pd.read_csv(_open_text(fallback_encoding), chunksize=chunksize)\n",
    "\n",
    "        # Read chunks\n",
    "        chunks = []\n",
    "        for i, chunk in enumerate(reader, start=1):\n",
    "            chunks.append(chunk)\n",
    "            print(f\"  • Loaded chunk {i}\")\n",
    "            if max_chunks and i >= max_chunks:\n",
    "                print(f\"  • Reached max_chunks={max_chunks}, stopping early\")\n",
    "                break\n",
    "\n",
    "    # Concatenate and return\n",
    "    df = pd.concat(chunks, ignore_index=True)\n",
    "    #print(f\"Loaded {len(df)} rows in total\")\n",
    "    return df"
   ]
  },
  {
   "cell_type": "code",
   "execution_count": 77,
   "id": "98aa0f4b",
   "metadata": {},
   "outputs": [
    {
     "name": "stdout",
     "output_type": "stream",
     "text": [
      "Loading 'attributes.csv' from '../data/attributes.csv.zip' (chunksize=10000)\n",
      "  • Loaded chunk 1\n",
      "  • Loaded chunk 2\n",
      "  • Loaded chunk 3\n",
      "  • Loaded chunk 4\n",
      "  • Loaded chunk 5\n",
      "  • Loaded chunk 6\n",
      "  • Loaded chunk 7\n",
      "  • Loaded chunk 8\n",
      "  • Loaded chunk 9\n",
      "  • Loaded chunk 10\n",
      "  • Loaded chunk 11\n",
      "  • Loaded chunk 12\n",
      "  • Loaded chunk 13\n",
      "  • Loaded chunk 14\n",
      "  • Loaded chunk 15\n",
      "  • Loaded chunk 16\n",
      "  • Loaded chunk 17\n",
      "  • Loaded chunk 18\n",
      "  • Loaded chunk 19\n",
      "  • Loaded chunk 20\n",
      "  • Loaded chunk 21\n",
      "  • Loaded chunk 22\n",
      "  • Loaded chunk 23\n",
      "  • Loaded chunk 24\n",
      "  • Loaded chunk 25\n",
      "  • Loaded chunk 26\n",
      "  • Loaded chunk 27\n",
      "  • Loaded chunk 28\n",
      "  • Loaded chunk 29\n",
      "  • Loaded chunk 30\n",
      "  • Loaded chunk 31\n",
      "  • Loaded chunk 32\n",
      "  • Loaded chunk 33\n",
      "  • Loaded chunk 34\n",
      "  • Loaded chunk 35\n",
      "  • Loaded chunk 36\n",
      "  • Loaded chunk 37\n",
      "  • Loaded chunk 38\n",
      "  • Loaded chunk 39\n",
      "  • Loaded chunk 40\n",
      "  • Loaded chunk 41\n",
      "  • Loaded chunk 42\n",
      "  • Loaded chunk 43\n",
      "  • Loaded chunk 44\n",
      "  • Loaded chunk 45\n",
      "  • Loaded chunk 46\n",
      "  • Loaded chunk 47\n",
      "  • Loaded chunk 48\n",
      "  • Loaded chunk 49\n",
      "  • Loaded chunk 50\n",
      "  • Loaded chunk 51\n",
      "  • Loaded chunk 52\n",
      "  • Loaded chunk 53\n",
      "  • Loaded chunk 54\n",
      "  • Loaded chunk 55\n",
      "  • Loaded chunk 56\n",
      "  • Loaded chunk 57\n",
      "  • Loaded chunk 58\n",
      "  • Loaded chunk 59\n",
      "  • Loaded chunk 60\n",
      "  • Loaded chunk 61\n",
      "  • Loaded chunk 62\n",
      "  • Loaded chunk 63\n",
      "  • Loaded chunk 64\n",
      "  • Loaded chunk 65\n",
      "  • Loaded chunk 66\n",
      "  • Loaded chunk 67\n",
      "  • Loaded chunk 68\n",
      "  • Loaded chunk 69\n",
      "  • Loaded chunk 70\n",
      "  • Loaded chunk 71\n",
      "  • Loaded chunk 72\n",
      "  • Loaded chunk 73\n",
      "  • Loaded chunk 74\n",
      "  • Loaded chunk 75\n",
      "  • Loaded chunk 76\n",
      "  • Loaded chunk 77\n",
      "  • Loaded chunk 78\n",
      "  • Loaded chunk 79\n",
      "  • Loaded chunk 80\n",
      "  • Loaded chunk 81\n",
      "  • Loaded chunk 82\n",
      "  • Loaded chunk 83\n",
      "  • Loaded chunk 84\n",
      "  • Loaded chunk 85\n",
      "  • Loaded chunk 86\n",
      "  • Loaded chunk 87\n",
      "  • Loaded chunk 88\n",
      "  • Loaded chunk 89\n",
      "  • Loaded chunk 90\n",
      "  • Loaded chunk 91\n",
      "  • Loaded chunk 92\n",
      "  • Loaded chunk 93\n",
      "  • Loaded chunk 94\n",
      "  • Loaded chunk 95\n",
      "  • Loaded chunk 96\n",
      "  • Loaded chunk 97\n",
      "  • Loaded chunk 98\n",
      "  • Loaded chunk 99\n",
      "  • Loaded chunk 100\n",
      "  • Loaded chunk 101\n",
      "  • Loaded chunk 102\n",
      "  • Loaded chunk 103\n",
      "  • Loaded chunk 104\n",
      "  • Loaded chunk 105\n",
      "  • Loaded chunk 106\n",
      "  • Loaded chunk 107\n",
      "  • Loaded chunk 108\n",
      "  • Loaded chunk 109\n",
      "  • Loaded chunk 110\n",
      "  • Loaded chunk 111\n",
      "  • Loaded chunk 112\n",
      "  • Loaded chunk 113\n",
      "  • Loaded chunk 114\n",
      "  • Loaded chunk 115\n",
      "  • Loaded chunk 116\n",
      "  • Loaded chunk 117\n",
      "  • Loaded chunk 118\n",
      "  • Loaded chunk 119\n",
      "  • Loaded chunk 120\n",
      "  • Loaded chunk 121\n",
      "  • Loaded chunk 122\n",
      "  • Loaded chunk 123\n",
      "  • Loaded chunk 124\n",
      "  • Loaded chunk 125\n",
      "  • Loaded chunk 126\n",
      "  • Loaded chunk 127\n",
      "  • Loaded chunk 128\n",
      "  • Loaded chunk 129\n",
      "  • Loaded chunk 130\n",
      "  • Loaded chunk 131\n",
      "  • Loaded chunk 132\n",
      "  • Loaded chunk 133\n",
      "  • Loaded chunk 134\n",
      "  • Loaded chunk 135\n",
      "  • Loaded chunk 136\n",
      "  • Loaded chunk 137\n",
      "  • Loaded chunk 138\n",
      "  • Loaded chunk 139\n",
      "  • Loaded chunk 140\n",
      "  • Loaded chunk 141\n",
      "  • Loaded chunk 142\n",
      "  • Loaded chunk 143\n",
      "  • Loaded chunk 144\n",
      "  • Loaded chunk 145\n",
      "  • Loaded chunk 146\n",
      "  • Loaded chunk 147\n",
      "  • Loaded chunk 148\n",
      "  • Loaded chunk 149\n",
      "  • Loaded chunk 150\n",
      "  • Loaded chunk 151\n",
      "  • Loaded chunk 152\n",
      "  • Loaded chunk 153\n",
      "  • Loaded chunk 154\n",
      "  • Loaded chunk 155\n",
      "  • Loaded chunk 156\n",
      "  • Loaded chunk 157\n",
      "  • Loaded chunk 158\n",
      "  • Loaded chunk 159\n",
      "  • Loaded chunk 160\n",
      "  • Loaded chunk 161\n",
      "  • Loaded chunk 162\n",
      "  • Loaded chunk 163\n",
      "  • Loaded chunk 164\n",
      "  • Loaded chunk 165\n",
      "  • Loaded chunk 166\n",
      "  • Loaded chunk 167\n",
      "  • Loaded chunk 168\n",
      "  • Loaded chunk 169\n",
      "  • Loaded chunk 170\n",
      "  • Loaded chunk 171\n",
      "  • Loaded chunk 172\n",
      "  • Loaded chunk 173\n",
      "  • Loaded chunk 174\n",
      "  • Loaded chunk 175\n",
      "  • Loaded chunk 176\n",
      "  • Loaded chunk 177\n",
      "  • Loaded chunk 178\n",
      "  • Loaded chunk 179\n",
      "  • Loaded chunk 180\n",
      "  • Loaded chunk 181\n",
      "  • Loaded chunk 182\n",
      "  • Loaded chunk 183\n",
      "  • Loaded chunk 184\n",
      "  • Loaded chunk 185\n",
      "  • Loaded chunk 186\n",
      "  • Loaded chunk 187\n",
      "  • Loaded chunk 188\n",
      "  • Loaded chunk 189\n",
      "  • Loaded chunk 190\n",
      "  • Loaded chunk 191\n",
      "  • Loaded chunk 192\n",
      "  • Loaded chunk 193\n",
      "  • Loaded chunk 194\n",
      "  • Loaded chunk 195\n",
      "  • Loaded chunk 196\n",
      "  • Loaded chunk 197\n",
      "  • Loaded chunk 198\n",
      "  • Loaded chunk 199\n",
      "  • Loaded chunk 200\n",
      "  • Loaded chunk 201\n",
      "  • Loaded chunk 202\n",
      "  • Loaded chunk 203\n",
      "  • Loaded chunk 204\n",
      "  • Loaded chunk 205\n",
      "Loading 'product_descriptions.csv' from '../data/product_descriptions.csv.zip' (chunksize=10000)\n",
      "  • Loaded chunk 1\n",
      "  • Loaded chunk 2\n",
      "  • Loaded chunk 3\n",
      "  • Loaded chunk 4\n",
      "  • Loaded chunk 5\n",
      "  • Loaded chunk 6\n",
      "  • Loaded chunk 7\n",
      "  • Loaded chunk 8\n",
      "  • Loaded chunk 9\n",
      "  • Loaded chunk 10\n",
      "  • Loaded chunk 11\n",
      "  • Loaded chunk 12\n",
      "  • Loaded chunk 13\n",
      "Loading 'train.csv' from '../data/train.csv.zip' (chunksize=10000)\n",
      "  • Loaded chunk 1\n",
      "  • Loaded chunk 2\n",
      "  • Loaded chunk 3\n",
      "  • Loaded chunk 4\n",
      "  • Loaded chunk 5\n",
      "  • Loaded chunk 6\n",
      "  • Loaded chunk 7\n",
      "  • Loaded chunk 8\n"
     ]
    }
   ],
   "source": [
    "attributes_df = load_csv_from_zip(PATH_FILE+\"attributes.csv.zip\", chunksize=10000)\n",
    "product_descriptions_df = load_csv_from_zip(PATH_FILE+\"product_descriptions.csv.zip\", chunksize=10000)\n",
    "query_df = load_csv_from_zip(PATH_FILE+\"train.csv.zip\", chunksize=10000)"
   ]
  },
  {
   "cell_type": "code",
   "execution_count": 78,
   "id": "2191fdd3",
   "metadata": {},
   "outputs": [
    {
     "data": {
      "text/html": [
       "<div>\n",
       "<style scoped>\n",
       "    .dataframe tbody tr th:only-of-type {\n",
       "        vertical-align: middle;\n",
       "    }\n",
       "\n",
       "    .dataframe tbody tr th {\n",
       "        vertical-align: top;\n",
       "    }\n",
       "\n",
       "    .dataframe thead th {\n",
       "        text-align: right;\n",
       "    }\n",
       "</style>\n",
       "<table border=\"1\" class=\"dataframe\">\n",
       "  <thead>\n",
       "    <tr style=\"text-align: right;\">\n",
       "      <th></th>\n",
       "      <th>product_uid</th>\n",
       "      <th>name</th>\n",
       "      <th>value</th>\n",
       "    </tr>\n",
       "  </thead>\n",
       "  <tbody>\n",
       "    <tr>\n",
       "      <th>0</th>\n",
       "      <td>100001.0</td>\n",
       "      <td>Bullet01</td>\n",
       "      <td>Versatile connector for various 90° connection...</td>\n",
       "    </tr>\n",
       "    <tr>\n",
       "      <th>1</th>\n",
       "      <td>100001.0</td>\n",
       "      <td>Bullet02</td>\n",
       "      <td>Stronger than angled nailing or screw fastenin...</td>\n",
       "    </tr>\n",
       "    <tr>\n",
       "      <th>2</th>\n",
       "      <td>100001.0</td>\n",
       "      <td>Bullet03</td>\n",
       "      <td>Help ensure joints are consistently straight a...</td>\n",
       "    </tr>\n",
       "    <tr>\n",
       "      <th>3</th>\n",
       "      <td>100001.0</td>\n",
       "      <td>Bullet04</td>\n",
       "      <td>Dimensions: 3 in. x 3 in. x 1-1/2 in.</td>\n",
       "    </tr>\n",
       "  </tbody>\n",
       "</table>\n",
       "</div>"
      ],
      "text/plain": [
       "   product_uid      name                                              value\n",
       "0     100001.0  Bullet01  Versatile connector for various 90° connection...\n",
       "1     100001.0  Bullet02  Stronger than angled nailing or screw fastenin...\n",
       "2     100001.0  Bullet03  Help ensure joints are consistently straight a...\n",
       "3     100001.0  Bullet04              Dimensions: 3 in. x 3 in. x 1-1/2 in."
      ]
     },
     "metadata": {},
     "output_type": "display_data"
    },
    {
     "data": {
      "text/html": [
       "<div>\n",
       "<style scoped>\n",
       "    .dataframe tbody tr th:only-of-type {\n",
       "        vertical-align: middle;\n",
       "    }\n",
       "\n",
       "    .dataframe tbody tr th {\n",
       "        vertical-align: top;\n",
       "    }\n",
       "\n",
       "    .dataframe thead th {\n",
       "        text-align: right;\n",
       "    }\n",
       "</style>\n",
       "<table border=\"1\" class=\"dataframe\">\n",
       "  <thead>\n",
       "    <tr style=\"text-align: right;\">\n",
       "      <th></th>\n",
       "      <th>product_uid</th>\n",
       "      <th>product_description</th>\n",
       "    </tr>\n",
       "  </thead>\n",
       "  <tbody>\n",
       "    <tr>\n",
       "      <th>0</th>\n",
       "      <td>100001</td>\n",
       "      <td>Not only do angles make joints stronger, they ...</td>\n",
       "    </tr>\n",
       "    <tr>\n",
       "      <th>1</th>\n",
       "      <td>100002</td>\n",
       "      <td>BEHR Premium Textured DECKOVER is an innovativ...</td>\n",
       "    </tr>\n",
       "    <tr>\n",
       "      <th>2</th>\n",
       "      <td>100003</td>\n",
       "      <td>Classic architecture meets contemporary design...</td>\n",
       "    </tr>\n",
       "    <tr>\n",
       "      <th>3</th>\n",
       "      <td>100004</td>\n",
       "      <td>The Grape Solar 265-Watt Polycrystalline PV So...</td>\n",
       "    </tr>\n",
       "  </tbody>\n",
       "</table>\n",
       "</div>"
      ],
      "text/plain": [
       "   product_uid                                product_description\n",
       "0       100001  Not only do angles make joints stronger, they ...\n",
       "1       100002  BEHR Premium Textured DECKOVER is an innovativ...\n",
       "2       100003  Classic architecture meets contemporary design...\n",
       "3       100004  The Grape Solar 265-Watt Polycrystalline PV So..."
      ]
     },
     "metadata": {},
     "output_type": "display_data"
    },
    {
     "data": {
      "text/html": [
       "<div>\n",
       "<style scoped>\n",
       "    .dataframe tbody tr th:only-of-type {\n",
       "        vertical-align: middle;\n",
       "    }\n",
       "\n",
       "    .dataframe tbody tr th {\n",
       "        vertical-align: top;\n",
       "    }\n",
       "\n",
       "    .dataframe thead th {\n",
       "        text-align: right;\n",
       "    }\n",
       "</style>\n",
       "<table border=\"1\" class=\"dataframe\">\n",
       "  <thead>\n",
       "    <tr style=\"text-align: right;\">\n",
       "      <th></th>\n",
       "      <th>id</th>\n",
       "      <th>product_uid</th>\n",
       "      <th>product_title</th>\n",
       "      <th>search_term</th>\n",
       "      <th>relevance</th>\n",
       "    </tr>\n",
       "  </thead>\n",
       "  <tbody>\n",
       "    <tr>\n",
       "      <th>0</th>\n",
       "      <td>2</td>\n",
       "      <td>100001</td>\n",
       "      <td>Simpson Strong-Tie 12-Gauge Angle</td>\n",
       "      <td>angle bracket</td>\n",
       "      <td>3.00</td>\n",
       "    </tr>\n",
       "    <tr>\n",
       "      <th>1</th>\n",
       "      <td>3</td>\n",
       "      <td>100001</td>\n",
       "      <td>Simpson Strong-Tie 12-Gauge Angle</td>\n",
       "      <td>l bracket</td>\n",
       "      <td>2.50</td>\n",
       "    </tr>\n",
       "    <tr>\n",
       "      <th>2</th>\n",
       "      <td>9</td>\n",
       "      <td>100002</td>\n",
       "      <td>BEHR Premium Textured DeckOver 1-gal. #SC-141 ...</td>\n",
       "      <td>deck over</td>\n",
       "      <td>3.00</td>\n",
       "    </tr>\n",
       "    <tr>\n",
       "      <th>3</th>\n",
       "      <td>16</td>\n",
       "      <td>100005</td>\n",
       "      <td>Delta Vero 1-Handle Shower Only Faucet Trim Ki...</td>\n",
       "      <td>rain shower head</td>\n",
       "      <td>2.33</td>\n",
       "    </tr>\n",
       "  </tbody>\n",
       "</table>\n",
       "</div>"
      ],
      "text/plain": [
       "   id  product_uid                                      product_title  \\\n",
       "0   2       100001                  Simpson Strong-Tie 12-Gauge Angle   \n",
       "1   3       100001                  Simpson Strong-Tie 12-Gauge Angle   \n",
       "2   9       100002  BEHR Premium Textured DeckOver 1-gal. #SC-141 ...   \n",
       "3  16       100005  Delta Vero 1-Handle Shower Only Faucet Trim Ki...   \n",
       "\n",
       "        search_term  relevance  \n",
       "0     angle bracket       3.00  \n",
       "1         l bracket       2.50  \n",
       "2         deck over       3.00  \n",
       "3  rain shower head       2.33  "
      ]
     },
     "metadata": {},
     "output_type": "display_data"
    }
   ],
   "source": [
    "display(attributes_df.head(4), product_descriptions_df.head(4), query_df.head(4))"
   ]
  },
  {
   "cell_type": "code",
   "execution_count": 79,
   "id": "8cd043e1",
   "metadata": {},
   "outputs": [
    {
     "name": "stdout",
     "output_type": "stream",
     "text": [
      "<class 'pandas.core.frame.DataFrame'>\n",
      "RangeIndex: 2044803 entries, 0 to 2044802\n",
      "Data columns (total 3 columns):\n",
      " #   Column       Dtype  \n",
      "---  ------       -----  \n",
      " 0   product_uid  float64\n",
      " 1   name         object \n",
      " 2   value        object \n",
      "dtypes: float64(1), object(2)\n",
      "memory usage: 46.8+ MB\n",
      "<class 'pandas.core.frame.DataFrame'>\n",
      "RangeIndex: 124428 entries, 0 to 124427\n",
      "Data columns (total 2 columns):\n",
      " #   Column               Non-Null Count   Dtype \n",
      "---  ------               --------------   ----- \n",
      " 0   product_uid          124428 non-null  int64 \n",
      " 1   product_description  124428 non-null  object\n",
      "dtypes: int64(1), object(1)\n",
      "memory usage: 1.9+ MB\n",
      "<class 'pandas.core.frame.DataFrame'>\n",
      "RangeIndex: 74067 entries, 0 to 74066\n",
      "Data columns (total 5 columns):\n",
      " #   Column         Non-Null Count  Dtype  \n",
      "---  ------         --------------  -----  \n",
      " 0   id             74067 non-null  int64  \n",
      " 1   product_uid    74067 non-null  int64  \n",
      " 2   product_title  74067 non-null  object \n",
      " 3   search_term    74067 non-null  object \n",
      " 4   relevance      74067 non-null  float64\n",
      "dtypes: float64(1), int64(2), object(2)\n",
      "memory usage: 2.8+ MB\n"
     ]
    },
    {
     "data": {
      "text/plain": [
       "None"
      ]
     },
     "metadata": {},
     "output_type": "display_data"
    },
    {
     "data": {
      "text/plain": [
       "None"
      ]
     },
     "metadata": {},
     "output_type": "display_data"
    },
    {
     "data": {
      "text/plain": [
       "None"
      ]
     },
     "metadata": {},
     "output_type": "display_data"
    }
   ],
   "source": [
    "display(attributes_df.info(), product_descriptions_df.info(), query_df.info())"
   ]
  },
  {
   "cell_type": "code",
   "execution_count": 80,
   "id": "a39f2314",
   "metadata": {},
   "outputs": [
    {
     "data": {
      "text/plain": [
       "product_uid     155\n",
       "name            155\n",
       "value          6422\n",
       "dtype: int64"
      ]
     },
     "metadata": {},
     "output_type": "display_data"
    },
    {
     "data": {
      "text/plain": [
       "product_uid            0\n",
       "product_description    0\n",
       "dtype: int64"
      ]
     },
     "metadata": {},
     "output_type": "display_data"
    },
    {
     "data": {
      "text/plain": [
       "id               0\n",
       "product_uid      0\n",
       "product_title    0\n",
       "search_term      0\n",
       "relevance        0\n",
       "dtype: int64"
      ]
     },
     "metadata": {},
     "output_type": "display_data"
    },
    {
     "name": "stdout",
     "output_type": "stream",
     "text": [
      "Percentage of NaN values in attributes_df: 0.11%\n"
     ]
    }
   ],
   "source": [
    "# nan value check\n",
    "display(attributes_df.isna().sum(), product_descriptions_df.isna().sum(), query_df.isna().sum())\n",
    "print(f'Percentage of NaN values in attributes_df: {attributes_df.isna().sum().sum()/attributes_df.size*100:.2f}%')"
   ]
  },
  {
   "cell_type": "code",
   "execution_count": 81,
   "id": "0a4e632a",
   "metadata": {},
   "outputs": [],
   "source": [
    "# removing nan values in attributes_df\n",
    "# 1) 1.1% nan values is trivial, so we can drop them\n",
    "# 2) the bias generated for a potential imputation outweights the benefit of keeping them due to its low percentage\n",
    "attributes_df = attributes_df.dropna()"
   ]
  },
  {
   "cell_type": "code",
   "execution_count": 82,
   "id": "12d94648",
   "metadata": {},
   "outputs": [],
   "source": [
    "# remove iid column in query_df\n",
    "query_df = query_df.drop(columns=['id'])"
   ]
  },
  {
   "cell_type": "code",
   "execution_count": 83,
   "id": "8e52718f",
   "metadata": {},
   "outputs": [
    {
     "data": {
      "text/plain": [
       "(74067, 4)"
      ]
     },
     "execution_count": 83,
     "metadata": {},
     "output_type": "execute_result"
    }
   ],
   "source": [
    "query_df.shape"
   ]
  },
  {
   "cell_type": "markdown",
   "id": "41272811",
   "metadata": {},
   "source": [
    "#### EDA Top Most Frequent Search Terms"
   ]
  },
  {
   "cell_type": "code",
   "execution_count": 84,
   "id": "7ad3dfb8",
   "metadata": {},
   "outputs": [
    {
     "data": {
      "application/vnd.plotly.v1+json": {
       "config": {
        "plotlyServerURL": "https://plot.ly"
       },
       "data": [
        {
         "hovertemplate": "Frequency=%{x}<br>Search Term=%{y}<extra></extra>",
         "legendgroup": "",
         "marker": {
          "color": "#636efa",
          "pattern": {
           "shape": ""
          }
         },
         "name": "",
         "orientation": "h",
         "showlegend": false,
         "textposition": "auto",
         "type": "bar",
         "x": {
          "bdata": "EBAQEBAQEBAQDw==",
          "dtype": "i1"
         },
         "xaxis": "x",
         "y": [
          "moen chat oil bronze tub/shower faucet",
          "burgundy red foot stools",
          "everblit heavy duty canvas dropcloth",
          "bed frames headboaed",
          "1/2 zip wall",
          "anderson windows 400 seriesimpact resistant",
          "contact paoer",
          "3 WAY TOGGLE SWITCH",
          "metal sheet",
          "ceiling mounted lighting fixures"
         ],
         "yaxis": "y"
        }
       ],
       "layout": {
        "barmode": "relative",
        "legend": {
         "tracegroupgap": 0
        },
        "template": {
         "data": {
          "bar": [
           {
            "error_x": {
             "color": "#2a3f5f"
            },
            "error_y": {
             "color": "#2a3f5f"
            },
            "marker": {
             "line": {
              "color": "white",
              "width": 0.5
             },
             "pattern": {
              "fillmode": "overlay",
              "size": 10,
              "solidity": 0.2
             }
            },
            "type": "bar"
           }
          ],
          "barpolar": [
           {
            "marker": {
             "line": {
              "color": "white",
              "width": 0.5
             },
             "pattern": {
              "fillmode": "overlay",
              "size": 10,
              "solidity": 0.2
             }
            },
            "type": "barpolar"
           }
          ],
          "carpet": [
           {
            "aaxis": {
             "endlinecolor": "#2a3f5f",
             "gridcolor": "#C8D4E3",
             "linecolor": "#C8D4E3",
             "minorgridcolor": "#C8D4E3",
             "startlinecolor": "#2a3f5f"
            },
            "baxis": {
             "endlinecolor": "#2a3f5f",
             "gridcolor": "#C8D4E3",
             "linecolor": "#C8D4E3",
             "minorgridcolor": "#C8D4E3",
             "startlinecolor": "#2a3f5f"
            },
            "type": "carpet"
           }
          ],
          "choropleth": [
           {
            "colorbar": {
             "outlinewidth": 0,
             "ticks": ""
            },
            "type": "choropleth"
           }
          ],
          "contour": [
           {
            "colorbar": {
             "outlinewidth": 0,
             "ticks": ""
            },
            "colorscale": [
             [
              0,
              "#0d0887"
             ],
             [
              0.1111111111111111,
              "#46039f"
             ],
             [
              0.2222222222222222,
              "#7201a8"
             ],
             [
              0.3333333333333333,
              "#9c179e"
             ],
             [
              0.4444444444444444,
              "#bd3786"
             ],
             [
              0.5555555555555556,
              "#d8576b"
             ],
             [
              0.6666666666666666,
              "#ed7953"
             ],
             [
              0.7777777777777778,
              "#fb9f3a"
             ],
             [
              0.8888888888888888,
              "#fdca26"
             ],
             [
              1,
              "#f0f921"
             ]
            ],
            "type": "contour"
           }
          ],
          "contourcarpet": [
           {
            "colorbar": {
             "outlinewidth": 0,
             "ticks": ""
            },
            "type": "contourcarpet"
           }
          ],
          "heatmap": [
           {
            "colorbar": {
             "outlinewidth": 0,
             "ticks": ""
            },
            "colorscale": [
             [
              0,
              "#0d0887"
             ],
             [
              0.1111111111111111,
              "#46039f"
             ],
             [
              0.2222222222222222,
              "#7201a8"
             ],
             [
              0.3333333333333333,
              "#9c179e"
             ],
             [
              0.4444444444444444,
              "#bd3786"
             ],
             [
              0.5555555555555556,
              "#d8576b"
             ],
             [
              0.6666666666666666,
              "#ed7953"
             ],
             [
              0.7777777777777778,
              "#fb9f3a"
             ],
             [
              0.8888888888888888,
              "#fdca26"
             ],
             [
              1,
              "#f0f921"
             ]
            ],
            "type": "heatmap"
           }
          ],
          "histogram": [
           {
            "marker": {
             "pattern": {
              "fillmode": "overlay",
              "size": 10,
              "solidity": 0.2
             }
            },
            "type": "histogram"
           }
          ],
          "histogram2d": [
           {
            "colorbar": {
             "outlinewidth": 0,
             "ticks": ""
            },
            "colorscale": [
             [
              0,
              "#0d0887"
             ],
             [
              0.1111111111111111,
              "#46039f"
             ],
             [
              0.2222222222222222,
              "#7201a8"
             ],
             [
              0.3333333333333333,
              "#9c179e"
             ],
             [
              0.4444444444444444,
              "#bd3786"
             ],
             [
              0.5555555555555556,
              "#d8576b"
             ],
             [
              0.6666666666666666,
              "#ed7953"
             ],
             [
              0.7777777777777778,
              "#fb9f3a"
             ],
             [
              0.8888888888888888,
              "#fdca26"
             ],
             [
              1,
              "#f0f921"
             ]
            ],
            "type": "histogram2d"
           }
          ],
          "histogram2dcontour": [
           {
            "colorbar": {
             "outlinewidth": 0,
             "ticks": ""
            },
            "colorscale": [
             [
              0,
              "#0d0887"
             ],
             [
              0.1111111111111111,
              "#46039f"
             ],
             [
              0.2222222222222222,
              "#7201a8"
             ],
             [
              0.3333333333333333,
              "#9c179e"
             ],
             [
              0.4444444444444444,
              "#bd3786"
             ],
             [
              0.5555555555555556,
              "#d8576b"
             ],
             [
              0.6666666666666666,
              "#ed7953"
             ],
             [
              0.7777777777777778,
              "#fb9f3a"
             ],
             [
              0.8888888888888888,
              "#fdca26"
             ],
             [
              1,
              "#f0f921"
             ]
            ],
            "type": "histogram2dcontour"
           }
          ],
          "mesh3d": [
           {
            "colorbar": {
             "outlinewidth": 0,
             "ticks": ""
            },
            "type": "mesh3d"
           }
          ],
          "parcoords": [
           {
            "line": {
             "colorbar": {
              "outlinewidth": 0,
              "ticks": ""
             }
            },
            "type": "parcoords"
           }
          ],
          "pie": [
           {
            "automargin": true,
            "type": "pie"
           }
          ],
          "scatter": [
           {
            "fillpattern": {
             "fillmode": "overlay",
             "size": 10,
             "solidity": 0.2
            },
            "type": "scatter"
           }
          ],
          "scatter3d": [
           {
            "line": {
             "colorbar": {
              "outlinewidth": 0,
              "ticks": ""
             }
            },
            "marker": {
             "colorbar": {
              "outlinewidth": 0,
              "ticks": ""
             }
            },
            "type": "scatter3d"
           }
          ],
          "scattercarpet": [
           {
            "marker": {
             "colorbar": {
              "outlinewidth": 0,
              "ticks": ""
             }
            },
            "type": "scattercarpet"
           }
          ],
          "scattergeo": [
           {
            "marker": {
             "colorbar": {
              "outlinewidth": 0,
              "ticks": ""
             }
            },
            "type": "scattergeo"
           }
          ],
          "scattergl": [
           {
            "marker": {
             "colorbar": {
              "outlinewidth": 0,
              "ticks": ""
             }
            },
            "type": "scattergl"
           }
          ],
          "scattermap": [
           {
            "marker": {
             "colorbar": {
              "outlinewidth": 0,
              "ticks": ""
             }
            },
            "type": "scattermap"
           }
          ],
          "scattermapbox": [
           {
            "marker": {
             "colorbar": {
              "outlinewidth": 0,
              "ticks": ""
             }
            },
            "type": "scattermapbox"
           }
          ],
          "scatterpolar": [
           {
            "marker": {
             "colorbar": {
              "outlinewidth": 0,
              "ticks": ""
             }
            },
            "type": "scatterpolar"
           }
          ],
          "scatterpolargl": [
           {
            "marker": {
             "colorbar": {
              "outlinewidth": 0,
              "ticks": ""
             }
            },
            "type": "scatterpolargl"
           }
          ],
          "scatterternary": [
           {
            "marker": {
             "colorbar": {
              "outlinewidth": 0,
              "ticks": ""
             }
            },
            "type": "scatterternary"
           }
          ],
          "surface": [
           {
            "colorbar": {
             "outlinewidth": 0,
             "ticks": ""
            },
            "colorscale": [
             [
              0,
              "#0d0887"
             ],
             [
              0.1111111111111111,
              "#46039f"
             ],
             [
              0.2222222222222222,
              "#7201a8"
             ],
             [
              0.3333333333333333,
              "#9c179e"
             ],
             [
              0.4444444444444444,
              "#bd3786"
             ],
             [
              0.5555555555555556,
              "#d8576b"
             ],
             [
              0.6666666666666666,
              "#ed7953"
             ],
             [
              0.7777777777777778,
              "#fb9f3a"
             ],
             [
              0.8888888888888888,
              "#fdca26"
             ],
             [
              1,
              "#f0f921"
             ]
            ],
            "type": "surface"
           }
          ],
          "table": [
           {
            "cells": {
             "fill": {
              "color": "#EBF0F8"
             },
             "line": {
              "color": "white"
             }
            },
            "header": {
             "fill": {
              "color": "#C8D4E3"
             },
             "line": {
              "color": "white"
             }
            },
            "type": "table"
           }
          ]
         },
         "layout": {
          "annotationdefaults": {
           "arrowcolor": "#2a3f5f",
           "arrowhead": 0,
           "arrowwidth": 1
          },
          "autotypenumbers": "strict",
          "coloraxis": {
           "colorbar": {
            "outlinewidth": 0,
            "ticks": ""
           }
          },
          "colorscale": {
           "diverging": [
            [
             0,
             "#8e0152"
            ],
            [
             0.1,
             "#c51b7d"
            ],
            [
             0.2,
             "#de77ae"
            ],
            [
             0.3,
             "#f1b6da"
            ],
            [
             0.4,
             "#fde0ef"
            ],
            [
             0.5,
             "#f7f7f7"
            ],
            [
             0.6,
             "#e6f5d0"
            ],
            [
             0.7,
             "#b8e186"
            ],
            [
             0.8,
             "#7fbc41"
            ],
            [
             0.9,
             "#4d9221"
            ],
            [
             1,
             "#276419"
            ]
           ],
           "sequential": [
            [
             0,
             "#0d0887"
            ],
            [
             0.1111111111111111,
             "#46039f"
            ],
            [
             0.2222222222222222,
             "#7201a8"
            ],
            [
             0.3333333333333333,
             "#9c179e"
            ],
            [
             0.4444444444444444,
             "#bd3786"
            ],
            [
             0.5555555555555556,
             "#d8576b"
            ],
            [
             0.6666666666666666,
             "#ed7953"
            ],
            [
             0.7777777777777778,
             "#fb9f3a"
            ],
            [
             0.8888888888888888,
             "#fdca26"
            ],
            [
             1,
             "#f0f921"
            ]
           ],
           "sequentialminus": [
            [
             0,
             "#0d0887"
            ],
            [
             0.1111111111111111,
             "#46039f"
            ],
            [
             0.2222222222222222,
             "#7201a8"
            ],
            [
             0.3333333333333333,
             "#9c179e"
            ],
            [
             0.4444444444444444,
             "#bd3786"
            ],
            [
             0.5555555555555556,
             "#d8576b"
            ],
            [
             0.6666666666666666,
             "#ed7953"
            ],
            [
             0.7777777777777778,
             "#fb9f3a"
            ],
            [
             0.8888888888888888,
             "#fdca26"
            ],
            [
             1,
             "#f0f921"
            ]
           ]
          },
          "colorway": [
           "#636efa",
           "#EF553B",
           "#00cc96",
           "#ab63fa",
           "#FFA15A",
           "#19d3f3",
           "#FF6692",
           "#B6E880",
           "#FF97FF",
           "#FECB52"
          ],
          "font": {
           "color": "#2a3f5f"
          },
          "geo": {
           "bgcolor": "white",
           "lakecolor": "white",
           "landcolor": "white",
           "showlakes": true,
           "showland": true,
           "subunitcolor": "#C8D4E3"
          },
          "hoverlabel": {
           "align": "left"
          },
          "hovermode": "closest",
          "mapbox": {
           "style": "light"
          },
          "paper_bgcolor": "white",
          "plot_bgcolor": "white",
          "polar": {
           "angularaxis": {
            "gridcolor": "#EBF0F8",
            "linecolor": "#EBF0F8",
            "ticks": ""
           },
           "bgcolor": "white",
           "radialaxis": {
            "gridcolor": "#EBF0F8",
            "linecolor": "#EBF0F8",
            "ticks": ""
           }
          },
          "scene": {
           "xaxis": {
            "backgroundcolor": "white",
            "gridcolor": "#DFE8F3",
            "gridwidth": 2,
            "linecolor": "#EBF0F8",
            "showbackground": true,
            "ticks": "",
            "zerolinecolor": "#EBF0F8"
           },
           "yaxis": {
            "backgroundcolor": "white",
            "gridcolor": "#DFE8F3",
            "gridwidth": 2,
            "linecolor": "#EBF0F8",
            "showbackground": true,
            "ticks": "",
            "zerolinecolor": "#EBF0F8"
           },
           "zaxis": {
            "backgroundcolor": "white",
            "gridcolor": "#DFE8F3",
            "gridwidth": 2,
            "linecolor": "#EBF0F8",
            "showbackground": true,
            "ticks": "",
            "zerolinecolor": "#EBF0F8"
           }
          },
          "shapedefaults": {
           "line": {
            "color": "#2a3f5f"
           }
          },
          "ternary": {
           "aaxis": {
            "gridcolor": "#DFE8F3",
            "linecolor": "#A2B1C6",
            "ticks": ""
           },
           "baxis": {
            "gridcolor": "#DFE8F3",
            "linecolor": "#A2B1C6",
            "ticks": ""
           },
           "bgcolor": "white",
           "caxis": {
            "gridcolor": "#DFE8F3",
            "linecolor": "#A2B1C6",
            "ticks": ""
           }
          },
          "title": {
           "x": 0.05
          },
          "xaxis": {
           "automargin": true,
           "gridcolor": "#EBF0F8",
           "linecolor": "#EBF0F8",
           "ticks": "",
           "title": {
            "standoff": 15
           },
           "zerolinecolor": "#EBF0F8",
           "zerolinewidth": 2
          },
          "yaxis": {
           "automargin": true,
           "gridcolor": "#EBF0F8",
           "linecolor": "#EBF0F8",
           "ticks": "",
           "title": {
            "standoff": 15
           },
           "zerolinecolor": "#EBF0F8",
           "zerolinewidth": 2
          }
         }
        },
        "title": {
         "text": "Top 10 Most Frequent Search Terms"
        },
        "xaxis": {
         "anchor": "y",
         "domain": [
          0,
          1
         ],
         "title": {
          "text": "Frequency"
         }
        },
        "yaxis": {
         "anchor": "x",
         "autorange": "reversed",
         "domain": [
          0,
          1
         ],
         "title": {
          "text": "Search Term"
         }
        }
       }
      }
     },
     "metadata": {},
     "output_type": "display_data"
    }
   ],
   "source": [
    "#Top 10 most frequent search terms\n",
    "top_terms = query_df['search_term'].value_counts().head(10).reset_index()\n",
    "top_terms.columns = ['search_term', 'count']\n",
    "\n",
    "\n",
    "fig = px.bar(\n",
    "    top_terms.sort_values('count', ascending=False),\n",
    "    x='count',\n",
    "    y='search_term',\n",
    "    orientation='h',\n",
    "    title='Top 10 Most Frequent Search Terms',\n",
    "    labels={'count': 'Frequency', 'search_term': 'Search Term'},\n",
    "    template='plotly_white'\n",
    ")\n",
    "\n",
    "fig.update_layout(yaxis=dict(autorange='reversed'))  # Highest freq at top\n",
    "fig.show()"
   ]
  },
  {
   "cell_type": "markdown",
   "id": "0d77e67b",
   "metadata": {},
   "source": [
    "### Sample DF Pipeline"
   ]
  },
  {
   "cell_type": "code",
   "execution_count": 85,
   "id": "2f567e8a",
   "metadata": {},
   "outputs": [
    {
     "data": {
      "text/plain": [
       "(741, 4)"
      ]
     },
     "execution_count": 85,
     "metadata": {},
     "output_type": "execute_result"
    }
   ],
   "source": [
    "# --------------------------------------------------------------------------------------------------------\n",
    "# Due to the large size of the dataset, we will sample 1% to prove that the overall pipeline works properly\n",
    "# Should you want to run the entire dataset, please comment the first line and uncomment the second one\n",
    "# ---------------------------------------------------------------------------------------------------------\n",
    "query_df_sample = query_df.sample(frac=0.01, random_state=RS_STATE)\n",
    "# query_df_sample = query_df.copy()\n",
    "query_df_sample.shape"
   ]
  },
  {
   "cell_type": "code",
   "execution_count": 86,
   "id": "da8928b4",
   "metadata": {},
   "outputs": [],
   "source": [
    "data_sample = query_df_sample.merge(\n",
    "    product_descriptions_df,\n",
    "    on=\"product_uid\",\n",
    "    how=\"left\",\n",
    ")\n",
    "data_sample = data_sample[['product_uid', 'product_title', 'product_description', 'search_term', 'relevance']]"
   ]
  },
  {
   "cell_type": "code",
   "execution_count": 87,
   "id": "c0fd2ac1",
   "metadata": {},
   "outputs": [
    {
     "data": {
      "text/html": [
       "<div>\n",
       "<style scoped>\n",
       "    .dataframe tbody tr th:only-of-type {\n",
       "        vertical-align: middle;\n",
       "    }\n",
       "\n",
       "    .dataframe tbody tr th {\n",
       "        vertical-align: top;\n",
       "    }\n",
       "\n",
       "    .dataframe thead th {\n",
       "        text-align: right;\n",
       "    }\n",
       "</style>\n",
       "<table border=\"1\" class=\"dataframe\">\n",
       "  <thead>\n",
       "    <tr style=\"text-align: right;\">\n",
       "      <th></th>\n",
       "      <th>product_uid</th>\n",
       "      <th>product_title</th>\n",
       "      <th>product_description</th>\n",
       "      <th>search_term</th>\n",
       "      <th>relevance</th>\n",
       "    </tr>\n",
       "  </thead>\n",
       "  <tbody>\n",
       "    <tr>\n",
       "      <th>0</th>\n",
       "      <td>110182</td>\n",
       "      <td>Veranda 4 in. x 4 in. x 39 in. Williamsburg De...</td>\n",
       "      <td>The Veranda 4 in. x 4 in. x 39 in. Williamsbur...</td>\n",
       "      <td>stair railing posts anchor</td>\n",
       "      <td>2.33</td>\n",
       "    </tr>\n",
       "    <tr>\n",
       "      <th>1</th>\n",
       "      <td>110076</td>\n",
       "      <td>Whirlpool Top Control Dishwasher in Monochroma...</td>\n",
       "      <td>Get clean dishes every time with this Whirlpoo...</td>\n",
       "      <td>stainless steel electric range and microwave</td>\n",
       "      <td>2.67</td>\n",
       "    </tr>\n",
       "  </tbody>\n",
       "</table>\n",
       "</div>"
      ],
      "text/plain": [
       "   product_uid                                      product_title  \\\n",
       "0       110182  Veranda 4 in. x 4 in. x 39 in. Williamsburg De...   \n",
       "1       110076  Whirlpool Top Control Dishwasher in Monochroma...   \n",
       "\n",
       "                                 product_description  \\\n",
       "0  The Veranda 4 in. x 4 in. x 39 in. Williamsbur...   \n",
       "1  Get clean dishes every time with this Whirlpoo...   \n",
       "\n",
       "                                    search_term  relevance  \n",
       "0                    stair railing posts anchor       2.33  \n",
       "1  stainless steel electric range and microwave       2.67  "
      ]
     },
     "metadata": {},
     "output_type": "display_data"
    },
    {
     "data": {
      "text/plain": [
       "np.float64(2.33)"
      ]
     },
     "metadata": {},
     "output_type": "display_data"
    }
   ],
   "source": [
    "display(data_sample.head(2), data_sample.iloc[0, -1])"
   ]
  },
  {
   "cell_type": "markdown",
   "id": "123c4f1d",
   "metadata": {},
   "source": [
    "#### Preprocessing"
   ]
  },
  {
   "cell_type": "code",
   "execution_count": 88,
   "id": "80395876",
   "metadata": {},
   "outputs": [],
   "source": [
    "# basic text cleaning\n",
    "\n",
    "def clean_text(t:str)->str:\n",
    "    t = str(t).lower()\n",
    "    t = re.sub(r\"&\\w+;|&#\\d+;|<[^>]+>\", \" \", t)       # strip HTML/entities\n",
    "    t = re.sub(r\"[^\\w\\s]\", \" \", t)                   # punctuation → space\n",
    "    t = re.sub(r\"\\b\\d+(?:\\.\\d+)?\\b\", \" \", t)       # remove standalone numbers\n",
    "    return re.sub(r\"\\s+\", \" \", t).strip()\n",
    "\n",
    "# numeric extractor\n",
    "unit_pat = r\"(?P<num>\\d+(?:\\.\\d+)?)\\s*(?:in\\b|inch(?:es)?\\b|cm\\b|mm\\b|ft\\b)\"\n",
    "dim_pat  = r\"(?P<num>\\d+(?:\\.\\d+)?)\\s*[x×]\\s*(?:\\d+(?:\\.\\d+)?)\"\n",
    "noise_re = re.compile(r\"(?:#|sku|model|kit|item)\\s*\\d+\", re.I)\n",
    "CLIP_LOW, CLIP_HIGH = 0, 1_000\n",
    "\n",
    "def extract_nums(s:str):\n",
    "    s2 = noise_re.sub(\" \", str(s))\n",
    "    nums = [float(m.group(\"num\")) for m in re.finditer(unit_pat, s2, flags=re.I)]\n",
    "    nums += [float(m.group(\"num\")) for m in re.finditer(dim_pat, s2, flags=re.I)]\n",
    "    return nums if nums else [np.nan]\n",
    "\n",
    "def num_stats(nums):\n",
    "    a = np.array(nums, dtype=float)\n",
    "    return a.min(), a.max(), a.mean(), a.max()-a.min()\n",
    "\n",
    "# NLP tokenisers\n",
    "snow = SnowballStemmer(\"english\")\n",
    "lemma = WordNetLemmatizer(); _cache={}\n",
    "\n",
    "def wn(tag):\n",
    "    return {'J':wordnet.ADJ,'V':wordnet.VERB,'N':wordnet.NOUN,'R':wordnet.ADV}.get(tag[:1], wordnet.NOUN)\n",
    "\n",
    "def stem_tok(txt:str):\n",
    "    return [snow.stem(w) for w in word_tokenize(txt) if len(w)>2]\n",
    "\n",
    "def lemma_tok(txt:str):\n",
    "    outs=[]\n",
    "    for w,p in pos_tag(word_tokenize(txt)):\n",
    "        if len(w)<3: continue\n",
    "        key=(w,p)\n",
    "        if key not in _cache:\n",
    "            _cache[key]=lemma.lemmatize(w, wn(p))\n",
    "        outs.append(_cache[key])\n",
    "    return outs"
   ]
  },
  {
   "cell_type": "code",
   "execution_count": 89,
   "id": "44605de1",
   "metadata": {},
   "outputs": [
    {
     "name": "stdout",
     "output_type": "stream",
     "text": [
      "Selecting 40 out of 5401 different features as columns in the final table. The rest will be merged into a single text column.\n"
     ]
    }
   ],
   "source": [
    "# Merge tables\n",
    "q   = query_df_sample\n",
    "dsc = product_descriptions_df\n",
    "attr_raw = attributes_df\n",
    "q   = q[[\"product_uid\",\"product_title\",\"search_term\",\"relevance\"]]\n",
    "full = q.merge(dsc, on=\"product_uid\", how=\"left\")\n",
    "\n",
    "# from attr, identify top‑40 attribute names\n",
    "name_counts = attr_raw[\"name\"].value_counts()\n",
    "TOP_NAMES = list((name_counts.head(40).index))\n",
    "print(f\"Selecting 40 out of {name_counts.shape[0]} different features as columns in the final table. The rest will be merged into a single text column.\")\n",
    "\n",
    "# split top vs. other rows\n",
    "attr_top  = attr_raw[attr_raw[\"name\"].isin(TOP_NAMES)].copy()\n",
    "attr_rest = attr_raw[~attr_raw[\"name\"].isin(TOP_NAMES)].copy()\n",
    "\n",
    "# pivot top‑40 attributes\n",
    "attr_top_grp = (\n",
    "    attr_top.groupby([\"product_uid\",\"name\"])[\"value\"]\n",
    "             .apply(lambda vs: \" | \".join(sorted(set(vs.astype(str)))))\n",
    "             .reset_index())\n",
    "attr_wide = attr_top_grp.pivot(index=\"product_uid\", columns=\"name\", values=\"value\").reset_index()\n",
    "\n",
    "# build attrs_text from the rest \n",
    "attr_rest[\"kv\"] = attr_rest[\"name\"]+\": \"+attr_rest[\"value\"].astype(str)\n",
    "attrs_text_df = (\n",
    "    attr_rest.groupby(\"product_uid\")[\"kv\"]\n",
    "              .apply(lambda vs:\" \".join(vs)).reset_index()\n",
    "              .rename(columns={\"kv\":\"attrs_text\"}))\n",
    "\n",
    "# merge attributes into main table\n",
    "full = full.merge(attr_wide, on=\"product_uid\", how=\"left\")\n",
    "full = full.merge(attrs_text_df, on=\"product_uid\", how=\"left\")\n",
    "full[\"attrs_text\"] = full[\"attrs_text\"].fillna(\"\")"
   ]
  },
  {
   "cell_type": "code",
   "execution_count": 90,
   "id": "58a52dab",
   "metadata": {},
   "outputs": [],
   "source": [
    "# initial transformers\n",
    "# keep sparse matrix in float32 to save memory\n",
    "scaler = StandardScaler()\n",
    "short_vec = TfidfVectorizer(max_features=30_000, stop_words=\"english\", tokenizer=stem_tok,  lowercase=False, dtype=np.float32) \n",
    "long_vec  = TfidfVectorizer(max_features=30_000, stop_words=\"english\", tokenizer=lemma_tok, lowercase=False, dtype=np.float32) \n",
    "# character 3–5-gram TF-IDF vectoriser\n",
    "char_vec = TfidfVectorizer(\n",
    "    analyzer=\"char\",\n",
    "    ngram_range=(3, 5),\n",
    "    min_df=2,\n",
    "    sublinear_tf=True,\n",
    "    lowercase=True,\n",
    "    dtype=np.float32 \n",
    ")\n",
    "\n",
    "# helpers\n",
    "def add_numeric_stats(df, src_prefix, txt_series):\n",
    "    # get min, max, mean, span for every row\n",
    "    stats = txt_series.apply(lambda x: num_stats(extract_nums(x)))\n",
    "    cols  = [f\"{src_prefix}_{c}\" for c in (\"min\", \"max\", \"mean\", \"span\")]\n",
    "    stats_df = pd.DataFrame(stats.tolist(),      # 4 numeric cols\n",
    "                            columns=cols,\n",
    "                            index=df.index)\n",
    "\n",
    "    # binary flag → at least one number present\n",
    "    stats_df[f\"{src_prefix}_success\"] = stats_df[cols[0]].notna().astype(int)\n",
    "\n",
    "    # add all 5 columns to df in ONE concat (no fragmentation)\n",
    "    df = pd.concat([df, stats_df], axis=1)\n",
    "\n",
    "    return list(stats_df.columns), df          # ← returns new-col list **and** updated df\n"
   ]
  },
  {
   "cell_type": "code",
   "execution_count": 91,
   "id": "8760ef71",
   "metadata": {},
   "outputs": [],
   "source": [
    "# ---------- featurisation -------------------------------------\n",
    "# ------------------------------------------------------------ #\n",
    "#  SPARSE‑OUTPUT FEATURISER  +  COLUMN‑NAME OPTION             #\n",
    "# ------------------------------------------------------------ #\n",
    "def featurise(\n",
    "    df,\n",
    "    *,                     # keyword‑only\n",
    "    fit=False,\n",
    "    vec_store=None,\n",
    "    k_bm25=1.2,\n",
    "    b_bm25=0.75,\n",
    "    return_columns=False  \n",
    "):\n",
    "    \"\"\"\n",
    "    Parameters\n",
    "    ----------\n",
    "    df : pd.DataFrame\n",
    "    fit : bool                 fit or just transform vectorisers / scaler\n",
    "    vec_store : dict | None    external store for fitted objects\n",
    "    return_columns : bool      if True → return (X, feature_names)\n",
    "\n",
    "    Returns\n",
    "    -------\n",
    "    scipy.sparse.csr_matrix  or  (csr_matrix, list[str])\n",
    "    \"\"\"\n",
    "    # -------------------------------------------------------- #\n",
    "    # 0) CLEAN\n",
    "    df = df.copy()\n",
    "    df[\"title_clean\"] = df[\"product_title\"].fillna(\"\").map(clean_text)\n",
    "    df[\"desc_clean\"]  = df[\"product_description\"].fillna(\"\").map(clean_text)\n",
    "    df[\"attrs_text\"]  = df[\"attrs_text\"].fillna(\"\").map(clean_text)\n",
    "\n",
    "    # -------------------------------------------------------- #\n",
    "    # 1) NUMERIC STATS\n",
    "    t_cols, df = add_numeric_stats(df, \"t\", df[\"product_title\"])\n",
    "    d_cols, df = add_numeric_stats(df, \"d\", df[\"product_description\"])\n",
    "\n",
    "    a_cols = []\n",
    "    for col in TOP_NAMES:\n",
    "        if col in df.columns:\n",
    "            new_cols, df = add_numeric_stats(df, f\"a_{col}\", df[col].fillna(\"\"))\n",
    "            a_cols += new_cols\n",
    "    num_cols = t_cols + d_cols + a_cols   \n",
    "\n",
    "    # -------------------------------------------------------- #\n",
    "    # 2) FIT OBJECTS (once)\n",
    "    store = {} if vec_store is None else vec_store\n",
    "    if fit or (\"idf_s\" not in store):\n",
    "        scaler.fit(df[num_cols])\n",
    "\n",
    "        short_vec.fit(pd.concat([df[\"search_term\"], df[\"title_clean\"]]))\n",
    "        long_vec .fit((df[\"desc_clean\"] + \" \" + df[\"attrs_text\"]).str.strip())\n",
    "        char_vec .fit(pd.concat([df[\"search_term\"], df[\"title_clean\"]]))\n",
    "\n",
    "        store.update({\n",
    "            \"idf_s\": short_vec.idf_[None, :],\n",
    "            \"idf_l\": long_vec.idf_[None, :]\n",
    "        })\n",
    "    idf_s, idf_l = store[\"idf_s\"], store[\"idf_l\"]\n",
    "\n",
    "    # -------------------------------------------------------- #\n",
    "    # 3) NUMERIC  → CSR\n",
    "    num_scaled = scaler.transform(df[num_cols]).astype(np.float32)\n",
    "    num_csr    = sparse.csr_matrix(num_scaled)\n",
    "\n",
    "    # -------------------------------------------------------- #\n",
    "    # 4) TEXT VECTORS (CSR)\n",
    "    q_short = short_vec.transform(df[\"search_term\"])\n",
    "    tit     = short_vec.transform(df[\"title_clean\"])\n",
    "\n",
    "    blob    = (df[\"desc_clean\"] + \" \" + df[\"attrs_text\"]).str.strip()\n",
    "    lng     = long_vec.transform(blob)\n",
    "    q_long  = long_vec.transform(df[\"search_term\"])\n",
    "\n",
    "    q_char  = char_vec.transform(df[\"search_term\"])\n",
    "    tit_char= char_vec.transform(df[\"title_clean\"])\n",
    "\n",
    "    # -------------------------------------------------------- #\n",
    "    # 5) COSINE + BM25  → 1‑col CSR\n",
    "    colnames_dense = [\"cos_t\", \"cos_l\", \"bm25_t\", \"bm25_l\", \"cos_char\"]\n",
    "\n",
    "    def csr_col(x):\n",
    "        return sparse.csr_matrix(x.reshape(-1, 1), dtype=np.float32)\n",
    "\n",
    "    cos_t    = csr_col(q_short.multiply(tit     ).sum(axis=1).A.ravel())\n",
    "    cos_l    = csr_col(q_long .multiply(lng     ).sum(axis=1).A.ravel())\n",
    "    cos_char = csr_col(q_char .multiply(tit_char).sum(axis=1).A.ravel())\n",
    "\n",
    "    def bm25(qm, dm, idf):\n",
    "        dl   = np.asarray(dm.sum(axis=1)).ravel()\n",
    "        avdl = dl.mean()\n",
    "        denom = dm + k_bm25 * (1 - b_bm25 + b_bm25 * dl / avdl)[:, None]\n",
    "        return (dm.multiply(k_bm25 + 1) / denom).multiply(qm).dot(idf.T)\n",
    "\n",
    "    bm25_t  = csr_col(bm25(q_short, tit,  idf_s))\n",
    "    bm25_l  = csr_col(bm25(q_long , lng, idf_l))\n",
    "\n",
    "\n",
    "    # -------------------------------------------------------- #\n",
    "    # 6) STACK\n",
    "    X_sparse = sparse.hstack(\n",
    "        [cos_t, cos_l, bm25_t, bm25_l, cos_char, num_csr],\n",
    "        format=\"csr\"\n",
    "    )\n",
    "\n",
    "    if return_columns:\n",
    "        feature_names = colnames_dense + num_cols\n",
    "        return X_sparse, feature_names\n",
    "    return X_sparse\n"
   ]
  },
  {
   "cell_type": "markdown",
   "id": "8579523c",
   "metadata": {},
   "source": [
    "#### Train Test Split"
   ]
  },
  {
   "cell_type": "code",
   "execution_count": 92,
   "id": "c32d2062",
   "metadata": {},
   "outputs": [
    {
     "name": "stdout",
     "output_type": "stream",
     "text": [
      "dev rows: (590, 46)    test rows: (151, 46)\n"
     ]
    }
   ],
   "source": [
    "# split \"full\" into dev/test sets\n",
    "split_outer = GroupShuffleSplit(test_size=0.20, random_state=RS_STATE)\n",
    "dev_idx, test_idx = next(split_outer.split(full, groups=full[\"search_term\"]))\n",
    "\n",
    "dev_df   = full.iloc[dev_idx].reset_index(drop=True)\n",
    "test_df  = full.iloc[test_idx].reset_index(drop=True)\n",
    "\n",
    "y_dev    = dev_df[\"relevance\"].values\n",
    "y_test   = test_df[\"relevance\"].values\n",
    "grp_dev  = dev_df[\"search_term\"]\n",
    "grp_test = test_df[\"search_term\"]\n",
    "\n",
    "print(f\"dev rows: {dev_df.shape}    test rows: {test_df.shape}\")"
   ]
  },
  {
   "cell_type": "code",
   "execution_count": 93,
   "id": "5a1dd1d7",
   "metadata": {},
   "outputs": [],
   "source": [
    "def infer_max_splits_from_df(df, group_col, test_size=0.2, min_test_groups=1):\n",
    "    \"\"\"\n",
    "    Infer the max number of GroupShuffleSplit-compatible splits \n",
    "    based on the number of unique groups in a dataframe.\n",
    "\n",
    "    Parameters:\n",
    "        df (pd.DataFrame): Your full dataframe.\n",
    "        group_col (str): Column name containing the grouping identifier.\n",
    "        test_size (float): Fraction of groups to assign to test per split.\n",
    "        min_test_groups (int): Minimum number of groups required in test set.\n",
    "\n",
    "    Returns:\n",
    "        int: Estimated safe max number of disjoint splits.\n",
    "    \"\"\"\n",
    "    unique_groups = df[group_col].nunique()\n",
    "    test_group_count = int(unique_groups * test_size)\n",
    "\n",
    "    if test_group_count < min_test_groups:\n",
    "        raise ValueError(\"Too few groups to form a meaningful test set.\")\n",
    "\n",
    "    max_disjoint_splits = unique_groups // test_group_count\n",
    "\n",
    "    return max_disjoint_splits\n"
   ]
  },
  {
   "cell_type": "code",
   "execution_count": 94,
   "id": "ed4c2404",
   "metadata": {},
   "outputs": [
    {
     "name": "stdout",
     "output_type": "stream",
     "text": [
      "Max disjoint splits possible: 5\n"
     ]
    }
   ],
   "source": [
    "print(f'Max disjoint splits possible: {infer_max_splits_from_df(dev_df, \"search_term\", test_size=0.2, min_test_groups=5)}')"
   ]
  },
  {
   "cell_type": "markdown",
   "id": "4f935a1c",
   "metadata": {},
   "source": [
    "#### Critical Pipeline encapsulation\n",
    "1) Bayesian hyper parameter optimization\n",
    "2) Cross validation to train the model and obtain RMSE distribution"
   ]
  },
  {
   "cell_type": "code",
   "execution_count": 95,
   "id": "c7a0562f",
   "metadata": {},
   "outputs": [],
   "source": [
    "# --------------------- helper utilities -------------------------\n",
    "def rmse(y_true, y_pred):\n",
    "    return np.sqrt(mean_squared_error(y_true, y_pred))\n",
    "\n",
    "def _cast_int(d):\n",
    "    for k, v in list(d.items()):\n",
    "        if isinstance(v, float) and v.is_integer():\n",
    "            d[k] = int(v)\n",
    "    return d\n",
    "\n",
    "def _xgb_supports(arg: str) -> bool:\n",
    "    return arg in inspect.signature(xgb.XGBRegressor.fit).parameters\n",
    "\n",
    "# =================================================================\n",
    "class MultiModelPipeline:\n",
    "    # -------------------------------------------------------------\n",
    "    def __init__(self, full_df: pd.DataFrame,\n",
    "                 target_col=\"relevance\",\n",
    "                 group_col=\"search_term\",\n",
    "                 rs: int = 42):\n",
    "        self.full   = full_df.copy().reset_index(drop=True)\n",
    "        self.target = target_col\n",
    "        self.groups = self.full[group_col]\n",
    "        self.RS     = rs\n",
    "\n",
    "        self.best_params = {}   # model → param dict\n",
    "        self.split_rmses = {}   # model → list[rmse]\n",
    "\n",
    "    # ------------------ search space ----------------------------\n",
    "    @staticmethod\n",
    "    def _space():\n",
    "        return {\n",
    "            \"lgb\": {\n",
    "                \"num_leaves\": hp.quniform(\"lgb_num_leaves\", 16, 512, 8),\n",
    "                \"max_depth\": hp.quniform(\"lgb_max_depth\", 4, 50, 1),\n",
    "                \"learning_rate\": hp.loguniform(\"lgb_lr\", np.log(0.005), np.log(0.15)),\n",
    "                \"n_estimators\": hp.quniform(\"lgb_n\", 400, 1600, 100),\n",
    "                \"min_child_samples\": hp.quniform(\"lgb_mcs\", 3, 80, 5),\n",
    "                \"boosting_type\": hp.choice(\"lgb_boost\", [\"gbdt\", \"dart\"]),\n",
    "                \"subsample\": hp.uniform(\"lgb_sub\", 0.5, 1.0),\n",
    "                \"colsample_bytree\": hp.uniform(\"lgb_col\", 0.5, 1.0),\n",
    "                \"subsample_freq\": hp.quniform(\"lgb_freq\", 1, 7, 1),\n",
    "                \"reg_alpha\": hp.loguniform(\"lgb_alpha\", np.log(1e-3), np.log(50)),\n",
    "                \"reg_lambda\": hp.loguniform(\"lgb_lambda\", np.log(1e-3), np.log(50)),\n",
    "            },\n",
    "            \"xgb\": {\n",
    "                \"max_depth\": hp.quniform(\"xgb_depth\", 3, 20, 1),\n",
    "                \"learning_rate\": hp.loguniform(\"xgb_lr\", np.log(0.005), np.log(0.3)),\n",
    "                \"n_estimators\": hp.quniform(\"xgb_n\", 400, 2000, 100),\n",
    "                \"subsample\": hp.uniform(\"xgb_sub\", 0.5, 1.0),\n",
    "                \"colsample_bytree\": hp.uniform(\"xgb_col\", 0.5, 1.0),\n",
    "                \"gamma\": hp.uniform(\"xgb_gamma\", 0, 5),\n",
    "                \"reg_alpha\": hp.loguniform(\"xgb_alpha\", np.log(1e-3), np.log(50)),\n",
    "                \"reg_lambda\": hp.loguniform(\"xgb_lambda\", np.log(1e-3), np.log(50)),\n",
    "            },\n",
    "            \"cat\": {\n",
    "                \"iterations\": hp.quniform(\"cat_iter\", 500, 3000, 200),\n",
    "                \"depth\": hp.quniform(\"cat_depth\", 4, 14, 1),\n",
    "                \"learning_rate\": hp.loguniform(\"cat_lr\", np.log(0.005), np.log(0.3)),\n",
    "                \"l2_leaf_reg\": hp.loguniform(\"cat_l2\", np.log(1e-3), np.log(50)),\n",
    "                \"subsample\": hp.uniform(\"cat_sub\", 0.5, 1.0),\n",
    "                \"bagging_temperature\": hp.uniform(\"cat_bt\", 0, 1),\n",
    "            },\n",
    "        }\n",
    "\n",
    "    # ------------------ Inner CV Hyper Parameter tuning -------------------------\n",
    "    def _tune(self, key, max_evals):\n",
    "        space = self._space()[key]\n",
    "        gkf   = GroupKFold(n_splits=5)\n",
    "\n",
    "        def objective(p):\n",
    "            p = _cast_int(p)\n",
    "            rmses, rounds = [], []\n",
    "\n",
    "            for tr_idx, va_idx in gkf.split(self.full, groups=self.groups):\n",
    "                tr_df, va_df = self.full.iloc[tr_idx], self.full.iloc[va_idx]\n",
    "                vec = {}\n",
    "                X_tr = featurise(tr_df, fit=True,  vec_store=vec)\n",
    "                X_va = featurise(va_df, fit=False, vec_store=vec)\n",
    "                y_tr, y_va = tr_df[self.target], va_df[self.target]\n",
    "\n",
    "                if key == \"lgb\":\n",
    "                    mdl = lgb.LGBMRegressor(**p, objective=\"regression\",\n",
    "                                            metric=\"rmse\", random_state=self.RS,\n",
    "                                            n_jobs=-1)\n",
    "                    mdl.fit(X_tr, y_tr, eval_set=[(X_va, y_va)],\n",
    "                            eval_metric=\"rmse\",\n",
    "                            callbacks=[lgb.early_stopping(50)])\n",
    "                    rounds.append(mdl.best_iteration_)\n",
    "                elif key == \"xgb\":\n",
    "                    mdl = xgb.XGBRegressor(**p, objective=\"reg:squarederror\",\n",
    "                                           random_state=self.RS,\n",
    "                                           tree_method=\"hist\", n_jobs=-1)\n",
    "                    fit_kw = dict(eval_set=[(X_va, y_va)], verbose=False)\n",
    "                    if _xgb_supports(\"callbacks\"):\n",
    "                        fit_kw[\"callbacks\"] = [xgb.callback.EarlyStopping(50)]\n",
    "                    elif _xgb_supports(\"early_stopping_rounds\"):\n",
    "                        fit_kw[\"early_stopping_rounds\"] = 50\n",
    "                    mdl.fit(X_tr, y_tr, **fit_kw)\n",
    "                    rounds.append(getattr(mdl, \"best_iteration\", p[\"n_estimators\"]))\n",
    "                else:\n",
    "                    mdl = CatBoostRegressor(**p, loss_function=\"RMSE\",\n",
    "                                            random_seed=self.RS, verbose=False)\n",
    "                    mdl.fit(X_tr, y_tr, eval_set=(X_va, y_va),\n",
    "                            early_stopping_rounds=50, use_best_model=True)\n",
    "                    rounds.append(mdl.get_best_iteration())\n",
    "\n",
    "                rmses.append(rmse(y_va, mdl.predict(X_va)))\n",
    "\n",
    "            return {\"loss\": np.mean(rmses),\n",
    "                    \"status\": STATUS_OK,\n",
    "                    \"best_round\": int(np.mean(rounds))}\n",
    "\n",
    "        trials = Trials()\n",
    "        best   = fmin(objective, space, algo=tpe.suggest,\n",
    "                      max_evals=max_evals, trials=trials,\n",
    "                      rstate=np.random.default_rng(self.RS))\n",
    "        bp = space_eval(space, best)\n",
    "        br = trials.best_trial[\"result\"][\"best_round\"]\n",
    "        bp[\"n_estimators\" if key != \"cat\" else \"iterations\"] = int(br)\n",
    "        self.best_params[key] = bp\n",
    "\n",
    "    # ------------------ Outer CV fit + score -----------------------\n",
    "    def _model_rmse(self, key, params, X_tr, y_tr, X_va, y_va):\n",
    "        params = _cast_int(params)\n",
    "        \"\"\"Train a single model on pre‑built feature matrices and return RMSE.\"\"\"\n",
    "        if key == \"lgb\":\n",
    "            mdl = lgb.LGBMRegressor(**params, objective=\"regression\",\n",
    "                                    random_state=self.RS, n_jobs=-1)\n",
    "        elif key == \"xgb\":\n",
    "            mdl = xgb.XGBRegressor(**params, objective=\"reg:squarederror\",\n",
    "                                   random_state=self.RS, tree_method=\"hist\",\n",
    "                                   n_jobs=-1)\n",
    "        else:\n",
    "            mdl = CatBoostRegressor(**params, loss_function=\"RMSE\",\n",
    "                                    random_seed=self.RS, verbose=False)\n",
    "        mdl.fit(X_tr, y_tr)\n",
    "        return rmse(y_va, mdl.predict(X_va))\n",
    "    # ------------------ public driver ---------------------------\n",
    "    def run_all(self, keys=None, *, hpo_evals=40, repeats=10):\n",
    "        keys = keys or list(self._space().keys())\n",
    "\n",
    "        # 1) inner tuning\n",
    "        for k in keys:\n",
    "            self._tune(k, hpo_evals)\n",
    "            self.split_rmses[k] = []\n",
    "\n",
    "        # 2) Outer evaluation (sequential)\n",
    "        gss = GroupShuffleSplit(n_splits=5 * repeats, test_size=0.2,\n",
    "                                random_state=self.RS + 123)\n",
    "\n",
    "        for tr_idx, va_idx in gss.split(self.full, groups=self.groups):\n",
    "            # --- build features once for this split ------------------\n",
    "            tr_df, va_df = self.full.iloc[tr_idx], self.full.iloc[va_idx]\n",
    "            vec = {}\n",
    "            X_tr = featurise(tr_df, fit=True,  vec_store=vec)\n",
    "            X_va = featurise(va_df, fit=False, vec_store=vec)\n",
    "            y_tr, y_va = tr_df[self.target].values, va_df[self.target].values\n",
    "\n",
    "            # --- evaluate each model on the same matrices ------------\n",
    "            for k in keys:\n",
    "                rmse_val = self._model_rmse(k,\n",
    "                                            self.best_params[k],\n",
    "                                            X_tr, y_tr, X_va, y_va)\n",
    "                self.split_rmses[k].append(rmse_val)\n",
    "     # ------------------ bootstrap error dist --------------------\n",
    "    def bootstrap_distribution(self, B=1000, random_state=42):\n",
    "        \"\"\"\n",
    "        Returns a dictionary of bootstrapped mean RMSEs (length=B)\n",
    "        for each model using the outer CV split_rmses.\n",
    "        \"\"\"\n",
    "        rng = np.random.default_rng(random_state)\n",
    "        boot = {}\n",
    "\n",
    "        for model, errors in self.split_rmses.items():\n",
    "            errors = np.asarray(errors)\n",
    "            n = len(errors)\n",
    "            idx = rng.integers(0, n, size=(B, n))\n",
    "            boot[model] = errors[idx].mean(axis=1)\n",
    "\n",
    "        return boot\n",
    "    # ------------------ export ----------------------------------\n",
    "    def export_files(self, out_dir=\"results\", bs_size=200):\n",
    "        os.makedirs(out_dir, exist_ok=True)\n",
    "        with open(os.path.join(out_dir, \"best_params.json\"), \"w\") as fp:\n",
    "            json.dump(self.best_params, fp, indent=2)\n",
    "\n",
    "        rows = ({\"model\": m, \"split_no\": i, \"rmse\": v}\n",
    "                for m, lst in self.split_rmses.items()\n",
    "                for i, v in enumerate(lst, 1))\n",
    "        pd.DataFrame(rows).to_csv(\n",
    "            os.path.join(out_dir, \"rmse_distribution.csv\"), index=False\n",
    "        )\n",
    "        # Export bootstrapped distribution\n",
    "        boot = self.bootstrap_distribution(B = bs_size, random_state=123)\n",
    "        rows = ({\"model\": m, \"resample_no\": i, \"rmse\": v}\n",
    "                for m, vals in boot.items()\n",
    "                for i, v in enumerate(vals, 1))\n",
    "        pd.DataFrame(rows).to_csv(\n",
    "            os.path.join(out_dir, \"rmse_bootstrap.csv\"), index=False\n",
    "        )\n",
    "        return out_dir\n",
    "    "
   ]
  },
  {
   "cell_type": "markdown",
   "id": "1f66f0ab",
   "metadata": {},
   "source": [
    "#### Pipeline Execution"
   ]
  },
  {
   "cell_type": "code",
   "execution_count": 96,
   "id": "9b3cf297",
   "metadata": {},
   "outputs": [
    {
     "name": "stdout",
     "output_type": "stream",
     "text": [
      "100%|██████████| 1/1 [01:18<00:00, 78.51s/trial, best loss: 0.5191827639875429]\n",
      "100%|██████████| 1/1 [02:19<00:00, 139.24s/trial, best loss: 0.5143042904460444]\n",
      "[LightGBM] [Info] Auto-choosing col-wise multi-threading, the overhead of testing was 0.000477 seconds.\n",
      "You can set `force_col_wise=true` to remove the overhead.\n",
      "[LightGBM] [Info] Total Bins 1319                    \n",
      "[LightGBM] [Info] Number of data points in the train set: 472, number of used features: 30\n",
      "[LightGBM] [Info] Start training from score 2.369322 \n",
      "[LightGBM] [Warning] No further splits with positive gain, best gain: -inf\n",
      "Training until validation scores don't improve for 50 rounds\n",
      "[LightGBM] [Warning] No further splits with positive gain, best gain: -inf\n",
      "[LightGBM] [Warning] No further splits with positive gain, best gain: -inf\n",
      "[LightGBM] [Warning] No further splits with positive gain, best gain: -inf\n",
      "[LightGBM] [Warning] No further splits with positive gain, best gain: -inf\n",
      "[LightGBM] [Warning] No further splits with positive gain, best gain: -inf\n",
      "[LightGBM] [Warning] No further splits with positive gain, best gain: -inf\n",
      "[LightGBM] [Warning] No further splits with positive gain, best gain: -inf\n",
      "[LightGBM] [Warning] No further splits with positive gain, best gain: -inf\n",
      "[LightGBM] [Warning] No further splits with positive gain, best gain: -inf\n",
      "[LightGBM] [Warning] No further splits with positive gain, best gain: -inf\n",
      "[LightGBM] [Warning] No further splits with positive gain, best gain: -inf\n",
      "[LightGBM] [Warning] No further splits with positive gain, best gain: -inf\n",
      "[LightGBM] [Warning] No further splits with positive gain, best gain: -inf\n",
      "[LightGBM] [Warning] No further splits with positive gain, best gain: -inf\n",
      "[LightGBM] [Warning] No further splits with positive gain, best gain: -inf\n",
      "[LightGBM] [Warning] No further splits with positive gain, best gain: -inf\n",
      "[LightGBM] [Warning] No further splits with positive gain, best gain: -inf\n",
      "[LightGBM] [Warning] No further splits with positive gain, best gain: -inf\n",
      "[LightGBM] [Warning] No further splits with positive gain, best gain: -inf\n",
      "[LightGBM] [Warning] No further splits with positive gain, best gain: -inf\n",
      "[LightGBM] [Warning] No further splits with positive gain, best gain: -inf\n",
      "[LightGBM] [Warning] No further splits with positive gain, best gain: -inf\n",
      "[LightGBM] [Warning] No further splits with positive gain, best gain: -inf\n",
      "[LightGBM] [Warning] No further splits with positive gain, best gain: -inf\n",
      "[LightGBM] [Warning] No further splits with positive gain, best gain: -inf\n",
      "[LightGBM] [Warning] No further splits with positive gain, best gain: -inf\n",
      "[LightGBM] [Warning] No further splits with positive gain, best gain: -inf\n",
      "[LightGBM] [Warning] No further splits with positive gain, best gain: -inf\n",
      "[LightGBM] [Warning] No further splits with positive gain, best gain: -inf\n",
      "[LightGBM] [Warning] No further splits with positive gain, best gain: -inf\n",
      "[LightGBM] [Warning] No further splits with positive gain, best gain: -inf\n",
      "[LightGBM] [Warning] No further splits with positive gain, best gain: -inf\n",
      "[LightGBM] [Warning] No further splits with positive gain, best gain: -inf\n",
      "[LightGBM] [Warning] No further splits with positive gain, best gain: -inf\n",
      "[LightGBM] [Warning] No further splits with positive gain, best gain: -inf\n",
      "[LightGBM] [Warning] No further splits with positive gain, best gain: -inf\n",
      "[LightGBM] [Warning] No further splits with positive gain, best gain: -inf\n",
      "[LightGBM] [Warning] No further splits with positive gain, best gain: -inf\n",
      "[LightGBM] [Warning] No further splits with positive gain, best gain: -inf\n",
      "[LightGBM] [Warning] No further splits with positive gain, best gain: -inf\n",
      "[LightGBM] [Warning] No further splits with positive gain, best gain: -inf\n",
      "[LightGBM] [Warning] No further splits with positive gain, best gain: -inf\n",
      "[LightGBM] [Warning] No further splits with positive gain, best gain: -inf\n",
      "[LightGBM] [Warning] No further splits with positive gain, best gain: -inf\n",
      "[LightGBM] [Warning] No further splits with positive gain, best gain: -inf\n",
      "[LightGBM] [Warning] No further splits with positive gain, best gain: -inf\n",
      "[LightGBM] [Warning] No further splits with positive gain, best gain: -inf\n",
      "[LightGBM] [Warning] No further splits with positive gain, best gain: -inf\n",
      "[LightGBM] [Warning] No further splits with positive gain, best gain: -inf\n",
      "[LightGBM] [Warning] No further splits with positive gain, best gain: -inf\n",
      "[LightGBM] [Warning] No further splits with positive gain, best gain: -inf\n",
      "[LightGBM] [Warning] No further splits with positive gain, best gain: -inf\n",
      "[LightGBM] [Warning] No further splits with positive gain, best gain: -inf\n",
      "[LightGBM] [Warning] No further splits with positive gain, best gain: -inf\n",
      "[LightGBM] [Warning] No further splits with positive gain, best gain: -inf\n",
      "[LightGBM] [Warning] No further splits with positive gain, best gain: -inf\n",
      "[LightGBM] [Warning] No further splits with positive gain, best gain: -inf\n",
      "[LightGBM] [Warning] No further splits with positive gain, best gain: -inf\n",
      "[LightGBM] [Warning] No further splits with positive gain, best gain: -inf\n",
      "[LightGBM] [Warning] No further splits with positive gain, best gain: -inf\n",
      "[LightGBM] [Warning] No further splits with positive gain, best gain: -inf\n",
      "[LightGBM] [Warning] No further splits with positive gain, best gain: -inf\n",
      "[LightGBM] [Warning] No further splits with positive gain, best gain: -inf\n",
      "[LightGBM] [Warning] No further splits with positive gain, best gain: -inf\n",
      "[LightGBM] [Warning] No further splits with positive gain, best gain: -inf\n",
      "[LightGBM] [Warning] No further splits with positive gain, best gain: -inf\n",
      "[LightGBM] [Warning] No further splits with positive gain, best gain: -inf\n",
      "[LightGBM] [Warning] No further splits with positive gain, best gain: -inf\n",
      "[LightGBM] [Warning] No further splits with positive gain, best gain: -inf\n",
      "[LightGBM] [Warning] No further splits with positive gain, best gain: -inf\n",
      "[LightGBM] [Warning] No further splits with positive gain, best gain: -inf\n",
      "[LightGBM] [Warning] No further splits with positive gain, best gain: -inf\n",
      "[LightGBM] [Warning] No further splits with positive gain, best gain: -inf\n",
      "[LightGBM] [Warning] No further splits with positive gain, best gain: -inf\n",
      "[LightGBM] [Warning] No further splits with positive gain, best gain: -inf\n",
      "[LightGBM] [Warning] No further splits with positive gain, best gain: -inf\n",
      "[LightGBM] [Warning] No further splits with positive gain, best gain: -inf\n",
      "[LightGBM] [Warning] No further splits with positive gain, best gain: -inf\n",
      "[LightGBM] [Warning] No further splits with positive gain, best gain: -inf\n",
      "[LightGBM] [Warning] No further splits with positive gain, best gain: -inf\n",
      "[LightGBM] [Warning] No further splits with positive gain, best gain: -inf\n",
      "[LightGBM] [Warning] No further splits with positive gain, best gain: -inf\n",
      "[LightGBM] [Warning] No further splits with positive gain, best gain: -inf\n",
      "[LightGBM] [Warning] No further splits with positive gain, best gain: -inf\n",
      "[LightGBM] [Warning] No further splits with positive gain, best gain: -inf\n",
      "[LightGBM] [Warning] No further splits with positive gain, best gain: -inf\n",
      "[LightGBM] [Warning] No further splits with positive gain, best gain: -inf\n",
      "[LightGBM] [Warning] No further splits with positive gain, best gain: -inf\n",
      "[LightGBM] [Warning] No further splits with positive gain, best gain: -inf\n",
      "[LightGBM] [Warning] No further splits with positive gain, best gain: -inf\n",
      "[LightGBM] [Warning] No further splits with positive gain, best gain: -inf\n",
      "[LightGBM] [Warning] No further splits with positive gain, best gain: -inf\n",
      "[LightGBM] [Warning] No further splits with positive gain, best gain: -inf\n",
      "[LightGBM] [Warning] No further splits with positive gain, best gain: -inf\n",
      "[LightGBM] [Warning] No further splits with positive gain, best gain: -inf\n",
      "[LightGBM] [Warning] No further splits with positive gain, best gain: -inf\n",
      "[LightGBM] [Warning] No further splits with positive gain, best gain: -inf\n",
      "[LightGBM] [Warning] No further splits with positive gain, best gain: -inf\n",
      "[LightGBM] [Warning] No further splits with positive gain, best gain: -inf\n",
      "[LightGBM] [Warning] No further splits with positive gain, best gain: -inf\n",
      "[LightGBM] [Warning] No further splits with positive gain, best gain: -inf\n",
      "[LightGBM] [Warning] No further splits with positive gain, best gain: -inf\n",
      "[LightGBM] [Warning] No further splits with positive gain, best gain: -inf\n",
      "[LightGBM] [Warning] No further splits with positive gain, best gain: -inf\n",
      "[LightGBM] [Warning] No further splits with positive gain, best gain: -inf\n",
      "[LightGBM] [Warning] No further splits with positive gain, best gain: -inf\n",
      "Early stopping, best iteration is:                   \n",
      "[57]\tvalid_0's rmse: 0.485988\n",
      "[LightGBM] [Info] Auto-choosing col-wise multi-threading, the overhead of testing was 0.000466 seconds.\n",
      "You can set `force_col_wise=true` to remove the overhead.\n",
      "[LightGBM] [Info] Total Bins 1317                    \n",
      "[LightGBM] [Info] Number of data points in the train set: 472, number of used features: 30\n",
      "[LightGBM] [Info] Start training from score 2.374958 \n",
      "[LightGBM] [Warning] No further splits with positive gain, best gain: -inf\n",
      "Training until validation scores don't improve for 50 rounds\n",
      "[LightGBM] [Warning] No further splits with positive gain, best gain: -inf\n",
      "[LightGBM] [Warning] No further splits with positive gain, best gain: -inf\n",
      "[LightGBM] [Warning] No further splits with positive gain, best gain: -inf\n",
      "[LightGBM] [Warning] No further splits with positive gain, best gain: -inf\n",
      "[LightGBM] [Warning] No further splits with positive gain, best gain: -inf\n",
      "[LightGBM] [Warning] No further splits with positive gain, best gain: -inf\n",
      "[LightGBM] [Warning] No further splits with positive gain, best gain: -inf\n",
      "[LightGBM] [Warning] No further splits with positive gain, best gain: -inf\n",
      "[LightGBM] [Warning] No further splits with positive gain, best gain: -inf\n",
      "[LightGBM] [Warning] No further splits with positive gain, best gain: -inf\n",
      "[LightGBM] [Warning] No further splits with positive gain, best gain: -inf\n",
      "[LightGBM] [Warning] No further splits with positive gain, best gain: -inf\n",
      "[LightGBM] [Warning] No further splits with positive gain, best gain: -inf\n",
      "[LightGBM] [Warning] No further splits with positive gain, best gain: -inf\n",
      "[LightGBM] [Warning] No further splits with positive gain, best gain: -inf\n",
      "[LightGBM] [Warning] No further splits with positive gain, best gain: -inf\n",
      "[LightGBM] [Warning] No further splits with positive gain, best gain: -inf\n",
      "[LightGBM] [Warning] No further splits with positive gain, best gain: -inf\n",
      "[LightGBM] [Warning] No further splits with positive gain, best gain: -inf\n",
      "[LightGBM] [Warning] No further splits with positive gain, best gain: -inf\n",
      "[LightGBM] [Warning] No further splits with positive gain, best gain: -inf\n",
      "[LightGBM] [Warning] No further splits with positive gain, best gain: -inf\n",
      "[LightGBM] [Warning] No further splits with positive gain, best gain: -inf\n",
      "[LightGBM] [Warning] No further splits with positive gain, best gain: -inf\n",
      "[LightGBM] [Warning] No further splits with positive gain, best gain: -inf\n",
      "[LightGBM] [Warning] No further splits with positive gain, best gain: -inf\n",
      "[LightGBM] [Warning] No further splits with positive gain, best gain: -inf\n",
      "[LightGBM] [Warning] No further splits with positive gain, best gain: -inf\n",
      "[LightGBM] [Warning] No further splits with positive gain, best gain: -inf\n",
      "[LightGBM] [Warning] No further splits with positive gain, best gain: -inf\n",
      "[LightGBM] [Warning] No further splits with positive gain, best gain: -inf\n",
      "[LightGBM] [Warning] No further splits with positive gain, best gain: -inf\n",
      "[LightGBM] [Warning] No further splits with positive gain, best gain: -inf\n",
      "[LightGBM] [Warning] No further splits with positive gain, best gain: -inf\n",
      "[LightGBM] [Warning] No further splits with positive gain, best gain: -inf\n",
      "[LightGBM] [Warning] No further splits with positive gain, best gain: -inf\n",
      "[LightGBM] [Warning] No further splits with positive gain, best gain: -inf\n",
      "[LightGBM] [Warning] No further splits with positive gain, best gain: -inf\n",
      "[LightGBM] [Warning] No further splits with positive gain, best gain: -inf\n",
      "[LightGBM] [Warning] No further splits with positive gain, best gain: -inf\n",
      "[LightGBM] [Warning] No further splits with positive gain, best gain: -inf\n",
      "[LightGBM] [Warning] No further splits with positive gain, best gain: -inf\n",
      "[LightGBM] [Warning] No further splits with positive gain, best gain: -inf\n",
      "[LightGBM] [Warning] No further splits with positive gain, best gain: -inf\n",
      "[LightGBM] [Warning] No further splits with positive gain, best gain: -inf\n",
      "[LightGBM] [Warning] No further splits with positive gain, best gain: -inf\n",
      "[LightGBM] [Warning] No further splits with positive gain, best gain: -inf\n",
      "[LightGBM] [Warning] No further splits with positive gain, best gain: -inf\n",
      "[LightGBM] [Warning] No further splits with positive gain, best gain: -inf\n",
      "[LightGBM] [Warning] No further splits with positive gain, best gain: -inf\n",
      "[LightGBM] [Warning] No further splits with positive gain, best gain: -inf\n",
      "[LightGBM] [Warning] No further splits with positive gain, best gain: -inf\n",
      "[LightGBM] [Warning] No further splits with positive gain, best gain: -inf\n",
      "[LightGBM] [Warning] No further splits with positive gain, best gain: -inf\n",
      "[LightGBM] [Warning] No further splits with positive gain, best gain: -inf\n",
      "[LightGBM] [Warning] No further splits with positive gain, best gain: -inf\n",
      "[LightGBM] [Warning] No further splits with positive gain, best gain: -inf\n",
      "[LightGBM] [Warning] No further splits with positive gain, best gain: -inf\n",
      "[LightGBM] [Warning] No further splits with positive gain, best gain: -inf\n",
      "[LightGBM] [Warning] No further splits with positive gain, best gain: -inf\n",
      "[LightGBM] [Warning] No further splits with positive gain, best gain: -inf\n",
      "[LightGBM] [Warning] No further splits with positive gain, best gain: -inf\n",
      "[LightGBM] [Warning] No further splits with positive gain, best gain: -inf\n",
      "[LightGBM] [Warning] No further splits with positive gain, best gain: -inf\n",
      "[LightGBM] [Warning] No further splits with positive gain, best gain: -inf\n",
      "[LightGBM] [Warning] No further splits with positive gain, best gain: -inf\n",
      "[LightGBM] [Warning] No further splits with positive gain, best gain: -inf\n",
      "[LightGBM] [Warning] No further splits with positive gain, best gain: -inf\n",
      "[LightGBM] [Warning] No further splits with positive gain, best gain: -inf\n",
      "[LightGBM] [Warning] No further splits with positive gain, best gain: -inf\n",
      "[LightGBM] [Warning] No further splits with positive gain, best gain: -inf\n",
      "[LightGBM] [Warning] No further splits with positive gain, best gain: -inf\n",
      "[LightGBM] [Warning] No further splits with positive gain, best gain: -inf\n",
      "[LightGBM] [Warning] No further splits with positive gain, best gain: -inf\n",
      "[LightGBM] [Warning] No further splits with positive gain, best gain: -inf\n",
      "[LightGBM] [Warning] No further splits with positive gain, best gain: -inf\n",
      "[LightGBM] [Warning] No further splits with positive gain, best gain: -inf\n",
      "[LightGBM] [Warning] No further splits with positive gain, best gain: -inf\n",
      "[LightGBM] [Warning] No further splits with positive gain, best gain: -inf\n",
      "[LightGBM] [Warning] No further splits with positive gain, best gain: -inf\n",
      "[LightGBM] [Warning] No further splits with positive gain, best gain: -inf\n",
      "[LightGBM] [Warning] No further splits with positive gain, best gain: -inf\n",
      "[LightGBM] [Warning] No further splits with positive gain, best gain: -inf\n",
      "[LightGBM] [Warning] No further splits with positive gain, best gain: -inf\n",
      "[LightGBM] [Warning] No further splits with positive gain, best gain: -inf\n",
      "[LightGBM] [Warning] No further splits with positive gain, best gain: -inf\n",
      "[LightGBM] [Warning] No further splits with positive gain, best gain: -inf\n",
      "[LightGBM] [Warning] No further splits with positive gain, best gain: -inf\n",
      "[LightGBM] [Warning] No further splits with positive gain, best gain: -inf\n",
      "[LightGBM] [Warning] No further splits with positive gain, best gain: -inf\n",
      "[LightGBM] [Warning] No further splits with positive gain, best gain: -inf\n",
      "[LightGBM] [Warning] No further splits with positive gain, best gain: -inf\n",
      "[LightGBM] [Warning] No further splits with positive gain, best gain: -inf\n",
      "[LightGBM] [Warning] No further splits with positive gain, best gain: -inf\n",
      "[LightGBM] [Warning] No further splits with positive gain, best gain: -inf\n",
      "[LightGBM] [Warning] No further splits with positive gain, best gain: -inf\n",
      "[LightGBM] [Warning] No further splits with positive gain, best gain: -inf\n",
      "[LightGBM] [Warning] No further splits with positive gain, best gain: -inf\n",
      "[LightGBM] [Warning] No further splits with positive gain, best gain: -inf\n",
      "[LightGBM] [Warning] No further splits with positive gain, best gain: -inf\n",
      "[LightGBM] [Warning] No further splits with positive gain, best gain: -inf\n",
      "[LightGBM] [Warning] No further splits with positive gain, best gain: -inf\n",
      "[LightGBM] [Warning] No further splits with positive gain, best gain: -inf\n",
      "[LightGBM] [Warning] No further splits with positive gain, best gain: -inf\n",
      "[LightGBM] [Warning] No further splits with positive gain, best gain: -inf\n",
      "[LightGBM] [Warning] No further splits with positive gain, best gain: -inf\n",
      "[LightGBM] [Warning] No further splits with positive gain, best gain: -inf\n",
      "[LightGBM] [Warning] No further splits with positive gain, best gain: -inf\n",
      "[LightGBM] [Warning] No further splits with positive gain, best gain: -inf\n",
      "[LightGBM] [Warning] No further splits with positive gain, best gain: -inf\n",
      "[LightGBM] [Warning] No further splits with positive gain, best gain: -inf\n",
      "[LightGBM] [Warning] No further splits with positive gain, best gain: -inf\n",
      "[LightGBM] [Warning] No further splits with positive gain, best gain: -inf\n",
      "[LightGBM] [Warning] No further splits with positive gain, best gain: -inf\n",
      "[LightGBM] [Warning] No further splits with positive gain, best gain: -inf\n",
      "[LightGBM] [Warning] No further splits with positive gain, best gain: -inf\n",
      "[LightGBM] [Warning] No further splits with positive gain, best gain: -inf\n",
      "[LightGBM] [Warning] No further splits with positive gain, best gain: -inf\n",
      "[LightGBM] [Warning] No further splits with positive gain, best gain: -inf\n",
      "[LightGBM] [Warning] No further splits with positive gain, best gain: -inf\n",
      "[LightGBM] [Warning] No further splits with positive gain, best gain: -inf\n",
      "[LightGBM] [Warning] No further splits with positive gain, best gain: -inf\n",
      "[LightGBM] [Warning] No further splits with positive gain, best gain: -inf\n",
      "[LightGBM] [Warning] No further splits with positive gain, best gain: -inf\n",
      "[LightGBM] [Warning] No further splits with positive gain, best gain: -inf\n",
      "[LightGBM] [Warning] No further splits with positive gain, best gain: -inf\n",
      "[LightGBM] [Warning] No further splits with positive gain, best gain: -inf\n",
      "[LightGBM] [Warning] No further splits with positive gain, best gain: -inf\n",
      "[LightGBM] [Warning] No further splits with positive gain, best gain: -inf\n",
      "[LightGBM] [Warning] No further splits with positive gain, best gain: -inf\n",
      "[LightGBM] [Warning] No further splits with positive gain, best gain: -inf\n",
      "[LightGBM] [Warning] No further splits with positive gain, best gain: -inf\n",
      "[LightGBM] [Warning] No further splits with positive gain, best gain: -inf\n",
      "[LightGBM] [Warning] No further splits with positive gain, best gain: -inf\n",
      "[LightGBM] [Warning] No further splits with positive gain, best gain: -inf\n",
      "[LightGBM] [Warning] No further splits with positive gain, best gain: -inf\n",
      "[LightGBM] [Warning] No further splits with positive gain, best gain: -inf\n",
      "[LightGBM] [Warning] No further splits with positive gain, best gain: -inf\n",
      "[LightGBM] [Warning] No further splits with positive gain, best gain: -inf\n",
      "[LightGBM] [Warning] No further splits with positive gain, best gain: -inf\n",
      "[LightGBM] [Warning] No further splits with positive gain, best gain: -inf\n",
      "[LightGBM] [Warning] No further splits with positive gain, best gain: -inf\n",
      "[LightGBM] [Warning] No further splits with positive gain, best gain: -inf\n",
      "[LightGBM] [Warning] No further splits with positive gain, best gain: -inf\n",
      "[LightGBM] [Warning] No further splits with positive gain, best gain: -inf\n",
      "[LightGBM] [Warning] No further splits with positive gain, best gain: -inf\n",
      "[LightGBM] [Warning] No further splits with positive gain, best gain: -inf\n",
      "[LightGBM] [Warning] No further splits with positive gain, best gain: -inf\n",
      "[LightGBM] [Warning] No further splits with positive gain, best gain: -inf\n",
      "[LightGBM] [Warning] No further splits with positive gain, best gain: -inf\n",
      "[LightGBM] [Warning] No further splits with positive gain, best gain: -inf\n",
      "[LightGBM] [Warning] No further splits with positive gain, best gain: -inf\n",
      "[LightGBM] [Warning] No further splits with positive gain, best gain: -inf\n",
      "Early stopping, best iteration is:                   \n",
      "[104]\tvalid_0's rmse: 0.495097\n",
      "[LightGBM] [Info] Auto-choosing col-wise multi-threading, the overhead of testing was 0.000514 seconds.\n",
      "You can set `force_col_wise=true` to remove the overhead.\n",
      "[LightGBM] [Info] Total Bins 1393                    \n",
      "[LightGBM] [Info] Number of data points in the train set: 472, number of used features: 35\n",
      "[LightGBM] [Info] Start training from score 2.411017 \n",
      "[LightGBM] [Warning] No further splits with positive gain, best gain: -inf\n",
      "Training until validation scores don't improve for 50 rounds\n",
      "[LightGBM] [Warning] No further splits with positive gain, best gain: -inf\n",
      "[LightGBM] [Warning] No further splits with positive gain, best gain: -inf\n",
      "[LightGBM] [Warning] No further splits with positive gain, best gain: -inf\n",
      "[LightGBM] [Warning] No further splits with positive gain, best gain: -inf\n",
      "[LightGBM] [Warning] No further splits with positive gain, best gain: -inf\n",
      "[LightGBM] [Warning] No further splits with positive gain, best gain: -inf\n",
      "[LightGBM] [Warning] No further splits with positive gain, best gain: -inf\n",
      "[LightGBM] [Warning] No further splits with positive gain, best gain: -inf\n",
      "[LightGBM] [Warning] No further splits with positive gain, best gain: -inf\n",
      "[LightGBM] [Warning] No further splits with positive gain, best gain: -inf\n",
      "[LightGBM] [Warning] No further splits with positive gain, best gain: -inf\n",
      "[LightGBM] [Warning] No further splits with positive gain, best gain: -inf\n",
      "[LightGBM] [Warning] No further splits with positive gain, best gain: -inf\n",
      "[LightGBM] [Warning] No further splits with positive gain, best gain: -inf\n",
      "[LightGBM] [Warning] No further splits with positive gain, best gain: -inf\n",
      "[LightGBM] [Warning] No further splits with positive gain, best gain: -inf\n",
      "[LightGBM] [Warning] No further splits with positive gain, best gain: -inf\n",
      "[LightGBM] [Warning] No further splits with positive gain, best gain: -inf\n",
      "[LightGBM] [Warning] No further splits with positive gain, best gain: -inf\n",
      "[LightGBM] [Warning] No further splits with positive gain, best gain: -inf\n",
      "[LightGBM] [Warning] No further splits with positive gain, best gain: -inf\n",
      "[LightGBM] [Warning] No further splits with positive gain, best gain: -inf\n",
      "[LightGBM] [Warning] No further splits with positive gain, best gain: -inf\n",
      "[LightGBM] [Warning] No further splits with positive gain, best gain: -inf\n",
      "[LightGBM] [Warning] No further splits with positive gain, best gain: -inf\n",
      "[LightGBM] [Warning] No further splits with positive gain, best gain: -inf\n",
      "[LightGBM] [Warning] No further splits with positive gain, best gain: -inf\n",
      "[LightGBM] [Warning] No further splits with positive gain, best gain: -inf\n",
      "[LightGBM] [Warning] No further splits with positive gain, best gain: -inf\n",
      "[LightGBM] [Warning] No further splits with positive gain, best gain: -inf\n",
      "[LightGBM] [Warning] No further splits with positive gain, best gain: -inf\n",
      "[LightGBM] [Warning] No further splits with positive gain, best gain: -inf\n",
      "[LightGBM] [Warning] No further splits with positive gain, best gain: -inf\n",
      "[LightGBM] [Warning] No further splits with positive gain, best gain: -inf\n",
      "[LightGBM] [Warning] No further splits with positive gain, best gain: -inf\n",
      "[LightGBM] [Warning] No further splits with positive gain, best gain: -inf\n",
      "[LightGBM] [Warning] No further splits with positive gain, best gain: -inf\n",
      "[LightGBM] [Warning] No further splits with positive gain, best gain: -inf\n",
      "[LightGBM] [Warning] No further splits with positive gain, best gain: -inf\n",
      "[LightGBM] [Warning] No further splits with positive gain, best gain: -inf\n",
      "[LightGBM] [Warning] No further splits with positive gain, best gain: -inf\n",
      "[LightGBM] [Warning] No further splits with positive gain, best gain: -inf\n",
      "[LightGBM] [Warning] No further splits with positive gain, best gain: -inf\n",
      "[LightGBM] [Warning] No further splits with positive gain, best gain: -inf\n",
      "[LightGBM] [Warning] No further splits with positive gain, best gain: -inf\n",
      "[LightGBM] [Warning] No further splits with positive gain, best gain: -inf\n",
      "[LightGBM] [Warning] No further splits with positive gain, best gain: -inf\n",
      "[LightGBM] [Warning] No further splits with positive gain, best gain: -inf\n",
      "[LightGBM] [Warning] No further splits with positive gain, best gain: -inf\n",
      "[LightGBM] [Warning] No further splits with positive gain, best gain: -inf\n",
      "[LightGBM] [Warning] No further splits with positive gain, best gain: -inf\n",
      "[LightGBM] [Warning] No further splits with positive gain, best gain: -inf\n",
      "[LightGBM] [Warning] No further splits with positive gain, best gain: -inf\n",
      "[LightGBM] [Warning] No further splits with positive gain, best gain: -inf\n",
      "[LightGBM] [Warning] No further splits with positive gain, best gain: -inf\n",
      "[LightGBM] [Warning] No further splits with positive gain, best gain: -inf\n",
      "[LightGBM] [Warning] No further splits with positive gain, best gain: -inf\n",
      "[LightGBM] [Warning] No further splits with positive gain, best gain: -inf\n",
      "[LightGBM] [Warning] No further splits with positive gain, best gain: -inf\n",
      "[LightGBM] [Warning] No further splits with positive gain, best gain: -inf\n",
      "[LightGBM] [Warning] No further splits with positive gain, best gain: -inf\n",
      "[LightGBM] [Warning] No further splits with positive gain, best gain: -inf\n",
      "[LightGBM] [Warning] No further splits with positive gain, best gain: -inf\n",
      "[LightGBM] [Warning] No further splits with positive gain, best gain: -inf\n",
      "[LightGBM] [Warning] No further splits with positive gain, best gain: -inf\n",
      "[LightGBM] [Warning] No further splits with positive gain, best gain: -inf\n",
      "[LightGBM] [Warning] No further splits with positive gain, best gain: -inf\n",
      "[LightGBM] [Warning] No further splits with positive gain, best gain: -inf\n",
      "[LightGBM] [Warning] No further splits with positive gain, best gain: -inf\n",
      "[LightGBM] [Warning] No further splits with positive gain, best gain: -inf\n",
      "[LightGBM] [Warning] No further splits with positive gain, best gain: -inf\n",
      "[LightGBM] [Warning] No further splits with positive gain, best gain: -inf\n",
      "[LightGBM] [Warning] No further splits with positive gain, best gain: -inf\n",
      "[LightGBM] [Warning] No further splits with positive gain, best gain: -inf\n",
      "[LightGBM] [Warning] No further splits with positive gain, best gain: -inf\n",
      "[LightGBM] [Warning] No further splits with positive gain, best gain: -inf\n",
      "[LightGBM] [Warning] No further splits with positive gain, best gain: -inf\n",
      "[LightGBM] [Warning] No further splits with positive gain, best gain: -inf\n",
      "[LightGBM] [Warning] No further splits with positive gain, best gain: -inf\n",
      "[LightGBM] [Warning] No further splits with positive gain, best gain: -inf\n",
      "[LightGBM] [Warning] No further splits with positive gain, best gain: -inf\n",
      "[LightGBM] [Warning] No further splits with positive gain, best gain: -inf\n",
      "[LightGBM] [Warning] No further splits with positive gain, best gain: -inf\n",
      "[LightGBM] [Warning] No further splits with positive gain, best gain: -inf\n",
      "[LightGBM] [Warning] No further splits with positive gain, best gain: -inf\n",
      "[LightGBM] [Warning] No further splits with positive gain, best gain: -inf\n",
      "[LightGBM] [Warning] No further splits with positive gain, best gain: -inf\n",
      "[LightGBM] [Warning] No further splits with positive gain, best gain: -inf\n",
      "Early stopping, best iteration is:                   \n",
      "[39]\tvalid_0's rmse: 0.52275\n",
      "[LightGBM] [Info] Auto-choosing col-wise multi-threading, the overhead of testing was 0.000449 seconds.\n",
      "You can set `force_col_wise=true` to remove the overhead.\n",
      "[LightGBM] [Info] Total Bins 1330                    \n",
      "[LightGBM] [Info] Number of data points in the train set: 472, number of used features: 30\n",
      "[LightGBM] [Info] Start training from score 2.394089 \n",
      "[LightGBM] [Warning] No further splits with positive gain, best gain: -inf\n",
      "Training until validation scores don't improve for 50 rounds\n",
      "[LightGBM] [Warning] No further splits with positive gain, best gain: -inf\n",
      "[LightGBM] [Warning] No further splits with positive gain, best gain: -inf\n",
      "[LightGBM] [Warning] No further splits with positive gain, best gain: -inf\n",
      "[LightGBM] [Warning] No further splits with positive gain, best gain: -inf\n",
      "[LightGBM] [Warning] No further splits with positive gain, best gain: -inf\n",
      "[LightGBM] [Warning] No further splits with positive gain, best gain: -inf\n",
      "[LightGBM] [Warning] No further splits with positive gain, best gain: -inf\n",
      "[LightGBM] [Warning] No further splits with positive gain, best gain: -inf\n",
      "[LightGBM] [Warning] No further splits with positive gain, best gain: -inf\n",
      "[LightGBM] [Warning] No further splits with positive gain, best gain: -inf\n",
      "[LightGBM] [Warning] No further splits with positive gain, best gain: -inf\n",
      "[LightGBM] [Warning] No further splits with positive gain, best gain: -inf\n",
      "[LightGBM] [Warning] No further splits with positive gain, best gain: -inf\n",
      "[LightGBM] [Warning] No further splits with positive gain, best gain: -inf\n",
      "[LightGBM] [Warning] No further splits with positive gain, best gain: -inf\n",
      "[LightGBM] [Warning] No further splits with positive gain, best gain: -inf\n",
      "[LightGBM] [Warning] No further splits with positive gain, best gain: -inf\n",
      "[LightGBM] [Warning] No further splits with positive gain, best gain: -inf\n",
      "[LightGBM] [Warning] No further splits with positive gain, best gain: -inf\n",
      "[LightGBM] [Warning] No further splits with positive gain, best gain: -inf\n",
      "[LightGBM] [Warning] No further splits with positive gain, best gain: -inf\n",
      "[LightGBM] [Warning] No further splits with positive gain, best gain: -inf\n",
      "[LightGBM] [Warning] No further splits with positive gain, best gain: -inf\n",
      "[LightGBM] [Warning] No further splits with positive gain, best gain: -inf\n",
      "[LightGBM] [Warning] No further splits with positive gain, best gain: -inf\n",
      "[LightGBM] [Warning] No further splits with positive gain, best gain: -inf\n",
      "[LightGBM] [Warning] No further splits with positive gain, best gain: -inf\n",
      "[LightGBM] [Warning] No further splits with positive gain, best gain: -inf\n",
      "[LightGBM] [Warning] No further splits with positive gain, best gain: -inf\n",
      "[LightGBM] [Warning] No further splits with positive gain, best gain: -inf\n",
      "[LightGBM] [Warning] No further splits with positive gain, best gain: -inf\n",
      "[LightGBM] [Warning] No further splits with positive gain, best gain: -inf\n",
      "[LightGBM] [Warning] No further splits with positive gain, best gain: -inf\n",
      "[LightGBM] [Warning] No further splits with positive gain, best gain: -inf\n",
      "[LightGBM] [Warning] No further splits with positive gain, best gain: -inf\n",
      "[LightGBM] [Warning] No further splits with positive gain, best gain: -inf\n",
      "[LightGBM] [Warning] No further splits with positive gain, best gain: -inf\n",
      "[LightGBM] [Warning] No further splits with positive gain, best gain: -inf\n",
      "[LightGBM] [Warning] No further splits with positive gain, best gain: -inf\n",
      "[LightGBM] [Warning] No further splits with positive gain, best gain: -inf\n",
      "[LightGBM] [Warning] No further splits with positive gain, best gain: -inf\n",
      "[LightGBM] [Warning] No further splits with positive gain, best gain: -inf\n",
      "[LightGBM] [Warning] No further splits with positive gain, best gain: -inf\n",
      "[LightGBM] [Warning] No further splits with positive gain, best gain: -inf\n",
      "[LightGBM] [Warning] No further splits with positive gain, best gain: -inf\n",
      "[LightGBM] [Warning] No further splits with positive gain, best gain: -inf\n",
      "[LightGBM] [Warning] No further splits with positive gain, best gain: -inf\n",
      "[LightGBM] [Warning] No further splits with positive gain, best gain: -inf\n",
      "[LightGBM] [Warning] No further splits with positive gain, best gain: -inf\n",
      "[LightGBM] [Warning] No further splits with positive gain, best gain: -inf\n",
      "[LightGBM] [Warning] No further splits with positive gain, best gain: -inf\n",
      "[LightGBM] [Warning] No further splits with positive gain, best gain: -inf\n",
      "[LightGBM] [Warning] No further splits with positive gain, best gain: -inf\n",
      "[LightGBM] [Warning] No further splits with positive gain, best gain: -inf\n",
      "[LightGBM] [Warning] No further splits with positive gain, best gain: -inf\n",
      "[LightGBM] [Warning] No further splits with positive gain, best gain: -inf\n",
      "[LightGBM] [Warning] No further splits with positive gain, best gain: -inf\n",
      "[LightGBM] [Warning] No further splits with positive gain, best gain: -inf\n",
      "[LightGBM] [Warning] No further splits with positive gain, best gain: -inf\n",
      "[LightGBM] [Warning] No further splits with positive gain, best gain: -inf\n",
      "[LightGBM] [Warning] No further splits with positive gain, best gain: -inf\n",
      "[LightGBM] [Warning] No further splits with positive gain, best gain: -inf\n",
      "[LightGBM] [Warning] No further splits with positive gain, best gain: -inf\n",
      "[LightGBM] [Warning] No further splits with positive gain, best gain: -inf\n",
      "[LightGBM] [Warning] No further splits with positive gain, best gain: -inf\n",
      "[LightGBM] [Warning] No further splits with positive gain, best gain: -inf\n",
      "[LightGBM] [Warning] No further splits with positive gain, best gain: -inf\n",
      "[LightGBM] [Warning] No further splits with positive gain, best gain: -inf\n",
      "[LightGBM] [Warning] No further splits with positive gain, best gain: -inf\n",
      "[LightGBM] [Warning] No further splits with positive gain, best gain: -inf\n",
      "[LightGBM] [Warning] No further splits with positive gain, best gain: -inf\n",
      "[LightGBM] [Warning] No further splits with positive gain, best gain: -inf\n",
      "[LightGBM] [Warning] No further splits with positive gain, best gain: -inf\n",
      "[LightGBM] [Warning] No further splits with positive gain, best gain: -inf\n",
      "[LightGBM] [Warning] No further splits with positive gain, best gain: -inf\n",
      "[LightGBM] [Warning] No further splits with positive gain, best gain: -inf\n",
      "[LightGBM] [Warning] No further splits with positive gain, best gain: -inf\n",
      "[LightGBM] [Warning] No further splits with positive gain, best gain: -inf\n",
      "[LightGBM] [Warning] No further splits with positive gain, best gain: -inf\n",
      "[LightGBM] [Warning] No further splits with positive gain, best gain: -inf\n",
      "[LightGBM] [Warning] No further splits with positive gain, best gain: -inf\n",
      "[LightGBM] [Warning] No further splits with positive gain, best gain: -inf\n",
      "[LightGBM] [Warning] No further splits with positive gain, best gain: -inf\n",
      "[LightGBM] [Warning] No further splits with positive gain, best gain: -inf\n",
      "[LightGBM] [Warning] No further splits with positive gain, best gain: -inf\n",
      "[LightGBM] [Warning] No further splits with positive gain, best gain: -inf\n",
      "[LightGBM] [Warning] No further splits with positive gain, best gain: -inf\n",
      "[LightGBM] [Warning] No further splits with positive gain, best gain: -inf\n",
      "[LightGBM] [Warning] No further splits with positive gain, best gain: -inf\n",
      "[LightGBM] [Warning] No further splits with positive gain, best gain: -inf\n",
      "[LightGBM] [Warning] No further splits with positive gain, best gain: -inf\n",
      "[LightGBM] [Warning] No further splits with positive gain, best gain: -inf\n",
      "[LightGBM] [Warning] No further splits with positive gain, best gain: -inf\n",
      "[LightGBM] [Warning] No further splits with positive gain, best gain: -inf\n",
      "[LightGBM] [Warning] No further splits with positive gain, best gain: -inf\n",
      "[LightGBM] [Warning] No further splits with positive gain, best gain: -inf\n",
      "[LightGBM] [Warning] No further splits with positive gain, best gain: -inf\n",
      "[LightGBM] [Warning] No further splits with positive gain, best gain: -inf\n",
      "[LightGBM] [Warning] No further splits with positive gain, best gain: -inf\n",
      "[LightGBM] [Warning] No further splits with positive gain, best gain: -inf\n",
      "[LightGBM] [Warning] No further splits with positive gain, best gain: -inf\n",
      "[LightGBM] [Warning] No further splits with positive gain, best gain: -inf\n",
      "[LightGBM] [Warning] No further splits with positive gain, best gain: -inf\n",
      "[LightGBM] [Warning] No further splits with positive gain, best gain: -inf\n",
      "[LightGBM] [Warning] No further splits with positive gain, best gain: -inf\n",
      "[LightGBM] [Warning] No further splits with positive gain, best gain: -inf\n",
      "[LightGBM] [Warning] No further splits with positive gain, best gain: -inf\n",
      "[LightGBM] [Warning] No further splits with positive gain, best gain: -inf\n",
      "[LightGBM] [Warning] No further splits with positive gain, best gain: -inf\n",
      "[LightGBM] [Warning] No further splits with positive gain, best gain: -inf\n",
      "[LightGBM] [Warning] No further splits with positive gain, best gain: -inf\n",
      "[LightGBM] [Warning] No further splits with positive gain, best gain: -inf\n",
      "[LightGBM] [Warning] No further splits with positive gain, best gain: -inf\n",
      "[LightGBM] [Warning] No further splits with positive gain, best gain: -inf\n",
      "[LightGBM] [Warning] No further splits with positive gain, best gain: -inf\n",
      "[LightGBM] [Warning] No further splits with positive gain, best gain: -inf\n",
      "[LightGBM] [Warning] No further splits with positive gain, best gain: -inf\n",
      "[LightGBM] [Warning] No further splits with positive gain, best gain: -inf\n",
      "[LightGBM] [Warning] No further splits with positive gain, best gain: -inf\n",
      "[LightGBM] [Warning] No further splits with positive gain, best gain: -inf\n",
      "[LightGBM] [Warning] No further splits with positive gain, best gain: -inf\n",
      "[LightGBM] [Warning] No further splits with positive gain, best gain: -inf\n",
      "[LightGBM] [Warning] No further splits with positive gain, best gain: -inf\n",
      "[LightGBM] [Warning] No further splits with positive gain, best gain: -inf\n",
      "[LightGBM] [Warning] No further splits with positive gain, best gain: -inf\n",
      "[LightGBM] [Warning] No further splits with positive gain, best gain: -inf\n",
      "[LightGBM] [Warning] No further splits with positive gain, best gain: -inf\n",
      "[LightGBM] [Warning] No further splits with positive gain, best gain: -inf\n",
      "[LightGBM] [Warning] No further splits with positive gain, best gain: -inf\n",
      "[LightGBM] [Warning] No further splits with positive gain, best gain: -inf\n",
      "[LightGBM] [Warning] No further splits with positive gain, best gain: -inf\n",
      "[LightGBM] [Warning] No further splits with positive gain, best gain: -inf\n",
      "[LightGBM] [Warning] No further splits with positive gain, best gain: -inf\n",
      "[LightGBM] [Warning] No further splits with positive gain, best gain: -inf\n",
      "[LightGBM] [Warning] No further splits with positive gain, best gain: -inf\n",
      "[LightGBM] [Warning] No further splits with positive gain, best gain: -inf\n",
      "[LightGBM] [Warning] No further splits with positive gain, best gain: -inf\n",
      "[LightGBM] [Warning] No further splits with positive gain, best gain: -inf\n",
      "[LightGBM] [Warning] No further splits with positive gain, best gain: -inf\n",
      "[LightGBM] [Warning] No further splits with positive gain, best gain: -inf\n",
      "[LightGBM] [Warning] No further splits with positive gain, best gain: -inf\n",
      "[LightGBM] [Warning] No further splits with positive gain, best gain: -inf\n",
      "[LightGBM] [Warning] No further splits with positive gain, best gain: -inf\n",
      "[LightGBM] [Warning] No further splits with positive gain, best gain: -inf\n",
      "[LightGBM] [Warning] No further splits with positive gain, best gain: -inf\n",
      "[LightGBM] [Warning] No further splits with positive gain, best gain: -inf\n",
      "[LightGBM] [Warning] No further splits with positive gain, best gain: -inf\n",
      "[LightGBM] [Warning] No further splits with positive gain, best gain: -inf\n",
      "[LightGBM] [Warning] No further splits with positive gain, best gain: -inf\n",
      "[LightGBM] [Warning] No further splits with positive gain, best gain: -inf\n",
      "[LightGBM] [Warning] No further splits with positive gain, best gain: -inf\n",
      "[LightGBM] [Warning] No further splits with positive gain, best gain: -inf\n",
      "[LightGBM] [Warning] No further splits with positive gain, best gain: -inf\n",
      "Early stopping, best iteration is:                   \n",
      "[104]\tvalid_0's rmse: 0.509314\n",
      "[LightGBM] [Info] Auto-choosing col-wise multi-threading, the overhead of testing was 0.000440 seconds.\n",
      "You can set `force_col_wise=true` to remove the overhead.\n",
      "[LightGBM] [Info] Total Bins 1324                    \n",
      "[LightGBM] [Info] Number of data points in the train set: 472, number of used features: 30\n",
      "[LightGBM] [Info] Start training from score 2.382648 \n",
      "[LightGBM] [Warning] No further splits with positive gain, best gain: -inf\n",
      "Training until validation scores don't improve for 50 rounds\n",
      "[LightGBM] [Warning] No further splits with positive gain, best gain: -inf\n",
      "[LightGBM] [Warning] No further splits with positive gain, best gain: -inf\n",
      "[LightGBM] [Warning] No further splits with positive gain, best gain: -inf\n",
      "[LightGBM] [Warning] No further splits with positive gain, best gain: -inf\n",
      "[LightGBM] [Warning] No further splits with positive gain, best gain: -inf\n",
      "[LightGBM] [Warning] No further splits with positive gain, best gain: -inf\n",
      "[LightGBM] [Warning] No further splits with positive gain, best gain: -inf\n",
      "[LightGBM] [Warning] No further splits with positive gain, best gain: -inf\n",
      "[LightGBM] [Warning] No further splits with positive gain, best gain: -inf\n",
      "[LightGBM] [Warning] No further splits with positive gain, best gain: -inf\n",
      "[LightGBM] [Warning] No further splits with positive gain, best gain: -inf\n",
      "[LightGBM] [Warning] No further splits with positive gain, best gain: -inf\n",
      "[LightGBM] [Warning] No further splits with positive gain, best gain: -inf\n",
      "[LightGBM] [Warning] No further splits with positive gain, best gain: -inf\n",
      "[LightGBM] [Warning] No further splits with positive gain, best gain: -inf\n",
      "[LightGBM] [Warning] No further splits with positive gain, best gain: -inf\n",
      "[LightGBM] [Warning] No further splits with positive gain, best gain: -inf\n",
      "[LightGBM] [Warning] No further splits with positive gain, best gain: -inf\n",
      "[LightGBM] [Warning] No further splits with positive gain, best gain: -inf\n",
      "[LightGBM] [Warning] No further splits with positive gain, best gain: -inf\n",
      "[LightGBM] [Warning] No further splits with positive gain, best gain: -inf\n",
      "[LightGBM] [Warning] No further splits with positive gain, best gain: -inf\n",
      "[LightGBM] [Warning] No further splits with positive gain, best gain: -inf\n",
      "[LightGBM] [Warning] No further splits with positive gain, best gain: -inf\n",
      "[LightGBM] [Warning] No further splits with positive gain, best gain: -inf\n",
      "[LightGBM] [Warning] No further splits with positive gain, best gain: -inf\n",
      "[LightGBM] [Warning] No further splits with positive gain, best gain: -inf\n",
      "[LightGBM] [Warning] No further splits with positive gain, best gain: -inf\n",
      "[LightGBM] [Warning] No further splits with positive gain, best gain: -inf\n",
      "[LightGBM] [Warning] No further splits with positive gain, best gain: -inf\n",
      "[LightGBM] [Warning] No further splits with positive gain, best gain: -inf\n",
      "[LightGBM] [Warning] No further splits with positive gain, best gain: -inf\n",
      "[LightGBM] [Warning] No further splits with positive gain, best gain: -inf\n",
      "[LightGBM] [Warning] No further splits with positive gain, best gain: -inf\n",
      "[LightGBM] [Warning] No further splits with positive gain, best gain: -inf\n",
      "[LightGBM] [Warning] No further splits with positive gain, best gain: -inf\n",
      "[LightGBM] [Warning] No further splits with positive gain, best gain: -inf\n",
      "[LightGBM] [Warning] No further splits with positive gain, best gain: -inf\n",
      "[LightGBM] [Warning] No further splits with positive gain, best gain: -inf\n",
      "[LightGBM] [Warning] No further splits with positive gain, best gain: -inf\n",
      "[LightGBM] [Warning] No further splits with positive gain, best gain: -inf\n",
      "[LightGBM] [Warning] No further splits with positive gain, best gain: -inf\n",
      "[LightGBM] [Warning] No further splits with positive gain, best gain: -inf\n",
      "[LightGBM] [Warning] No further splits with positive gain, best gain: -inf\n",
      "[LightGBM] [Warning] No further splits with positive gain, best gain: -inf\n",
      "[LightGBM] [Warning] No further splits with positive gain, best gain: -inf\n",
      "[LightGBM] [Warning] No further splits with positive gain, best gain: -inf\n",
      "[LightGBM] [Warning] No further splits with positive gain, best gain: -inf\n",
      "[LightGBM] [Warning] No further splits with positive gain, best gain: -inf\n",
      "[LightGBM] [Warning] No further splits with positive gain, best gain: -inf\n",
      "[LightGBM] [Warning] No further splits with positive gain, best gain: -inf\n",
      "[LightGBM] [Warning] No further splits with positive gain, best gain: -inf\n",
      "[LightGBM] [Warning] No further splits with positive gain, best gain: -inf\n",
      "[LightGBM] [Warning] No further splits with positive gain, best gain: -inf\n",
      "[LightGBM] [Warning] No further splits with positive gain, best gain: -inf\n",
      "[LightGBM] [Warning] No further splits with positive gain, best gain: -inf\n",
      "[LightGBM] [Warning] No further splits with positive gain, best gain: -inf\n",
      "[LightGBM] [Warning] No further splits with positive gain, best gain: -inf\n",
      "[LightGBM] [Warning] No further splits with positive gain, best gain: -inf\n",
      "[LightGBM] [Warning] No further splits with positive gain, best gain: -inf\n",
      "[LightGBM] [Warning] No further splits with positive gain, best gain: -inf\n",
      "[LightGBM] [Warning] No further splits with positive gain, best gain: -inf\n",
      "[LightGBM] [Warning] No further splits with positive gain, best gain: -inf\n",
      "[LightGBM] [Warning] No further splits with positive gain, best gain: -inf\n",
      "[LightGBM] [Warning] No further splits with positive gain, best gain: -inf\n",
      "[LightGBM] [Warning] No further splits with positive gain, best gain: -inf\n",
      "[LightGBM] [Warning] No further splits with positive gain, best gain: -inf\n",
      "[LightGBM] [Warning] No further splits with positive gain, best gain: -inf\n",
      "[LightGBM] [Warning] No further splits with positive gain, best gain: -inf\n",
      "[LightGBM] [Warning] No further splits with positive gain, best gain: -inf\n",
      "[LightGBM] [Warning] No further splits with positive gain, best gain: -inf\n",
      "[LightGBM] [Warning] No further splits with positive gain, best gain: -inf\n",
      "[LightGBM] [Warning] No further splits with positive gain, best gain: -inf\n",
      "[LightGBM] [Warning] No further splits with positive gain, best gain: -inf\n",
      "[LightGBM] [Warning] No further splits with positive gain, best gain: -inf\n",
      "[LightGBM] [Warning] No further splits with positive gain, best gain: -inf\n",
      "[LightGBM] [Warning] No further splits with positive gain, best gain: -inf\n",
      "[LightGBM] [Warning] No further splits with positive gain, best gain: -inf\n",
      "[LightGBM] [Warning] No further splits with positive gain, best gain: -inf\n",
      "[LightGBM] [Warning] No further splits with positive gain, best gain: -inf\n",
      "[LightGBM] [Warning] No further splits with positive gain, best gain: -inf\n",
      "[LightGBM] [Warning] No further splits with positive gain, best gain: -inf\n",
      "[LightGBM] [Warning] No further splits with positive gain, best gain: -inf\n",
      "[LightGBM] [Warning] No further splits with positive gain, best gain: -inf\n",
      "[LightGBM] [Warning] No further splits with positive gain, best gain: -inf\n",
      "[LightGBM] [Warning] No further splits with positive gain, best gain: -inf\n",
      "[LightGBM] [Warning] No further splits with positive gain, best gain: -inf\n",
      "[LightGBM] [Warning] No further splits with positive gain, best gain: -inf\n",
      "[LightGBM] [Warning] No further splits with positive gain, best gain: -inf\n",
      "[LightGBM] [Warning] No further splits with positive gain, best gain: -inf\n",
      "[LightGBM] [Warning] No further splits with positive gain, best gain: -inf\n",
      "[LightGBM] [Warning] No further splits with positive gain, best gain: -inf\n",
      "[LightGBM] [Warning] No further splits with positive gain, best gain: -inf\n",
      "[LightGBM] [Warning] No further splits with positive gain, best gain: -inf\n",
      "[LightGBM] [Warning] No further splits with positive gain, best gain: -inf\n",
      "[LightGBM] [Warning] No further splits with positive gain, best gain: -inf\n",
      "[LightGBM] [Warning] No further splits with positive gain, best gain: -inf\n",
      "[LightGBM] [Warning] No further splits with positive gain, best gain: -inf\n",
      "[LightGBM] [Warning] No further splits with positive gain, best gain: -inf\n",
      "[LightGBM] [Warning] No further splits with positive gain, best gain: -inf\n",
      "[LightGBM] [Warning] No further splits with positive gain, best gain: -inf\n",
      "[LightGBM] [Warning] No further splits with positive gain, best gain: -inf\n",
      "[LightGBM] [Warning] No further splits with positive gain, best gain: -inf\n",
      "[LightGBM] [Warning] No further splits with positive gain, best gain: -inf\n",
      "[LightGBM] [Warning] No further splits with positive gain, best gain: -inf\n",
      "[LightGBM] [Warning] No further splits with positive gain, best gain: -inf\n",
      "[LightGBM] [Warning] No further splits with positive gain, best gain: -inf\n",
      "[LightGBM] [Warning] No further splits with positive gain, best gain: -inf\n",
      "[LightGBM] [Warning] No further splits with positive gain, best gain: -inf\n",
      "[LightGBM] [Warning] No further splits with positive gain, best gain: -inf\n",
      "[LightGBM] [Warning] No further splits with positive gain, best gain: -inf\n",
      "[LightGBM] [Warning] No further splits with positive gain, best gain: -inf\n",
      "[LightGBM] [Warning] No further splits with positive gain, best gain: -inf\n",
      "[LightGBM] [Warning] No further splits with positive gain, best gain: -inf\n",
      "[LightGBM] [Warning] No further splits with positive gain, best gain: -inf\n",
      "[LightGBM] [Warning] No further splits with positive gain, best gain: -inf\n",
      "[LightGBM] [Warning] No further splits with positive gain, best gain: -inf\n",
      "[LightGBM] [Warning] No further splits with positive gain, best gain: -inf\n",
      "[LightGBM] [Warning] No further splits with positive gain, best gain: -inf\n",
      "[LightGBM] [Warning] No further splits with positive gain, best gain: -inf\n",
      "[LightGBM] [Warning] No further splits with positive gain, best gain: -inf\n",
      "[LightGBM] [Warning] No further splits with positive gain, best gain: -inf\n",
      "[LightGBM] [Warning] No further splits with positive gain, best gain: -inf\n",
      "[LightGBM] [Warning] No further splits with positive gain, best gain: -inf\n",
      "[LightGBM] [Warning] No further splits with positive gain, best gain: -inf\n",
      "[LightGBM] [Warning] No further splits with positive gain, best gain: -inf\n",
      "[LightGBM] [Warning] No further splits with positive gain, best gain: -inf\n",
      "[LightGBM] [Warning] No further splits with positive gain, best gain: -inf\n",
      "[LightGBM] [Warning] No further splits with positive gain, best gain: -inf\n",
      "[LightGBM] [Warning] No further splits with positive gain, best gain: -inf\n",
      "[LightGBM] [Warning] No further splits with positive gain, best gain: -inf\n",
      "[LightGBM] [Warning] No further splits with positive gain, best gain: -inf\n",
      "[LightGBM] [Warning] No further splits with positive gain, best gain: -inf\n",
      "[LightGBM] [Warning] No further splits with positive gain, best gain: -inf\n",
      "[LightGBM] [Warning] No further splits with positive gain, best gain: -inf\n",
      "[LightGBM] [Warning] No further splits with positive gain, best gain: -inf\n",
      "[LightGBM] [Warning] No further splits with positive gain, best gain: -inf\n",
      "[LightGBM] [Warning] No further splits with positive gain, best gain: -inf\n",
      "[LightGBM] [Warning] No further splits with positive gain, best gain: -inf\n",
      "[LightGBM] [Warning] No further splits with positive gain, best gain: -inf\n",
      "[LightGBM] [Warning] No further splits with positive gain, best gain: -inf\n",
      "[LightGBM] [Warning] No further splits with positive gain, best gain: -inf\n",
      "[LightGBM] [Warning] No further splits with positive gain, best gain: -inf\n",
      "[LightGBM] [Warning] No further splits with positive gain, best gain: -inf\n",
      "[LightGBM] [Warning] No further splits with positive gain, best gain: -inf\n",
      "[LightGBM] [Warning] No further splits with positive gain, best gain: -inf\n",
      "[LightGBM] [Warning] No further splits with positive gain, best gain: -inf\n",
      "[LightGBM] [Warning] No further splits with positive gain, best gain: -inf\n",
      "[LightGBM] [Warning] No further splits with positive gain, best gain: -inf\n",
      "[LightGBM] [Warning] No further splits with positive gain, best gain: -inf\n",
      "[LightGBM] [Warning] No further splits with positive gain, best gain: -inf\n",
      "[LightGBM] [Warning] No further splits with positive gain, best gain: -inf\n",
      "[LightGBM] [Warning] No further splits with positive gain, best gain: -inf\n",
      "[LightGBM] [Warning] No further splits with positive gain, best gain: -inf\n",
      "[LightGBM] [Warning] No further splits with positive gain, best gain: -inf\n",
      "[LightGBM] [Warning] No further splits with positive gain, best gain: -inf\n",
      "[LightGBM] [Warning] No further splits with positive gain, best gain: -inf\n",
      "[LightGBM] [Warning] No further splits with positive gain, best gain: -inf\n",
      "[LightGBM] [Warning] No further splits with positive gain, best gain: -inf\n",
      "[LightGBM] [Warning] No further splits with positive gain, best gain: -inf\n",
      "[LightGBM] [Warning] No further splits with positive gain, best gain: -inf\n",
      "[LightGBM] [Warning] No further splits with positive gain, best gain: -inf\n",
      "[LightGBM] [Warning] No further splits with positive gain, best gain: -inf\n",
      "[LightGBM] [Warning] No further splits with positive gain, best gain: -inf\n",
      "[LightGBM] [Warning] No further splits with positive gain, best gain: -inf\n",
      "[LightGBM] [Warning] No further splits with positive gain, best gain: -inf\n",
      "[LightGBM] [Warning] No further splits with positive gain, best gain: -inf\n",
      "[LightGBM] [Warning] No further splits with positive gain, best gain: -inf\n",
      "[LightGBM] [Warning] No further splits with positive gain, best gain: -inf\n",
      "[LightGBM] [Warning] No further splits with positive gain, best gain: -inf\n",
      "[LightGBM] [Warning] No further splits with positive gain, best gain: -inf\n",
      "[LightGBM] [Warning] No further splits with positive gain, best gain: -inf\n",
      "[LightGBM] [Warning] No further splits with positive gain, best gain: -inf\n",
      "[LightGBM] [Warning] No further splits with positive gain, best gain: -inf\n",
      "[LightGBM] [Warning] No further splits with positive gain, best gain: -inf\n",
      "[LightGBM] [Warning] No further splits with positive gain, best gain: -inf\n",
      "[LightGBM] [Warning] No further splits with positive gain, best gain: -inf\n",
      "[LightGBM] [Warning] No further splits with positive gain, best gain: -inf\n",
      "[LightGBM] [Warning] No further splits with positive gain, best gain: -inf\n",
      "[LightGBM] [Warning] No further splits with positive gain, best gain: -inf\n",
      "[LightGBM] [Warning] No further splits with positive gain, best gain: -inf\n",
      "[LightGBM] [Warning] No further splits with positive gain, best gain: -inf\n",
      "[LightGBM] [Warning] No further splits with positive gain, best gain: -inf\n",
      "[LightGBM] [Warning] No further splits with positive gain, best gain: -inf\n",
      "[LightGBM] [Warning] No further splits with positive gain, best gain: -inf\n",
      "[LightGBM] [Warning] No further splits with positive gain, best gain: -inf\n",
      "[LightGBM] [Warning] No further splits with positive gain, best gain: -inf\n",
      "[LightGBM] [Warning] No further splits with positive gain, best gain: -inf\n",
      "[LightGBM] [Warning] No further splits with positive gain, best gain: -inf\n",
      "[LightGBM] [Warning] No further splits with positive gain, best gain: -inf\n",
      "[LightGBM] [Warning] No further splits with positive gain, best gain: -inf\n",
      "[LightGBM] [Warning] No further splits with positive gain, best gain: -inf\n",
      "[LightGBM] [Warning] No further splits with positive gain, best gain: -inf\n",
      "[LightGBM] [Warning] No further splits with positive gain, best gain: -inf\n",
      "[LightGBM] [Warning] No further splits with positive gain, best gain: -inf\n",
      "[LightGBM] [Warning] No further splits with positive gain, best gain: -inf\n",
      "[LightGBM] [Warning] No further splits with positive gain, best gain: -inf\n",
      "[LightGBM] [Warning] No further splits with positive gain, best gain: -inf\n",
      "[LightGBM] [Warning] No further splits with positive gain, best gain: -inf\n",
      "[LightGBM] [Warning] No further splits with positive gain, best gain: -inf\n",
      "[LightGBM] [Warning] No further splits with positive gain, best gain: -inf\n",
      "[LightGBM] [Warning] No further splits with positive gain, best gain: -inf\n",
      "[LightGBM] [Warning] No further splits with positive gain, best gain: -inf\n",
      "[LightGBM] [Warning] No further splits with positive gain, best gain: -inf\n",
      "[LightGBM] [Warning] No further splits with positive gain, best gain: -inf\n",
      "[LightGBM] [Warning] No further splits with positive gain, best gain: -inf\n",
      "[LightGBM] [Warning] No further splits with positive gain, best gain: -inf\n",
      "[LightGBM] [Warning] No further splits with positive gain, best gain: -inf\n",
      "[LightGBM] [Warning] No further splits with positive gain, best gain: -inf\n",
      "[LightGBM] [Warning] No further splits with positive gain, best gain: -inf\n",
      "[LightGBM] [Warning] No further splits with positive gain, best gain: -inf\n",
      "[LightGBM] [Warning] No further splits with positive gain, best gain: -inf\n",
      "[LightGBM] [Warning] No further splits with positive gain, best gain: -inf\n",
      "[LightGBM] [Warning] No further splits with positive gain, best gain: -inf\n",
      "[LightGBM] [Warning] No further splits with positive gain, best gain: -inf\n",
      "[LightGBM] [Warning] No further splits with positive gain, best gain: -inf\n",
      "[LightGBM] [Warning] No further splits with positive gain, best gain: -inf\n",
      "[LightGBM] [Warning] No further splits with positive gain, best gain: -inf\n",
      "[LightGBM] [Warning] No further splits with positive gain, best gain: -inf\n",
      "[LightGBM] [Warning] No further splits with positive gain, best gain: -inf\n",
      "[LightGBM] [Warning] No further splits with positive gain, best gain: -inf\n",
      "[LightGBM] [Warning] No further splits with positive gain, best gain: -inf\n",
      "[LightGBM] [Warning] No further splits with positive gain, best gain: -inf\n",
      "[LightGBM] [Warning] No further splits with positive gain, best gain: -inf\n",
      "[LightGBM] [Warning] No further splits with positive gain, best gain: -inf\n",
      "[LightGBM] [Warning] No further splits with positive gain, best gain: -inf\n",
      "[LightGBM] [Warning] No further splits with positive gain, best gain: -inf\n",
      "[LightGBM] [Warning] No further splits with positive gain, best gain: -inf\n",
      "[LightGBM] [Warning] No further splits with positive gain, best gain: -inf\n",
      "[LightGBM] [Warning] No further splits with positive gain, best gain: -inf\n",
      "[LightGBM] [Warning] No further splits with positive gain, best gain: -inf\n",
      "[LightGBM] [Warning] No further splits with positive gain, best gain: -inf\n",
      "[LightGBM] [Warning] No further splits with positive gain, best gain: -inf\n",
      "[LightGBM] [Warning] No further splits with positive gain, best gain: -inf\n",
      "[LightGBM] [Warning] No further splits with positive gain, best gain: -inf\n",
      "[LightGBM] [Warning] No further splits with positive gain, best gain: -inf\n",
      "[LightGBM] [Warning] No further splits with positive gain, best gain: -inf\n",
      "[LightGBM] [Warning] No further splits with positive gain, best gain: -inf\n",
      "[LightGBM] [Warning] No further splits with positive gain, best gain: -inf\n",
      "[LightGBM] [Warning] No further splits with positive gain, best gain: -inf\n",
      "[LightGBM] [Warning] No further splits with positive gain, best gain: -inf\n",
      "[LightGBM] [Warning] No further splits with positive gain, best gain: -inf\n",
      "[LightGBM] [Warning] No further splits with positive gain, best gain: -inf\n",
      "[LightGBM] [Warning] No further splits with positive gain, best gain: -inf\n",
      "[LightGBM] [Warning] No further splits with positive gain, best gain: -inf\n",
      "[LightGBM] [Warning] No further splits with positive gain, best gain: -inf\n",
      "[LightGBM] [Warning] No further splits with positive gain, best gain: -inf\n",
      "[LightGBM] [Warning] No further splits with positive gain, best gain: -inf\n",
      "[LightGBM] [Warning] No further splits with positive gain, best gain: -inf\n",
      "[LightGBM] [Warning] No further splits with positive gain, best gain: -inf\n",
      "[LightGBM] [Warning] No further splits with positive gain, best gain: -inf\n",
      "[LightGBM] [Warning] No further splits with positive gain, best gain: -inf\n",
      "[LightGBM] [Warning] No further splits with positive gain, best gain: -inf\n",
      "[LightGBM] [Warning] No further splits with positive gain, best gain: -inf\n",
      "[LightGBM] [Warning] No further splits with positive gain, best gain: -inf\n",
      "[LightGBM] [Warning] No further splits with positive gain, best gain: -inf\n",
      "[LightGBM] [Warning] No further splits with positive gain, best gain: -inf\n",
      "[LightGBM] [Warning] No further splits with positive gain, best gain: -inf\n",
      "[LightGBM] [Warning] No further splits with positive gain, best gain: -inf\n",
      "[LightGBM] [Warning] No further splits with positive gain, best gain: -inf\n",
      "[LightGBM] [Warning] No further splits with positive gain, best gain: -inf\n",
      "[LightGBM] [Warning] No further splits with positive gain, best gain: -inf\n",
      "[LightGBM] [Warning] No further splits with positive gain, best gain: -inf\n",
      "[LightGBM] [Warning] No further splits with positive gain, best gain: -inf\n",
      "[LightGBM] [Warning] No further splits with positive gain, best gain: -inf\n",
      "[LightGBM] [Warning] No further splits with positive gain, best gain: -inf\n",
      "[LightGBM] [Warning] No further splits with positive gain, best gain: -inf\n",
      "[LightGBM] [Warning] No further splits with positive gain, best gain: -inf\n",
      "[LightGBM] [Warning] No further splits with positive gain, best gain: -inf\n",
      "[LightGBM] [Warning] No further splits with positive gain, best gain: -inf\n",
      "[LightGBM] [Warning] No further splits with positive gain, best gain: -inf\n",
      "[LightGBM] [Warning] No further splits with positive gain, best gain: -inf\n",
      "[LightGBM] [Warning] No further splits with positive gain, best gain: -inf\n",
      "[LightGBM] [Warning] No further splits with positive gain, best gain: -inf\n",
      "[LightGBM] [Warning] No further splits with positive gain, best gain: -inf\n",
      "[LightGBM] [Warning] No further splits with positive gain, best gain: -inf\n",
      "[LightGBM] [Warning] No further splits with positive gain, best gain: -inf\n",
      "[LightGBM] [Warning] No further splits with positive gain, best gain: -inf\n",
      "[LightGBM] [Warning] No further splits with positive gain, best gain: -inf\n",
      "[LightGBM] [Warning] No further splits with positive gain, best gain: -inf\n",
      "[LightGBM] [Warning] No further splits with positive gain, best gain: -inf\n",
      "[LightGBM] [Warning] No further splits with positive gain, best gain: -inf\n",
      "[LightGBM] [Warning] No further splits with positive gain, best gain: -inf\n",
      "[LightGBM] [Warning] No further splits with positive gain, best gain: -inf\n",
      "[LightGBM] [Warning] No further splits with positive gain, best gain: -inf\n",
      "[LightGBM] [Warning] No further splits with positive gain, best gain: -inf\n",
      "[LightGBM] [Warning] No further splits with positive gain, best gain: -inf\n",
      "[LightGBM] [Warning] No further splits with positive gain, best gain: -inf\n",
      "[LightGBM] [Warning] No further splits with positive gain, best gain: -inf\n",
      "[LightGBM] [Warning] No further splits with positive gain, best gain: -inf\n",
      "[LightGBM] [Warning] No further splits with positive gain, best gain: -inf\n",
      "[LightGBM] [Warning] No further splits with positive gain, best gain: -inf\n",
      "[LightGBM] [Warning] No further splits with positive gain, best gain: -inf\n",
      "[LightGBM] [Warning] No further splits with positive gain, best gain: -inf\n",
      "[LightGBM] [Warning] No further splits with positive gain, best gain: -inf\n",
      "[LightGBM] [Warning] No further splits with positive gain, best gain: -inf\n",
      "[LightGBM] [Warning] No further splits with positive gain, best gain: -inf\n",
      "[LightGBM] [Warning] No further splits with positive gain, best gain: -inf\n",
      "[LightGBM] [Warning] No further splits with positive gain, best gain: -inf\n",
      "[LightGBM] [Warning] No further splits with positive gain, best gain: -inf\n",
      "[LightGBM] [Warning] No further splits with positive gain, best gain: -inf\n",
      "[LightGBM] [Warning] No further splits with positive gain, best gain: -inf\n",
      "[LightGBM] [Warning] No further splits with positive gain, best gain: -inf\n",
      "[LightGBM] [Warning] No further splits with positive gain, best gain: -inf\n",
      "[LightGBM] [Warning] No further splits with positive gain, best gain: -inf\n",
      "[LightGBM] [Warning] No further splits with positive gain, best gain: -inf\n",
      "[LightGBM] [Warning] No further splits with positive gain, best gain: -inf\n",
      "[LightGBM] [Warning] No further splits with positive gain, best gain: -inf\n",
      "[LightGBM] [Warning] No further splits with positive gain, best gain: -inf\n",
      "[LightGBM] [Warning] No further splits with positive gain, best gain: -inf\n",
      "[LightGBM] [Warning] No further splits with positive gain, best gain: -inf\n",
      "[LightGBM] [Warning] No further splits with positive gain, best gain: -inf\n",
      "[LightGBM] [Warning] No further splits with positive gain, best gain: -inf\n",
      "[LightGBM] [Warning] No further splits with positive gain, best gain: -inf\n",
      "[LightGBM] [Warning] No further splits with positive gain, best gain: -inf\n",
      "[LightGBM] [Warning] No further splits with positive gain, best gain: -inf\n",
      "[LightGBM] [Warning] No further splits with positive gain, best gain: -inf\n",
      "[LightGBM] [Warning] No further splits with positive gain, best gain: -inf\n",
      "[LightGBM] [Warning] No further splits with positive gain, best gain: -inf\n",
      "[LightGBM] [Warning] No further splits with positive gain, best gain: -inf\n",
      "[LightGBM] [Warning] No further splits with positive gain, best gain: -inf\n",
      "[LightGBM] [Warning] No further splits with positive gain, best gain: -inf\n",
      "[LightGBM] [Warning] No further splits with positive gain, best gain: -inf\n",
      "[LightGBM] [Warning] No further splits with positive gain, best gain: -inf\n",
      "[LightGBM] [Warning] No further splits with positive gain, best gain: -inf\n",
      "[LightGBM] [Warning] No further splits with positive gain, best gain: -inf\n",
      "[LightGBM] [Warning] No further splits with positive gain, best gain: -inf\n",
      "[LightGBM] [Warning] No further splits with positive gain, best gain: -inf\n",
      "[LightGBM] [Warning] No further splits with positive gain, best gain: -inf\n",
      "[LightGBM] [Warning] No further splits with positive gain, best gain: -inf\n",
      "[LightGBM] [Warning] No further splits with positive gain, best gain: -inf\n",
      "[LightGBM] [Warning] No further splits with positive gain, best gain: -inf\n",
      "[LightGBM] [Warning] No further splits with positive gain, best gain: -inf\n",
      "[LightGBM] [Warning] No further splits with positive gain, best gain: -inf\n",
      "[LightGBM] [Warning] No further splits with positive gain, best gain: -inf\n",
      "[LightGBM] [Warning] No further splits with positive gain, best gain: -inf\n",
      "[LightGBM] [Warning] No further splits with positive gain, best gain: -inf\n",
      "[LightGBM] [Warning] No further splits with positive gain, best gain: -inf\n",
      "[LightGBM] [Warning] No further splits with positive gain, best gain: -inf\n",
      "[LightGBM] [Warning] No further splits with positive gain, best gain: -inf\n",
      "[LightGBM] [Warning] No further splits with positive gain, best gain: -inf\n",
      "[LightGBM] [Warning] No further splits with positive gain, best gain: -inf\n",
      "[LightGBM] [Warning] No further splits with positive gain, best gain: -inf\n",
      "[LightGBM] [Warning] No further splits with positive gain, best gain: -inf\n",
      "[LightGBM] [Warning] No further splits with positive gain, best gain: -inf\n",
      "[LightGBM] [Warning] No further splits with positive gain, best gain: -inf\n",
      "[LightGBM] [Warning] No further splits with positive gain, best gain: -inf\n",
      "[LightGBM] [Warning] No further splits with positive gain, best gain: -inf\n",
      "[LightGBM] [Warning] No further splits with positive gain, best gain: -inf\n",
      "[LightGBM] [Warning] No further splits with positive gain, best gain: -inf\n",
      "[LightGBM] [Warning] No further splits with positive gain, best gain: -inf\n",
      "[LightGBM] [Warning] No further splits with positive gain, best gain: -inf\n",
      "[LightGBM] [Warning] No further splits with positive gain, best gain: -inf\n",
      "[LightGBM] [Warning] No further splits with positive gain, best gain: -inf\n",
      "[LightGBM] [Warning] No further splits with positive gain, best gain: -inf\n",
      "[LightGBM] [Warning] No further splits with positive gain, best gain: -inf\n",
      "[LightGBM] [Warning] No further splits with positive gain, best gain: -inf\n",
      "[LightGBM] [Warning] No further splits with positive gain, best gain: -inf\n",
      "[LightGBM] [Warning] No further splits with positive gain, best gain: -inf\n",
      "[LightGBM] [Warning] No further splits with positive gain, best gain: -inf\n",
      "[LightGBM] [Warning] No further splits with positive gain, best gain: -inf\n",
      "[LightGBM] [Warning] No further splits with positive gain, best gain: -inf\n",
      "[LightGBM] [Warning] No further splits with positive gain, best gain: -inf\n",
      "[LightGBM] [Warning] No further splits with positive gain, best gain: -inf\n",
      "[LightGBM] [Warning] No further splits with positive gain, best gain: -inf\n",
      "[LightGBM] [Warning] No further splits with positive gain, best gain: -inf\n",
      "[LightGBM] [Warning] No further splits with positive gain, best gain: -inf\n",
      "[LightGBM] [Warning] No further splits with positive gain, best gain: -inf\n",
      "[LightGBM] [Warning] No further splits with positive gain, best gain: -inf\n",
      "[LightGBM] [Warning] No further splits with positive gain, best gain: -inf\n",
      "[LightGBM] [Warning] No further splits with positive gain, best gain: -inf\n",
      "[LightGBM] [Warning] No further splits with positive gain, best gain: -inf\n",
      "[LightGBM] [Warning] No further splits with positive gain, best gain: -inf\n",
      "[LightGBM] [Warning] No further splits with positive gain, best gain: -inf\n",
      "[LightGBM] [Warning] No further splits with positive gain, best gain: -inf\n",
      "[LightGBM] [Warning] No further splits with positive gain, best gain: -inf\n",
      "[LightGBM] [Warning] No further splits with positive gain, best gain: -inf\n",
      "[LightGBM] [Warning] No further splits with positive gain, best gain: -inf\n",
      "[LightGBM] [Warning] No further splits with positive gain, best gain: -inf\n",
      "[LightGBM] [Warning] No further splits with positive gain, best gain: -inf\n",
      "[LightGBM] [Warning] No further splits with positive gain, best gain: -inf\n",
      "[LightGBM] [Warning] No further splits with positive gain, best gain: -inf\n",
      "[LightGBM] [Warning] No further splits with positive gain, best gain: -inf\n",
      "[LightGBM] [Warning] No further splits with positive gain, best gain: -inf\n",
      "[LightGBM] [Warning] No further splits with positive gain, best gain: -inf\n",
      "[LightGBM] [Warning] No further splits with positive gain, best gain: -inf\n",
      "[LightGBM] [Warning] No further splits with positive gain, best gain: -inf\n",
      "[LightGBM] [Warning] No further splits with positive gain, best gain: -inf\n",
      "[LightGBM] [Warning] No further splits with positive gain, best gain: -inf\n",
      "[LightGBM] [Warning] No further splits with positive gain, best gain: -inf\n",
      "[LightGBM] [Warning] No further splits with positive gain, best gain: -inf\n",
      "[LightGBM] [Warning] No further splits with positive gain, best gain: -inf\n",
      "[LightGBM] [Warning] No further splits with positive gain, best gain: -inf\n",
      "[LightGBM] [Warning] No further splits with positive gain, best gain: -inf\n",
      "[LightGBM] [Warning] No further splits with positive gain, best gain: -inf\n",
      "[LightGBM] [Warning] No further splits with positive gain, best gain: -inf\n",
      "[LightGBM] [Warning] No further splits with positive gain, best gain: -inf\n",
      "[LightGBM] [Warning] No further splits with positive gain, best gain: -inf\n",
      "[LightGBM] [Warning] No further splits with positive gain, best gain: -inf\n",
      "[LightGBM] [Warning] No further splits with positive gain, best gain: -inf\n",
      "[LightGBM] [Warning] No further splits with positive gain, best gain: -inf\n",
      "[LightGBM] [Warning] No further splits with positive gain, best gain: -inf\n",
      "[LightGBM] [Warning] No further splits with positive gain, best gain: -inf\n",
      "[LightGBM] [Warning] No further splits with positive gain, best gain: -inf\n",
      "[LightGBM] [Warning] No further splits with positive gain, best gain: -inf\n",
      "[LightGBM] [Warning] No further splits with positive gain, best gain: -inf\n",
      "[LightGBM] [Warning] No further splits with positive gain, best gain: -inf\n",
      "[LightGBM] [Warning] No further splits with positive gain, best gain: -inf\n",
      "[LightGBM] [Warning] No further splits with positive gain, best gain: -inf\n",
      "[LightGBM] [Warning] No further splits with positive gain, best gain: -inf\n",
      "[LightGBM] [Warning] No further splits with positive gain, best gain: -inf\n",
      "[LightGBM] [Warning] No further splits with positive gain, best gain: -inf\n",
      "[LightGBM] [Warning] No further splits with positive gain, best gain: -inf\n",
      "[LightGBM] [Warning] No further splits with positive gain, best gain: -inf\n",
      "[LightGBM] [Warning] No further splits with positive gain, best gain: -inf\n",
      "[LightGBM] [Warning] No further splits with positive gain, best gain: -inf\n",
      "[LightGBM] [Warning] No further splits with positive gain, best gain: -inf\n",
      "[LightGBM] [Warning] No further splits with positive gain, best gain: -inf\n",
      "[LightGBM] [Warning] No further splits with positive gain, best gain: -inf\n",
      "[LightGBM] [Warning] No further splits with positive gain, best gain: -inf\n",
      "[LightGBM] [Warning] No further splits with positive gain, best gain: -inf\n",
      "[LightGBM] [Warning] No further splits with positive gain, best gain: -inf\n",
      "[LightGBM] [Warning] No further splits with positive gain, best gain: -inf\n",
      "[LightGBM] [Warning] No further splits with positive gain, best gain: -inf\n",
      "[LightGBM] [Warning] No further splits with positive gain, best gain: -inf\n",
      "[LightGBM] [Warning] No further splits with positive gain, best gain: -inf\n",
      "[LightGBM] [Warning] No further splits with positive gain, best gain: -inf\n",
      "[LightGBM] [Warning] No further splits with positive gain, best gain: -inf\n",
      "[LightGBM] [Warning] No further splits with positive gain, best gain: -inf\n",
      "[LightGBM] [Warning] No further splits with positive gain, best gain: -inf\n",
      "[LightGBM] [Warning] No further splits with positive gain, best gain: -inf\n",
      "[LightGBM] [Warning] No further splits with positive gain, best gain: -inf\n",
      "[LightGBM] [Warning] No further splits with positive gain, best gain: -inf\n",
      "[LightGBM] [Warning] No further splits with positive gain, best gain: -inf\n",
      "Early stopping, best iteration is:                   \n",
      "[385]\tvalid_0's rmse: 0.545471\n",
      "100%|██████████| 1/1 [01:32<00:00, 92.31s/trial, best loss: 0.5117242657843019]\n",
      "[LightGBM] [Info] Auto-choosing row-wise multi-threading, the overhead of testing was 0.000292 seconds.\n",
      "You can set `force_row_wise=true` to remove the overhead.\n",
      "And if memory is not enough, you can set `force_col_wise=true`.\n",
      "[LightGBM] [Info] Total Bins 1313\n",
      "[LightGBM] [Info] Number of data points in the train set: 471, number of used features: 30\n",
      "[LightGBM] [Info] Start training from score 2.382059\n",
      "[LightGBM] [Warning] No further splits with positive gain, best gain: -inf\n",
      "[LightGBM] [Warning] No further splits with positive gain, best gain: -inf\n",
      "[LightGBM] [Warning] No further splits with positive gain, best gain: -inf\n",
      "[LightGBM] [Warning] No further splits with positive gain, best gain: -inf\n",
      "[LightGBM] [Warning] No further splits with positive gain, best gain: -inf\n",
      "[LightGBM] [Warning] No further splits with positive gain, best gain: -inf\n",
      "[LightGBM] [Warning] No further splits with positive gain, best gain: -inf\n",
      "[LightGBM] [Warning] No further splits with positive gain, best gain: -inf\n",
      "[LightGBM] [Warning] No further splits with positive gain, best gain: -inf\n",
      "[LightGBM] [Warning] No further splits with positive gain, best gain: -inf\n",
      "[LightGBM] [Warning] No further splits with positive gain, best gain: -inf\n",
      "[LightGBM] [Warning] No further splits with positive gain, best gain: -inf\n",
      "[LightGBM] [Warning] No further splits with positive gain, best gain: -inf\n",
      "[LightGBM] [Warning] No further splits with positive gain, best gain: -inf\n",
      "[LightGBM] [Warning] No further splits with positive gain, best gain: -inf\n",
      "[LightGBM] [Warning] No further splits with positive gain, best gain: -inf\n",
      "[LightGBM] [Warning] No further splits with positive gain, best gain: -inf\n",
      "[LightGBM] [Warning] No further splits with positive gain, best gain: -inf\n",
      "[LightGBM] [Warning] No further splits with positive gain, best gain: -inf\n",
      "[LightGBM] [Warning] No further splits with positive gain, best gain: -inf\n",
      "[LightGBM] [Warning] No further splits with positive gain, best gain: -inf\n",
      "[LightGBM] [Warning] No further splits with positive gain, best gain: -inf\n",
      "[LightGBM] [Warning] No further splits with positive gain, best gain: -inf\n",
      "[LightGBM] [Warning] No further splits with positive gain, best gain: -inf\n",
      "[LightGBM] [Warning] No further splits with positive gain, best gain: -inf\n",
      "[LightGBM] [Warning] No further splits with positive gain, best gain: -inf\n",
      "[LightGBM] [Warning] No further splits with positive gain, best gain: -inf\n",
      "[LightGBM] [Warning] No further splits with positive gain, best gain: -inf\n",
      "[LightGBM] [Warning] No further splits with positive gain, best gain: -inf\n",
      "[LightGBM] [Warning] No further splits with positive gain, best gain: -inf\n",
      "[LightGBM] [Warning] No further splits with positive gain, best gain: -inf\n",
      "[LightGBM] [Warning] No further splits with positive gain, best gain: -inf\n",
      "[LightGBM] [Warning] No further splits with positive gain, best gain: -inf\n",
      "[LightGBM] [Warning] No further splits with positive gain, best gain: -inf\n",
      "[LightGBM] [Warning] No further splits with positive gain, best gain: -inf\n",
      "[LightGBM] [Warning] No further splits with positive gain, best gain: -inf\n",
      "[LightGBM] [Warning] No further splits with positive gain, best gain: -inf\n",
      "[LightGBM] [Warning] No further splits with positive gain, best gain: -inf\n",
      "[LightGBM] [Warning] No further splits with positive gain, best gain: -inf\n",
      "[LightGBM] [Warning] No further splits with positive gain, best gain: -inf\n",
      "[LightGBM] [Warning] No further splits with positive gain, best gain: -inf\n",
      "[LightGBM] [Warning] No further splits with positive gain, best gain: -inf\n",
      "[LightGBM] [Warning] No further splits with positive gain, best gain: -inf\n",
      "[LightGBM] [Warning] No further splits with positive gain, best gain: -inf\n",
      "[LightGBM] [Warning] No further splits with positive gain, best gain: -inf\n",
      "[LightGBM] [Warning] No further splits with positive gain, best gain: -inf\n",
      "[LightGBM] [Warning] No further splits with positive gain, best gain: -inf\n",
      "[LightGBM] [Warning] No further splits with positive gain, best gain: -inf\n",
      "[LightGBM] [Warning] No further splits with positive gain, best gain: -inf\n",
      "[LightGBM] [Warning] No further splits with positive gain, best gain: -inf\n",
      "[LightGBM] [Warning] No further splits with positive gain, best gain: -inf\n",
      "[LightGBM] [Warning] No further splits with positive gain, best gain: -inf\n",
      "[LightGBM] [Warning] No further splits with positive gain, best gain: -inf\n",
      "[LightGBM] [Warning] No further splits with positive gain, best gain: -inf\n",
      "[LightGBM] [Warning] No further splits with positive gain, best gain: -inf\n",
      "[LightGBM] [Warning] No further splits with positive gain, best gain: -inf\n",
      "[LightGBM] [Warning] No further splits with positive gain, best gain: -inf\n",
      "[LightGBM] [Warning] No further splits with positive gain, best gain: -inf\n",
      "[LightGBM] [Warning] No further splits with positive gain, best gain: -inf\n",
      "[LightGBM] [Warning] No further splits with positive gain, best gain: -inf\n",
      "[LightGBM] [Warning] No further splits with positive gain, best gain: -inf\n",
      "[LightGBM] [Warning] No further splits with positive gain, best gain: -inf\n",
      "[LightGBM] [Warning] No further splits with positive gain, best gain: -inf\n",
      "[LightGBM] [Warning] No further splits with positive gain, best gain: -inf\n",
      "[LightGBM] [Warning] No further splits with positive gain, best gain: -inf\n",
      "[LightGBM] [Warning] No further splits with positive gain, best gain: -inf\n",
      "[LightGBM] [Warning] No further splits with positive gain, best gain: -inf\n",
      "[LightGBM] [Warning] No further splits with positive gain, best gain: -inf\n",
      "[LightGBM] [Warning] No further splits with positive gain, best gain: -inf\n",
      "[LightGBM] [Warning] No further splits with positive gain, best gain: -inf\n",
      "[LightGBM] [Warning] No further splits with positive gain, best gain: -inf\n",
      "[LightGBM] [Warning] No further splits with positive gain, best gain: -inf\n",
      "[LightGBM] [Warning] No further splits with positive gain, best gain: -inf\n",
      "[LightGBM] [Warning] No further splits with positive gain, best gain: -inf\n",
      "[LightGBM] [Warning] No further splits with positive gain, best gain: -inf\n",
      "[LightGBM] [Warning] No further splits with positive gain, best gain: -inf\n",
      "[LightGBM] [Warning] No further splits with positive gain, best gain: -inf\n",
      "[LightGBM] [Warning] No further splits with positive gain, best gain: -inf\n",
      "[LightGBM] [Warning] No further splits with positive gain, best gain: -inf\n",
      "[LightGBM] [Warning] No further splits with positive gain, best gain: -inf\n",
      "[LightGBM] [Warning] No further splits with positive gain, best gain: -inf\n",
      "[LightGBM] [Warning] No further splits with positive gain, best gain: -inf\n",
      "[LightGBM] [Warning] No further splits with positive gain, best gain: -inf\n",
      "[LightGBM] [Warning] No further splits with positive gain, best gain: -inf\n",
      "[LightGBM] [Warning] No further splits with positive gain, best gain: -inf\n",
      "[LightGBM] [Warning] No further splits with positive gain, best gain: -inf\n",
      "[LightGBM] [Warning] No further splits with positive gain, best gain: -inf\n",
      "[LightGBM] [Warning] No further splits with positive gain, best gain: -inf\n",
      "[LightGBM] [Warning] No further splits with positive gain, best gain: -inf\n",
      "[LightGBM] [Warning] No further splits with positive gain, best gain: -inf\n",
      "[LightGBM] [Warning] No further splits with positive gain, best gain: -inf\n",
      "[LightGBM] [Warning] No further splits with positive gain, best gain: -inf\n",
      "[LightGBM] [Warning] No further splits with positive gain, best gain: -inf\n",
      "[LightGBM] [Warning] No further splits with positive gain, best gain: -inf\n",
      "[LightGBM] [Warning] No further splits with positive gain, best gain: -inf\n",
      "[LightGBM] [Warning] No further splits with positive gain, best gain: -inf\n",
      "[LightGBM] [Warning] No further splits with positive gain, best gain: -inf\n",
      "[LightGBM] [Warning] No further splits with positive gain, best gain: -inf\n",
      "[LightGBM] [Warning] No further splits with positive gain, best gain: -inf\n",
      "[LightGBM] [Warning] No further splits with positive gain, best gain: -inf\n",
      "[LightGBM] [Warning] No further splits with positive gain, best gain: -inf\n",
      "[LightGBM] [Warning] No further splits with positive gain, best gain: -inf\n",
      "[LightGBM] [Warning] No further splits with positive gain, best gain: -inf\n",
      "[LightGBM] [Warning] No further splits with positive gain, best gain: -inf\n",
      "[LightGBM] [Warning] No further splits with positive gain, best gain: -inf\n",
      "[LightGBM] [Warning] No further splits with positive gain, best gain: -inf\n",
      "[LightGBM] [Warning] No further splits with positive gain, best gain: -inf\n",
      "[LightGBM] [Warning] No further splits with positive gain, best gain: -inf\n",
      "[LightGBM] [Warning] No further splits with positive gain, best gain: -inf\n",
      "[LightGBM] [Warning] No further splits with positive gain, best gain: -inf\n",
      "[LightGBM] [Warning] No further splits with positive gain, best gain: -inf\n",
      "[LightGBM] [Warning] No further splits with positive gain, best gain: -inf\n",
      "[LightGBM] [Warning] No further splits with positive gain, best gain: -inf\n",
      "[LightGBM] [Warning] No further splits with positive gain, best gain: -inf\n",
      "[LightGBM] [Warning] No further splits with positive gain, best gain: -inf\n",
      "[LightGBM] [Warning] No further splits with positive gain, best gain: -inf\n",
      "[LightGBM] [Warning] No further splits with positive gain, best gain: -inf\n",
      "[LightGBM] [Warning] No further splits with positive gain, best gain: -inf\n",
      "[LightGBM] [Warning] No further splits with positive gain, best gain: -inf\n",
      "[LightGBM] [Warning] No further splits with positive gain, best gain: -inf\n",
      "[LightGBM] [Warning] No further splits with positive gain, best gain: -inf\n",
      "[LightGBM] [Warning] No further splits with positive gain, best gain: -inf\n",
      "[LightGBM] [Warning] No further splits with positive gain, best gain: -inf\n",
      "[LightGBM] [Warning] No further splits with positive gain, best gain: -inf\n",
      "[LightGBM] [Warning] No further splits with positive gain, best gain: -inf\n",
      "[LightGBM] [Warning] No further splits with positive gain, best gain: -inf\n",
      "[LightGBM] [Warning] No further splits with positive gain, best gain: -inf\n",
      "[LightGBM] [Warning] No further splits with positive gain, best gain: -inf\n",
      "[LightGBM] [Warning] No further splits with positive gain, best gain: -inf\n",
      "[LightGBM] [Warning] No further splits with positive gain, best gain: -inf\n",
      "[LightGBM] [Warning] No further splits with positive gain, best gain: -inf\n",
      "[LightGBM] [Warning] No further splits with positive gain, best gain: -inf\n",
      "[LightGBM] [Warning] No further splits with positive gain, best gain: -inf\n",
      "[LightGBM] [Warning] No further splits with positive gain, best gain: -inf\n",
      "[LightGBM] [Warning] No further splits with positive gain, best gain: -inf\n",
      "[LightGBM] [Warning] No further splits with positive gain, best gain: -inf\n",
      "[LightGBM] [Warning] No further splits with positive gain, best gain: -inf\n",
      "[LightGBM] [Info] Auto-choosing col-wise multi-threading, the overhead of testing was 0.000442 seconds.\n",
      "You can set `force_col_wise=true` to remove the overhead.\n",
      "[LightGBM] [Info] Total Bins 1333\n",
      "[LightGBM] [Info] Number of data points in the train set: 472, number of used features: 30\n",
      "[LightGBM] [Info] Start training from score 2.401123\n",
      "[LightGBM] [Warning] No further splits with positive gain, best gain: -inf\n",
      "[LightGBM] [Warning] No further splits with positive gain, best gain: -inf\n",
      "[LightGBM] [Warning] No further splits with positive gain, best gain: -inf\n",
      "[LightGBM] [Warning] No further splits with positive gain, best gain: -inf\n",
      "[LightGBM] [Warning] No further splits with positive gain, best gain: -inf\n",
      "[LightGBM] [Warning] No further splits with positive gain, best gain: -inf\n",
      "[LightGBM] [Warning] No further splits with positive gain, best gain: -inf\n",
      "[LightGBM] [Warning] No further splits with positive gain, best gain: -inf\n",
      "[LightGBM] [Warning] No further splits with positive gain, best gain: -inf\n",
      "[LightGBM] [Warning] No further splits with positive gain, best gain: -inf\n",
      "[LightGBM] [Warning] No further splits with positive gain, best gain: -inf\n",
      "[LightGBM] [Warning] No further splits with positive gain, best gain: -inf\n",
      "[LightGBM] [Warning] No further splits with positive gain, best gain: -inf\n",
      "[LightGBM] [Warning] No further splits with positive gain, best gain: -inf\n",
      "[LightGBM] [Warning] No further splits with positive gain, best gain: -inf\n",
      "[LightGBM] [Warning] No further splits with positive gain, best gain: -inf\n",
      "[LightGBM] [Warning] No further splits with positive gain, best gain: -inf\n",
      "[LightGBM] [Warning] No further splits with positive gain, best gain: -inf\n",
      "[LightGBM] [Warning] No further splits with positive gain, best gain: -inf\n",
      "[LightGBM] [Warning] No further splits with positive gain, best gain: -inf\n",
      "[LightGBM] [Warning] No further splits with positive gain, best gain: -inf\n",
      "[LightGBM] [Warning] No further splits with positive gain, best gain: -inf\n",
      "[LightGBM] [Warning] No further splits with positive gain, best gain: -inf\n",
      "[LightGBM] [Warning] No further splits with positive gain, best gain: -inf\n",
      "[LightGBM] [Warning] No further splits with positive gain, best gain: -inf\n",
      "[LightGBM] [Warning] No further splits with positive gain, best gain: -inf\n",
      "[LightGBM] [Warning] No further splits with positive gain, best gain: -inf\n",
      "[LightGBM] [Warning] No further splits with positive gain, best gain: -inf\n",
      "[LightGBM] [Warning] No further splits with positive gain, best gain: -inf\n",
      "[LightGBM] [Warning] No further splits with positive gain, best gain: -inf\n",
      "[LightGBM] [Warning] No further splits with positive gain, best gain: -inf\n",
      "[LightGBM] [Warning] No further splits with positive gain, best gain: -inf\n",
      "[LightGBM] [Warning] No further splits with positive gain, best gain: -inf\n",
      "[LightGBM] [Warning] No further splits with positive gain, best gain: -inf\n",
      "[LightGBM] [Warning] No further splits with positive gain, best gain: -inf\n",
      "[LightGBM] [Warning] No further splits with positive gain, best gain: -inf\n",
      "[LightGBM] [Warning] No further splits with positive gain, best gain: -inf\n",
      "[LightGBM] [Warning] No further splits with positive gain, best gain: -inf\n",
      "[LightGBM] [Warning] No further splits with positive gain, best gain: -inf\n",
      "[LightGBM] [Warning] No further splits with positive gain, best gain: -inf\n",
      "[LightGBM] [Warning] No further splits with positive gain, best gain: -inf\n",
      "[LightGBM] [Warning] No further splits with positive gain, best gain: -inf\n",
      "[LightGBM] [Warning] No further splits with positive gain, best gain: -inf\n",
      "[LightGBM] [Warning] No further splits with positive gain, best gain: -inf\n",
      "[LightGBM] [Warning] No further splits with positive gain, best gain: -inf\n",
      "[LightGBM] [Warning] No further splits with positive gain, best gain: -inf\n",
      "[LightGBM] [Warning] No further splits with positive gain, best gain: -inf\n",
      "[LightGBM] [Warning] No further splits with positive gain, best gain: -inf\n",
      "[LightGBM] [Warning] No further splits with positive gain, best gain: -inf\n",
      "[LightGBM] [Warning] No further splits with positive gain, best gain: -inf\n",
      "[LightGBM] [Warning] No further splits with positive gain, best gain: -inf\n",
      "[LightGBM] [Warning] No further splits with positive gain, best gain: -inf\n",
      "[LightGBM] [Warning] No further splits with positive gain, best gain: -inf\n",
      "[LightGBM] [Warning] No further splits with positive gain, best gain: -inf\n",
      "[LightGBM] [Warning] No further splits with positive gain, best gain: -inf\n",
      "[LightGBM] [Warning] No further splits with positive gain, best gain: -inf\n",
      "[LightGBM] [Warning] No further splits with positive gain, best gain: -inf\n",
      "[LightGBM] [Warning] No further splits with positive gain, best gain: -inf\n",
      "[LightGBM] [Warning] No further splits with positive gain, best gain: -inf\n",
      "[LightGBM] [Warning] No further splits with positive gain, best gain: -inf\n",
      "[LightGBM] [Warning] No further splits with positive gain, best gain: -inf\n",
      "[LightGBM] [Warning] No further splits with positive gain, best gain: -inf\n",
      "[LightGBM] [Warning] No further splits with positive gain, best gain: -inf\n",
      "[LightGBM] [Warning] No further splits with positive gain, best gain: -inf\n",
      "[LightGBM] [Warning] No further splits with positive gain, best gain: -inf\n",
      "[LightGBM] [Warning] No further splits with positive gain, best gain: -inf\n",
      "[LightGBM] [Warning] No further splits with positive gain, best gain: -inf\n",
      "[LightGBM] [Warning] No further splits with positive gain, best gain: -inf\n",
      "[LightGBM] [Warning] No further splits with positive gain, best gain: -inf\n",
      "[LightGBM] [Warning] No further splits with positive gain, best gain: -inf\n",
      "[LightGBM] [Warning] No further splits with positive gain, best gain: -inf\n",
      "[LightGBM] [Warning] No further splits with positive gain, best gain: -inf\n",
      "[LightGBM] [Warning] No further splits with positive gain, best gain: -inf\n",
      "[LightGBM] [Warning] No further splits with positive gain, best gain: -inf\n",
      "[LightGBM] [Warning] No further splits with positive gain, best gain: -inf\n",
      "[LightGBM] [Warning] No further splits with positive gain, best gain: -inf\n",
      "[LightGBM] [Warning] No further splits with positive gain, best gain: -inf\n",
      "[LightGBM] [Warning] No further splits with positive gain, best gain: -inf\n",
      "[LightGBM] [Warning] No further splits with positive gain, best gain: -inf\n",
      "[LightGBM] [Warning] No further splits with positive gain, best gain: -inf\n",
      "[LightGBM] [Warning] No further splits with positive gain, best gain: -inf\n",
      "[LightGBM] [Warning] No further splits with positive gain, best gain: -inf\n",
      "[LightGBM] [Warning] No further splits with positive gain, best gain: -inf\n",
      "[LightGBM] [Warning] No further splits with positive gain, best gain: -inf\n",
      "[LightGBM] [Warning] No further splits with positive gain, best gain: -inf\n",
      "[LightGBM] [Warning] No further splits with positive gain, best gain: -inf\n",
      "[LightGBM] [Warning] No further splits with positive gain, best gain: -inf\n",
      "[LightGBM] [Warning] No further splits with positive gain, best gain: -inf\n",
      "[LightGBM] [Warning] No further splits with positive gain, best gain: -inf\n",
      "[LightGBM] [Warning] No further splits with positive gain, best gain: -inf\n",
      "[LightGBM] [Warning] No further splits with positive gain, best gain: -inf\n",
      "[LightGBM] [Warning] No further splits with positive gain, best gain: -inf\n",
      "[LightGBM] [Warning] No further splits with positive gain, best gain: -inf\n",
      "[LightGBM] [Warning] No further splits with positive gain, best gain: -inf\n",
      "[LightGBM] [Warning] No further splits with positive gain, best gain: -inf\n",
      "[LightGBM] [Warning] No further splits with positive gain, best gain: -inf\n",
      "[LightGBM] [Warning] No further splits with positive gain, best gain: -inf\n",
      "[LightGBM] [Warning] No further splits with positive gain, best gain: -inf\n",
      "[LightGBM] [Warning] No further splits with positive gain, best gain: -inf\n",
      "[LightGBM] [Warning] No further splits with positive gain, best gain: -inf\n",
      "[LightGBM] [Warning] No further splits with positive gain, best gain: -inf\n",
      "[LightGBM] [Warning] No further splits with positive gain, best gain: -inf\n",
      "[LightGBM] [Warning] No further splits with positive gain, best gain: -inf\n",
      "[LightGBM] [Warning] No further splits with positive gain, best gain: -inf\n",
      "[LightGBM] [Warning] No further splits with positive gain, best gain: -inf\n",
      "[LightGBM] [Warning] No further splits with positive gain, best gain: -inf\n",
      "[LightGBM] [Warning] No further splits with positive gain, best gain: -inf\n",
      "[LightGBM] [Warning] No further splits with positive gain, best gain: -inf\n",
      "[LightGBM] [Warning] No further splits with positive gain, best gain: -inf\n",
      "[LightGBM] [Warning] No further splits with positive gain, best gain: -inf\n",
      "[LightGBM] [Warning] No further splits with positive gain, best gain: -inf\n",
      "[LightGBM] [Warning] No further splits with positive gain, best gain: -inf\n",
      "[LightGBM] [Warning] No further splits with positive gain, best gain: -inf\n",
      "[LightGBM] [Warning] No further splits with positive gain, best gain: -inf\n",
      "[LightGBM] [Warning] No further splits with positive gain, best gain: -inf\n",
      "[LightGBM] [Warning] No further splits with positive gain, best gain: -inf\n",
      "[LightGBM] [Warning] No further splits with positive gain, best gain: -inf\n",
      "[LightGBM] [Warning] No further splits with positive gain, best gain: -inf\n",
      "[LightGBM] [Warning] No further splits with positive gain, best gain: -inf\n",
      "[LightGBM] [Warning] No further splits with positive gain, best gain: -inf\n",
      "[LightGBM] [Warning] No further splits with positive gain, best gain: -inf\n",
      "[LightGBM] [Warning] No further splits with positive gain, best gain: -inf\n",
      "[LightGBM] [Warning] No further splits with positive gain, best gain: -inf\n",
      "[LightGBM] [Warning] No further splits with positive gain, best gain: -inf\n",
      "[LightGBM] [Warning] No further splits with positive gain, best gain: -inf\n",
      "[LightGBM] [Warning] No further splits with positive gain, best gain: -inf\n",
      "[LightGBM] [Warning] No further splits with positive gain, best gain: -inf\n",
      "[LightGBM] [Warning] No further splits with positive gain, best gain: -inf\n",
      "[LightGBM] [Warning] No further splits with positive gain, best gain: -inf\n",
      "[LightGBM] [Warning] No further splits with positive gain, best gain: -inf\n",
      "[LightGBM] [Warning] No further splits with positive gain, best gain: -inf\n",
      "[LightGBM] [Warning] No further splits with positive gain, best gain: -inf\n",
      "[LightGBM] [Warning] No further splits with positive gain, best gain: -inf\n",
      "[LightGBM] [Warning] No further splits with positive gain, best gain: -inf\n",
      "[LightGBM] [Warning] No further splits with positive gain, best gain: -inf\n",
      "[LightGBM] [Warning] No further splits with positive gain, best gain: -inf\n",
      "[LightGBM] [Warning] No further splits with positive gain, best gain: -inf\n",
      "[LightGBM] [Info] Auto-choosing col-wise multi-threading, the overhead of testing was 0.000581 seconds.\n",
      "You can set `force_col_wise=true` to remove the overhead.\n",
      "[LightGBM] [Info] Total Bins 1344\n",
      "[LightGBM] [Info] Number of data points in the train set: 470, number of used features: 30\n",
      "[LightGBM] [Info] Start training from score 2.391447\n",
      "[LightGBM] [Warning] No further splits with positive gain, best gain: -inf\n",
      "[LightGBM] [Warning] No further splits with positive gain, best gain: -inf\n",
      "[LightGBM] [Warning] No further splits with positive gain, best gain: -inf\n",
      "[LightGBM] [Warning] No further splits with positive gain, best gain: -inf\n",
      "[LightGBM] [Warning] No further splits with positive gain, best gain: -inf\n",
      "[LightGBM] [Warning] No further splits with positive gain, best gain: -inf\n",
      "[LightGBM] [Warning] No further splits with positive gain, best gain: -inf\n",
      "[LightGBM] [Warning] No further splits with positive gain, best gain: -inf\n",
      "[LightGBM] [Warning] No further splits with positive gain, best gain: -inf\n",
      "[LightGBM] [Warning] No further splits with positive gain, best gain: -inf\n",
      "[LightGBM] [Warning] No further splits with positive gain, best gain: -inf\n",
      "[LightGBM] [Warning] No further splits with positive gain, best gain: -inf\n",
      "[LightGBM] [Warning] No further splits with positive gain, best gain: -inf\n",
      "[LightGBM] [Warning] No further splits with positive gain, best gain: -inf\n",
      "[LightGBM] [Warning] No further splits with positive gain, best gain: -inf\n",
      "[LightGBM] [Warning] No further splits with positive gain, best gain: -inf\n",
      "[LightGBM] [Warning] No further splits with positive gain, best gain: -inf\n",
      "[LightGBM] [Warning] No further splits with positive gain, best gain: -inf\n",
      "[LightGBM] [Warning] No further splits with positive gain, best gain: -inf\n",
      "[LightGBM] [Warning] No further splits with positive gain, best gain: -inf\n",
      "[LightGBM] [Warning] No further splits with positive gain, best gain: -inf\n",
      "[LightGBM] [Warning] No further splits with positive gain, best gain: -inf\n",
      "[LightGBM] [Warning] No further splits with positive gain, best gain: -inf\n",
      "[LightGBM] [Warning] No further splits with positive gain, best gain: -inf\n",
      "[LightGBM] [Warning] No further splits with positive gain, best gain: -inf\n",
      "[LightGBM] [Warning] No further splits with positive gain, best gain: -inf\n",
      "[LightGBM] [Warning] No further splits with positive gain, best gain: -inf\n",
      "[LightGBM] [Warning] No further splits with positive gain, best gain: -inf\n",
      "[LightGBM] [Warning] No further splits with positive gain, best gain: -inf\n",
      "[LightGBM] [Warning] No further splits with positive gain, best gain: -inf\n",
      "[LightGBM] [Warning] No further splits with positive gain, best gain: -inf\n",
      "[LightGBM] [Warning] No further splits with positive gain, best gain: -inf\n",
      "[LightGBM] [Warning] No further splits with positive gain, best gain: -inf\n",
      "[LightGBM] [Warning] No further splits with positive gain, best gain: -inf\n",
      "[LightGBM] [Warning] No further splits with positive gain, best gain: -inf\n",
      "[LightGBM] [Warning] No further splits with positive gain, best gain: -inf\n",
      "[LightGBM] [Warning] No further splits with positive gain, best gain: -inf\n",
      "[LightGBM] [Warning] No further splits with positive gain, best gain: -inf\n",
      "[LightGBM] [Warning] No further splits with positive gain, best gain: -inf\n",
      "[LightGBM] [Warning] No further splits with positive gain, best gain: -inf\n",
      "[LightGBM] [Warning] No further splits with positive gain, best gain: -inf\n",
      "[LightGBM] [Warning] No further splits with positive gain, best gain: -inf\n",
      "[LightGBM] [Warning] No further splits with positive gain, best gain: -inf\n",
      "[LightGBM] [Warning] No further splits with positive gain, best gain: -inf\n",
      "[LightGBM] [Warning] No further splits with positive gain, best gain: -inf\n",
      "[LightGBM] [Warning] No further splits with positive gain, best gain: -inf\n",
      "[LightGBM] [Warning] No further splits with positive gain, best gain: -inf\n",
      "[LightGBM] [Warning] No further splits with positive gain, best gain: -inf\n",
      "[LightGBM] [Warning] No further splits with positive gain, best gain: -inf\n",
      "[LightGBM] [Warning] No further splits with positive gain, best gain: -inf\n",
      "[LightGBM] [Warning] No further splits with positive gain, best gain: -inf\n",
      "[LightGBM] [Warning] No further splits with positive gain, best gain: -inf\n",
      "[LightGBM] [Warning] No further splits with positive gain, best gain: -inf\n",
      "[LightGBM] [Warning] No further splits with positive gain, best gain: -inf\n",
      "[LightGBM] [Warning] No further splits with positive gain, best gain: -inf\n",
      "[LightGBM] [Warning] No further splits with positive gain, best gain: -inf\n",
      "[LightGBM] [Warning] No further splits with positive gain, best gain: -inf\n",
      "[LightGBM] [Warning] No further splits with positive gain, best gain: -inf\n",
      "[LightGBM] [Warning] No further splits with positive gain, best gain: -inf\n",
      "[LightGBM] [Warning] No further splits with positive gain, best gain: -inf\n",
      "[LightGBM] [Warning] No further splits with positive gain, best gain: -inf\n",
      "[LightGBM] [Warning] No further splits with positive gain, best gain: -inf\n",
      "[LightGBM] [Warning] No further splits with positive gain, best gain: -inf\n",
      "[LightGBM] [Warning] No further splits with positive gain, best gain: -inf\n",
      "[LightGBM] [Warning] No further splits with positive gain, best gain: -inf\n",
      "[LightGBM] [Warning] No further splits with positive gain, best gain: -inf\n",
      "[LightGBM] [Warning] No further splits with positive gain, best gain: -inf\n",
      "[LightGBM] [Warning] No further splits with positive gain, best gain: -inf\n",
      "[LightGBM] [Warning] No further splits with positive gain, best gain: -inf\n",
      "[LightGBM] [Warning] No further splits with positive gain, best gain: -inf\n",
      "[LightGBM] [Warning] No further splits with positive gain, best gain: -inf\n",
      "[LightGBM] [Warning] No further splits with positive gain, best gain: -inf\n",
      "[LightGBM] [Warning] No further splits with positive gain, best gain: -inf\n",
      "[LightGBM] [Warning] No further splits with positive gain, best gain: -inf\n",
      "[LightGBM] [Warning] No further splits with positive gain, best gain: -inf\n",
      "[LightGBM] [Warning] No further splits with positive gain, best gain: -inf\n",
      "[LightGBM] [Warning] No further splits with positive gain, best gain: -inf\n",
      "[LightGBM] [Warning] No further splits with positive gain, best gain: -inf\n",
      "[LightGBM] [Warning] No further splits with positive gain, best gain: -inf\n",
      "[LightGBM] [Warning] No further splits with positive gain, best gain: -inf\n",
      "[LightGBM] [Warning] No further splits with positive gain, best gain: -inf\n",
      "[LightGBM] [Warning] No further splits with positive gain, best gain: -inf\n",
      "[LightGBM] [Warning] No further splits with positive gain, best gain: -inf\n",
      "[LightGBM] [Warning] No further splits with positive gain, best gain: -inf\n",
      "[LightGBM] [Warning] No further splits with positive gain, best gain: -inf\n",
      "[LightGBM] [Warning] No further splits with positive gain, best gain: -inf\n",
      "[LightGBM] [Warning] No further splits with positive gain, best gain: -inf\n",
      "[LightGBM] [Warning] No further splits with positive gain, best gain: -inf\n",
      "[LightGBM] [Warning] No further splits with positive gain, best gain: -inf\n",
      "[LightGBM] [Warning] No further splits with positive gain, best gain: -inf\n",
      "[LightGBM] [Warning] No further splits with positive gain, best gain: -inf\n",
      "[LightGBM] [Warning] No further splits with positive gain, best gain: -inf\n",
      "[LightGBM] [Warning] No further splits with positive gain, best gain: -inf\n",
      "[LightGBM] [Warning] No further splits with positive gain, best gain: -inf\n",
      "[LightGBM] [Warning] No further splits with positive gain, best gain: -inf\n",
      "[LightGBM] [Warning] No further splits with positive gain, best gain: -inf\n",
      "[LightGBM] [Warning] No further splits with positive gain, best gain: -inf\n",
      "[LightGBM] [Warning] No further splits with positive gain, best gain: -inf\n",
      "[LightGBM] [Warning] No further splits with positive gain, best gain: -inf\n",
      "[LightGBM] [Warning] No further splits with positive gain, best gain: -inf\n",
      "[LightGBM] [Warning] No further splits with positive gain, best gain: -inf\n",
      "[LightGBM] [Warning] No further splits with positive gain, best gain: -inf\n",
      "[LightGBM] [Warning] No further splits with positive gain, best gain: -inf\n",
      "[LightGBM] [Warning] No further splits with positive gain, best gain: -inf\n",
      "[LightGBM] [Warning] No further splits with positive gain, best gain: -inf\n",
      "[LightGBM] [Warning] No further splits with positive gain, best gain: -inf\n",
      "[LightGBM] [Warning] No further splits with positive gain, best gain: -inf\n",
      "[LightGBM] [Warning] No further splits with positive gain, best gain: -inf\n",
      "[LightGBM] [Warning] No further splits with positive gain, best gain: -inf\n",
      "[LightGBM] [Warning] No further splits with positive gain, best gain: -inf\n",
      "[LightGBM] [Warning] No further splits with positive gain, best gain: -inf\n",
      "[LightGBM] [Warning] No further splits with positive gain, best gain: -inf\n",
      "[LightGBM] [Warning] No further splits with positive gain, best gain: -inf\n",
      "[LightGBM] [Warning] No further splits with positive gain, best gain: -inf\n",
      "[LightGBM] [Warning] No further splits with positive gain, best gain: -inf\n",
      "[LightGBM] [Warning] No further splits with positive gain, best gain: -inf\n",
      "[LightGBM] [Warning] No further splits with positive gain, best gain: -inf\n",
      "[LightGBM] [Warning] No further splits with positive gain, best gain: -inf\n",
      "[LightGBM] [Warning] No further splits with positive gain, best gain: -inf\n",
      "[LightGBM] [Warning] No further splits with positive gain, best gain: -inf\n",
      "[LightGBM] [Warning] No further splits with positive gain, best gain: -inf\n",
      "[LightGBM] [Warning] No further splits with positive gain, best gain: -inf\n",
      "[LightGBM] [Warning] No further splits with positive gain, best gain: -inf\n",
      "[LightGBM] [Warning] No further splits with positive gain, best gain: -inf\n",
      "[LightGBM] [Warning] No further splits with positive gain, best gain: -inf\n",
      "[LightGBM] [Warning] No further splits with positive gain, best gain: -inf\n",
      "[LightGBM] [Warning] No further splits with positive gain, best gain: -inf\n",
      "[LightGBM] [Warning] No further splits with positive gain, best gain: -inf\n",
      "[LightGBM] [Warning] No further splits with positive gain, best gain: -inf\n",
      "[LightGBM] [Warning] No further splits with positive gain, best gain: -inf\n",
      "[LightGBM] [Warning] No further splits with positive gain, best gain: -inf\n",
      "[LightGBM] [Warning] No further splits with positive gain, best gain: -inf\n",
      "[LightGBM] [Warning] No further splits with positive gain, best gain: -inf\n",
      "[LightGBM] [Warning] No further splits with positive gain, best gain: -inf\n",
      "[LightGBM] [Warning] No further splits with positive gain, best gain: -inf\n",
      "[LightGBM] [Warning] No further splits with positive gain, best gain: -inf\n",
      "[LightGBM] [Warning] No further splits with positive gain, best gain: -inf\n",
      "[LightGBM] [Info] Auto-choosing col-wise multi-threading, the overhead of testing was 0.000465 seconds.\n",
      "You can set `force_col_wise=true` to remove the overhead.\n",
      "[LightGBM] [Info] Total Bins 1330\n",
      "[LightGBM] [Info] Number of data points in the train set: 473, number of used features: 30\n",
      "[LightGBM] [Info] Start training from score 2.380465\n",
      "[LightGBM] [Warning] No further splits with positive gain, best gain: -inf\n",
      "[LightGBM] [Warning] No further splits with positive gain, best gain: -inf\n",
      "[LightGBM] [Warning] No further splits with positive gain, best gain: -inf\n",
      "[LightGBM] [Warning] No further splits with positive gain, best gain: -inf\n",
      "[LightGBM] [Warning] No further splits with positive gain, best gain: -inf\n",
      "[LightGBM] [Warning] No further splits with positive gain, best gain: -inf\n",
      "[LightGBM] [Warning] No further splits with positive gain, best gain: -inf\n",
      "[LightGBM] [Warning] No further splits with positive gain, best gain: -inf\n",
      "[LightGBM] [Warning] No further splits with positive gain, best gain: -inf\n",
      "[LightGBM] [Warning] No further splits with positive gain, best gain: -inf\n",
      "[LightGBM] [Warning] No further splits with positive gain, best gain: -inf\n",
      "[LightGBM] [Warning] No further splits with positive gain, best gain: -inf\n",
      "[LightGBM] [Warning] No further splits with positive gain, best gain: -inf\n",
      "[LightGBM] [Warning] No further splits with positive gain, best gain: -inf\n",
      "[LightGBM] [Warning] No further splits with positive gain, best gain: -inf\n",
      "[LightGBM] [Warning] No further splits with positive gain, best gain: -inf\n",
      "[LightGBM] [Warning] No further splits with positive gain, best gain: -inf\n",
      "[LightGBM] [Warning] No further splits with positive gain, best gain: -inf\n",
      "[LightGBM] [Warning] No further splits with positive gain, best gain: -inf\n",
      "[LightGBM] [Warning] No further splits with positive gain, best gain: -inf\n",
      "[LightGBM] [Warning] No further splits with positive gain, best gain: -inf\n",
      "[LightGBM] [Warning] No further splits with positive gain, best gain: -inf\n",
      "[LightGBM] [Warning] No further splits with positive gain, best gain: -inf\n",
      "[LightGBM] [Warning] No further splits with positive gain, best gain: -inf\n",
      "[LightGBM] [Warning] No further splits with positive gain, best gain: -inf\n",
      "[LightGBM] [Warning] No further splits with positive gain, best gain: -inf\n",
      "[LightGBM] [Warning] No further splits with positive gain, best gain: -inf\n",
      "[LightGBM] [Warning] No further splits with positive gain, best gain: -inf\n",
      "[LightGBM] [Warning] No further splits with positive gain, best gain: -inf\n",
      "[LightGBM] [Warning] No further splits with positive gain, best gain: -inf\n",
      "[LightGBM] [Warning] No further splits with positive gain, best gain: -inf\n",
      "[LightGBM] [Warning] No further splits with positive gain, best gain: -inf\n",
      "[LightGBM] [Warning] No further splits with positive gain, best gain: -inf\n",
      "[LightGBM] [Warning] No further splits with positive gain, best gain: -inf\n",
      "[LightGBM] [Warning] No further splits with positive gain, best gain: -inf\n",
      "[LightGBM] [Warning] No further splits with positive gain, best gain: -inf\n",
      "[LightGBM] [Warning] No further splits with positive gain, best gain: -inf\n",
      "[LightGBM] [Warning] No further splits with positive gain, best gain: -inf\n",
      "[LightGBM] [Warning] No further splits with positive gain, best gain: -inf\n",
      "[LightGBM] [Warning] No further splits with positive gain, best gain: -inf\n",
      "[LightGBM] [Warning] No further splits with positive gain, best gain: -inf\n",
      "[LightGBM] [Warning] No further splits with positive gain, best gain: -inf\n",
      "[LightGBM] [Warning] No further splits with positive gain, best gain: -inf\n",
      "[LightGBM] [Warning] No further splits with positive gain, best gain: -inf\n",
      "[LightGBM] [Warning] No further splits with positive gain, best gain: -inf\n",
      "[LightGBM] [Warning] No further splits with positive gain, best gain: -inf\n",
      "[LightGBM] [Warning] No further splits with positive gain, best gain: -inf\n",
      "[LightGBM] [Warning] No further splits with positive gain, best gain: -inf\n",
      "[LightGBM] [Warning] No further splits with positive gain, best gain: -inf\n",
      "[LightGBM] [Warning] No further splits with positive gain, best gain: -inf\n",
      "[LightGBM] [Warning] No further splits with positive gain, best gain: -inf\n",
      "[LightGBM] [Warning] No further splits with positive gain, best gain: -inf\n",
      "[LightGBM] [Warning] No further splits with positive gain, best gain: -inf\n",
      "[LightGBM] [Warning] No further splits with positive gain, best gain: -inf\n",
      "[LightGBM] [Warning] No further splits with positive gain, best gain: -inf\n",
      "[LightGBM] [Warning] No further splits with positive gain, best gain: -inf\n",
      "[LightGBM] [Warning] No further splits with positive gain, best gain: -inf\n",
      "[LightGBM] [Warning] No further splits with positive gain, best gain: -inf\n",
      "[LightGBM] [Warning] No further splits with positive gain, best gain: -inf\n",
      "[LightGBM] [Warning] No further splits with positive gain, best gain: -inf\n",
      "[LightGBM] [Warning] No further splits with positive gain, best gain: -inf\n",
      "[LightGBM] [Warning] No further splits with positive gain, best gain: -inf\n",
      "[LightGBM] [Warning] No further splits with positive gain, best gain: -inf\n",
      "[LightGBM] [Warning] No further splits with positive gain, best gain: -inf\n",
      "[LightGBM] [Warning] No further splits with positive gain, best gain: -inf\n",
      "[LightGBM] [Warning] No further splits with positive gain, best gain: -inf\n",
      "[LightGBM] [Warning] No further splits with positive gain, best gain: -inf\n",
      "[LightGBM] [Warning] No further splits with positive gain, best gain: -inf\n",
      "[LightGBM] [Warning] No further splits with positive gain, best gain: -inf\n",
      "[LightGBM] [Warning] No further splits with positive gain, best gain: -inf\n",
      "[LightGBM] [Warning] No further splits with positive gain, best gain: -inf\n",
      "[LightGBM] [Warning] No further splits with positive gain, best gain: -inf\n",
      "[LightGBM] [Warning] No further splits with positive gain, best gain: -inf\n",
      "[LightGBM] [Warning] No further splits with positive gain, best gain: -inf\n",
      "[LightGBM] [Warning] No further splits with positive gain, best gain: -inf\n",
      "[LightGBM] [Warning] No further splits with positive gain, best gain: -inf\n",
      "[LightGBM] [Warning] No further splits with positive gain, best gain: -inf\n",
      "[LightGBM] [Warning] No further splits with positive gain, best gain: -inf\n",
      "[LightGBM] [Warning] No further splits with positive gain, best gain: -inf\n",
      "[LightGBM] [Warning] No further splits with positive gain, best gain: -inf\n",
      "[LightGBM] [Warning] No further splits with positive gain, best gain: -inf\n",
      "[LightGBM] [Warning] No further splits with positive gain, best gain: -inf\n",
      "[LightGBM] [Warning] No further splits with positive gain, best gain: -inf\n",
      "[LightGBM] [Warning] No further splits with positive gain, best gain: -inf\n",
      "[LightGBM] [Warning] No further splits with positive gain, best gain: -inf\n",
      "[LightGBM] [Warning] No further splits with positive gain, best gain: -inf\n",
      "[LightGBM] [Warning] No further splits with positive gain, best gain: -inf\n",
      "[LightGBM] [Warning] No further splits with positive gain, best gain: -inf\n",
      "[LightGBM] [Warning] No further splits with positive gain, best gain: -inf\n",
      "[LightGBM] [Warning] No further splits with positive gain, best gain: -inf\n",
      "[LightGBM] [Warning] No further splits with positive gain, best gain: -inf\n",
      "[LightGBM] [Warning] No further splits with positive gain, best gain: -inf\n",
      "[LightGBM] [Warning] No further splits with positive gain, best gain: -inf\n",
      "[LightGBM] [Warning] No further splits with positive gain, best gain: -inf\n",
      "[LightGBM] [Warning] No further splits with positive gain, best gain: -inf\n",
      "[LightGBM] [Warning] No further splits with positive gain, best gain: -inf\n",
      "[LightGBM] [Warning] No further splits with positive gain, best gain: -inf\n",
      "[LightGBM] [Warning] No further splits with positive gain, best gain: -inf\n",
      "[LightGBM] [Warning] No further splits with positive gain, best gain: -inf\n",
      "[LightGBM] [Warning] No further splits with positive gain, best gain: -inf\n",
      "[LightGBM] [Warning] No further splits with positive gain, best gain: -inf\n",
      "[LightGBM] [Warning] No further splits with positive gain, best gain: -inf\n",
      "[LightGBM] [Warning] No further splits with positive gain, best gain: -inf\n",
      "[LightGBM] [Warning] No further splits with positive gain, best gain: -inf\n",
      "[LightGBM] [Warning] No further splits with positive gain, best gain: -inf\n",
      "[LightGBM] [Warning] No further splits with positive gain, best gain: -inf\n",
      "[LightGBM] [Warning] No further splits with positive gain, best gain: -inf\n",
      "[LightGBM] [Warning] No further splits with positive gain, best gain: -inf\n",
      "[LightGBM] [Warning] No further splits with positive gain, best gain: -inf\n",
      "[LightGBM] [Warning] No further splits with positive gain, best gain: -inf\n",
      "[LightGBM] [Warning] No further splits with positive gain, best gain: -inf\n",
      "[LightGBM] [Warning] No further splits with positive gain, best gain: -inf\n",
      "[LightGBM] [Warning] No further splits with positive gain, best gain: -inf\n",
      "[LightGBM] [Warning] No further splits with positive gain, best gain: -inf\n",
      "[LightGBM] [Warning] No further splits with positive gain, best gain: -inf\n",
      "[LightGBM] [Warning] No further splits with positive gain, best gain: -inf\n",
      "[LightGBM] [Warning] No further splits with positive gain, best gain: -inf\n",
      "[LightGBM] [Warning] No further splits with positive gain, best gain: -inf\n",
      "[LightGBM] [Warning] No further splits with positive gain, best gain: -inf\n",
      "[LightGBM] [Warning] No further splits with positive gain, best gain: -inf\n",
      "[LightGBM] [Warning] No further splits with positive gain, best gain: -inf\n",
      "[LightGBM] [Warning] No further splits with positive gain, best gain: -inf\n",
      "[LightGBM] [Warning] No further splits with positive gain, best gain: -inf\n",
      "[LightGBM] [Warning] No further splits with positive gain, best gain: -inf\n",
      "[LightGBM] [Warning] No further splits with positive gain, best gain: -inf\n",
      "[LightGBM] [Warning] No further splits with positive gain, best gain: -inf\n",
      "[LightGBM] [Warning] No further splits with positive gain, best gain: -inf\n",
      "[LightGBM] [Warning] No further splits with positive gain, best gain: -inf\n",
      "[LightGBM] [Warning] No further splits with positive gain, best gain: -inf\n",
      "[LightGBM] [Warning] No further splits with positive gain, best gain: -inf\n",
      "[LightGBM] [Warning] No further splits with positive gain, best gain: -inf\n",
      "[LightGBM] [Warning] No further splits with positive gain, best gain: -inf\n",
      "[LightGBM] [Warning] No further splits with positive gain, best gain: -inf\n",
      "[LightGBM] [Warning] No further splits with positive gain, best gain: -inf\n",
      "[LightGBM] [Warning] No further splits with positive gain, best gain: -inf\n",
      "[LightGBM] [Warning] No further splits with positive gain, best gain: -inf\n",
      "[LightGBM] [Warning] No further splits with positive gain, best gain: -inf\n",
      "[LightGBM] [Info] Auto-choosing col-wise multi-threading, the overhead of testing was 0.000442 seconds.\n",
      "You can set `force_col_wise=true` to remove the overhead.\n",
      "[LightGBM] [Info] Total Bins 1333\n",
      "[LightGBM] [Info] Number of data points in the train set: 471, number of used features: 30\n",
      "[LightGBM] [Info] Start training from score 2.380764\n",
      "[LightGBM] [Warning] No further splits with positive gain, best gain: -inf\n",
      "[LightGBM] [Warning] No further splits with positive gain, best gain: -inf\n",
      "[LightGBM] [Warning] No further splits with positive gain, best gain: -inf\n",
      "[LightGBM] [Warning] No further splits with positive gain, best gain: -inf\n",
      "[LightGBM] [Warning] No further splits with positive gain, best gain: -inf\n",
      "[LightGBM] [Warning] No further splits with positive gain, best gain: -inf\n",
      "[LightGBM] [Warning] No further splits with positive gain, best gain: -inf\n",
      "[LightGBM] [Warning] No further splits with positive gain, best gain: -inf\n",
      "[LightGBM] [Warning] No further splits with positive gain, best gain: -inf\n",
      "[LightGBM] [Warning] No further splits with positive gain, best gain: -inf\n",
      "[LightGBM] [Warning] No further splits with positive gain, best gain: -inf\n",
      "[LightGBM] [Warning] No further splits with positive gain, best gain: -inf\n",
      "[LightGBM] [Warning] No further splits with positive gain, best gain: -inf\n",
      "[LightGBM] [Warning] No further splits with positive gain, best gain: -inf\n",
      "[LightGBM] [Warning] No further splits with positive gain, best gain: -inf\n",
      "[LightGBM] [Warning] No further splits with positive gain, best gain: -inf\n",
      "[LightGBM] [Warning] No further splits with positive gain, best gain: -inf\n",
      "[LightGBM] [Warning] No further splits with positive gain, best gain: -inf\n",
      "[LightGBM] [Warning] No further splits with positive gain, best gain: -inf\n",
      "[LightGBM] [Warning] No further splits with positive gain, best gain: -inf\n",
      "[LightGBM] [Warning] No further splits with positive gain, best gain: -inf\n",
      "[LightGBM] [Warning] No further splits with positive gain, best gain: -inf\n",
      "[LightGBM] [Warning] No further splits with positive gain, best gain: -inf\n",
      "[LightGBM] [Warning] No further splits with positive gain, best gain: -inf\n",
      "[LightGBM] [Warning] No further splits with positive gain, best gain: -inf\n",
      "[LightGBM] [Warning] No further splits with positive gain, best gain: -inf\n",
      "[LightGBM] [Warning] No further splits with positive gain, best gain: -inf\n",
      "[LightGBM] [Warning] No further splits with positive gain, best gain: -inf\n",
      "[LightGBM] [Warning] No further splits with positive gain, best gain: -inf\n",
      "[LightGBM] [Warning] No further splits with positive gain, best gain: -inf\n",
      "[LightGBM] [Warning] No further splits with positive gain, best gain: -inf\n",
      "[LightGBM] [Warning] No further splits with positive gain, best gain: -inf\n",
      "[LightGBM] [Warning] No further splits with positive gain, best gain: -inf\n",
      "[LightGBM] [Warning] No further splits with positive gain, best gain: -inf\n",
      "[LightGBM] [Warning] No further splits with positive gain, best gain: -inf\n",
      "[LightGBM] [Warning] No further splits with positive gain, best gain: -inf\n",
      "[LightGBM] [Warning] No further splits with positive gain, best gain: -inf\n",
      "[LightGBM] [Warning] No further splits with positive gain, best gain: -inf\n",
      "[LightGBM] [Warning] No further splits with positive gain, best gain: -inf\n",
      "[LightGBM] [Warning] No further splits with positive gain, best gain: -inf\n",
      "[LightGBM] [Warning] No further splits with positive gain, best gain: -inf\n",
      "[LightGBM] [Warning] No further splits with positive gain, best gain: -inf\n",
      "[LightGBM] [Warning] No further splits with positive gain, best gain: -inf\n",
      "[LightGBM] [Warning] No further splits with positive gain, best gain: -inf\n",
      "[LightGBM] [Warning] No further splits with positive gain, best gain: -inf\n",
      "[LightGBM] [Warning] No further splits with positive gain, best gain: -inf\n",
      "[LightGBM] [Warning] No further splits with positive gain, best gain: -inf\n",
      "[LightGBM] [Warning] No further splits with positive gain, best gain: -inf\n",
      "[LightGBM] [Warning] No further splits with positive gain, best gain: -inf\n",
      "[LightGBM] [Warning] No further splits with positive gain, best gain: -inf\n",
      "[LightGBM] [Warning] No further splits with positive gain, best gain: -inf\n",
      "[LightGBM] [Warning] No further splits with positive gain, best gain: -inf\n",
      "[LightGBM] [Warning] No further splits with positive gain, best gain: -inf\n",
      "[LightGBM] [Warning] No further splits with positive gain, best gain: -inf\n",
      "[LightGBM] [Warning] No further splits with positive gain, best gain: -inf\n",
      "[LightGBM] [Warning] No further splits with positive gain, best gain: -inf\n",
      "[LightGBM] [Warning] No further splits with positive gain, best gain: -inf\n",
      "[LightGBM] [Warning] No further splits with positive gain, best gain: -inf\n",
      "[LightGBM] [Warning] No further splits with positive gain, best gain: -inf\n",
      "[LightGBM] [Warning] No further splits with positive gain, best gain: -inf\n",
      "[LightGBM] [Warning] No further splits with positive gain, best gain: -inf\n",
      "[LightGBM] [Warning] No further splits with positive gain, best gain: -inf\n",
      "[LightGBM] [Warning] No further splits with positive gain, best gain: -inf\n",
      "[LightGBM] [Warning] No further splits with positive gain, best gain: -inf\n",
      "[LightGBM] [Warning] No further splits with positive gain, best gain: -inf\n",
      "[LightGBM] [Warning] No further splits with positive gain, best gain: -inf\n",
      "[LightGBM] [Warning] No further splits with positive gain, best gain: -inf\n",
      "[LightGBM] [Warning] No further splits with positive gain, best gain: -inf\n",
      "[LightGBM] [Warning] No further splits with positive gain, best gain: -inf\n",
      "[LightGBM] [Warning] No further splits with positive gain, best gain: -inf\n",
      "[LightGBM] [Warning] No further splits with positive gain, best gain: -inf\n",
      "[LightGBM] [Warning] No further splits with positive gain, best gain: -inf\n",
      "[LightGBM] [Warning] No further splits with positive gain, best gain: -inf\n",
      "[LightGBM] [Warning] No further splits with positive gain, best gain: -inf\n",
      "[LightGBM] [Warning] No further splits with positive gain, best gain: -inf\n",
      "[LightGBM] [Warning] No further splits with positive gain, best gain: -inf\n",
      "[LightGBM] [Warning] No further splits with positive gain, best gain: -inf\n",
      "[LightGBM] [Warning] No further splits with positive gain, best gain: -inf\n",
      "[LightGBM] [Warning] No further splits with positive gain, best gain: -inf\n",
      "[LightGBM] [Warning] No further splits with positive gain, best gain: -inf\n",
      "[LightGBM] [Warning] No further splits with positive gain, best gain: -inf\n",
      "[LightGBM] [Warning] No further splits with positive gain, best gain: -inf\n",
      "[LightGBM] [Warning] No further splits with positive gain, best gain: -inf\n",
      "[LightGBM] [Warning] No further splits with positive gain, best gain: -inf\n",
      "[LightGBM] [Warning] No further splits with positive gain, best gain: -inf\n",
      "[LightGBM] [Warning] No further splits with positive gain, best gain: -inf\n",
      "[LightGBM] [Warning] No further splits with positive gain, best gain: -inf\n",
      "[LightGBM] [Warning] No further splits with positive gain, best gain: -inf\n",
      "[LightGBM] [Warning] No further splits with positive gain, best gain: -inf\n",
      "[LightGBM] [Warning] No further splits with positive gain, best gain: -inf\n",
      "[LightGBM] [Warning] No further splits with positive gain, best gain: -inf\n",
      "[LightGBM] [Warning] No further splits with positive gain, best gain: -inf\n",
      "[LightGBM] [Warning] No further splits with positive gain, best gain: -inf\n",
      "[LightGBM] [Warning] No further splits with positive gain, best gain: -inf\n",
      "[LightGBM] [Warning] No further splits with positive gain, best gain: -inf\n",
      "[LightGBM] [Warning] No further splits with positive gain, best gain: -inf\n",
      "[LightGBM] [Warning] No further splits with positive gain, best gain: -inf\n",
      "[LightGBM] [Warning] No further splits with positive gain, best gain: -inf\n",
      "[LightGBM] [Warning] No further splits with positive gain, best gain: -inf\n",
      "[LightGBM] [Warning] No further splits with positive gain, best gain: -inf\n",
      "[LightGBM] [Warning] No further splits with positive gain, best gain: -inf\n",
      "[LightGBM] [Warning] No further splits with positive gain, best gain: -inf\n",
      "[LightGBM] [Warning] No further splits with positive gain, best gain: -inf\n",
      "[LightGBM] [Warning] No further splits with positive gain, best gain: -inf\n",
      "[LightGBM] [Warning] No further splits with positive gain, best gain: -inf\n",
      "[LightGBM] [Warning] No further splits with positive gain, best gain: -inf\n",
      "[LightGBM] [Warning] No further splits with positive gain, best gain: -inf\n",
      "[LightGBM] [Warning] No further splits with positive gain, best gain: -inf\n",
      "[LightGBM] [Warning] No further splits with positive gain, best gain: -inf\n",
      "[LightGBM] [Warning] No further splits with positive gain, best gain: -inf\n",
      "[LightGBM] [Warning] No further splits with positive gain, best gain: -inf\n",
      "[LightGBM] [Warning] No further splits with positive gain, best gain: -inf\n",
      "[LightGBM] [Warning] No further splits with positive gain, best gain: -inf\n",
      "[LightGBM] [Warning] No further splits with positive gain, best gain: -inf\n",
      "[LightGBM] [Warning] No further splits with positive gain, best gain: -inf\n",
      "[LightGBM] [Warning] No further splits with positive gain, best gain: -inf\n",
      "[LightGBM] [Warning] No further splits with positive gain, best gain: -inf\n",
      "[LightGBM] [Warning] No further splits with positive gain, best gain: -inf\n",
      "[LightGBM] [Warning] No further splits with positive gain, best gain: -inf\n",
      "[LightGBM] [Warning] No further splits with positive gain, best gain: -inf\n",
      "[LightGBM] [Warning] No further splits with positive gain, best gain: -inf\n",
      "[LightGBM] [Warning] No further splits with positive gain, best gain: -inf\n",
      "[LightGBM] [Warning] No further splits with positive gain, best gain: -inf\n",
      "[LightGBM] [Warning] No further splits with positive gain, best gain: -inf\n",
      "[LightGBM] [Warning] No further splits with positive gain, best gain: -inf\n",
      "[LightGBM] [Warning] No further splits with positive gain, best gain: -inf\n",
      "[LightGBM] [Warning] No further splits with positive gain, best gain: -inf\n",
      "[LightGBM] [Warning] No further splits with positive gain, best gain: -inf\n",
      "[LightGBM] [Warning] No further splits with positive gain, best gain: -inf\n",
      "[LightGBM] [Warning] No further splits with positive gain, best gain: -inf\n",
      "[LightGBM] [Warning] No further splits with positive gain, best gain: -inf\n",
      "[LightGBM] [Warning] No further splits with positive gain, best gain: -inf\n",
      "[LightGBM] [Warning] No further splits with positive gain, best gain: -inf\n",
      "[LightGBM] [Warning] No further splits with positive gain, best gain: -inf\n",
      "[LightGBM] [Warning] No further splits with positive gain, best gain: -inf\n",
      "[LightGBM] [Warning] No further splits with positive gain, best gain: -inf\n",
      "[LightGBM] [Warning] No further splits with positive gain, best gain: -inf\n"
     ]
    }
   ],
   "source": [
    "pipe = MultiModelPipeline(dev_df)\n",
    "pipe.run_all(keys=[\"xgb\",\"cat\",\"lgb\"], hpo_evals = 1, repeats=1)\n",
    "# I have provided the real parameters and rmse values based on the whole dataset. Still, if you want to reporduce the results,\n",
    "# please uncomment the line below and use all the dataset rather than just a sample (computationally expensive) \n",
    "#pipe.export_files(\"./object/\", bs_size=200)"
   ]
  },
  {
   "cell_type": "markdown",
   "id": "c12d77e1",
   "metadata": {},
   "source": [
    "#### Select Model"
   ]
  },
  {
   "cell_type": "code",
   "execution_count": 97,
   "id": "c07cafdc",
   "metadata": {},
   "outputs": [],
   "source": [
    "s_opath = \"./object/\"\n",
    "df_rmses = pd.read_csv(s_opath+\"rmse_distribution.csv\")\n",
    "df_rmses_bs = pd.read_csv(s_opath+\"rmse_bootstrap.csv\")"
   ]
  },
  {
   "cell_type": "code",
   "execution_count": 98,
   "id": "b8a79e8a",
   "metadata": {},
   "outputs": [
    {
     "data": {
      "text/html": [
       "<div>\n",
       "<style scoped>\n",
       "    .dataframe tbody tr th:only-of-type {\n",
       "        vertical-align: middle;\n",
       "    }\n",
       "\n",
       "    .dataframe tbody tr th {\n",
       "        vertical-align: top;\n",
       "    }\n",
       "\n",
       "    .dataframe thead th {\n",
       "        text-align: right;\n",
       "    }\n",
       "</style>\n",
       "<table border=\"1\" class=\"dataframe\">\n",
       "  <thead>\n",
       "    <tr style=\"text-align: right;\">\n",
       "      <th></th>\n",
       "      <th>Model</th>\n",
       "      <th>Mean RMSE</th>\n",
       "      <th>Std RMSE</th>\n",
       "    </tr>\n",
       "  </thead>\n",
       "  <tbody>\n",
       "    <tr>\n",
       "      <th>0</th>\n",
       "      <td>cat</td>\n",
       "      <td>0.489957</td>\n",
       "      <td>0.021322</td>\n",
       "    </tr>\n",
       "    <tr>\n",
       "      <th>1</th>\n",
       "      <td>lgb</td>\n",
       "      <td>0.489112</td>\n",
       "      <td>0.023977</td>\n",
       "    </tr>\n",
       "    <tr>\n",
       "      <th>2</th>\n",
       "      <td>xgb</td>\n",
       "      <td>0.490582</td>\n",
       "      <td>0.022820</td>\n",
       "    </tr>\n",
       "  </tbody>\n",
       "</table>\n",
       "</div>"
      ],
      "text/plain": [
       "  Model  Mean RMSE  Std RMSE\n",
       "0   cat   0.489957  0.021322\n",
       "1   lgb   0.489112  0.023977\n",
       "2   xgb   0.490582  0.022820"
      ]
     },
     "metadata": {},
     "output_type": "display_data"
    },
    {
     "data": {
      "text/html": [
       "<div>\n",
       "<style scoped>\n",
       "    .dataframe tbody tr th:only-of-type {\n",
       "        vertical-align: middle;\n",
       "    }\n",
       "\n",
       "    .dataframe tbody tr th {\n",
       "        vertical-align: top;\n",
       "    }\n",
       "\n",
       "    .dataframe thead th {\n",
       "        text-align: right;\n",
       "    }\n",
       "</style>\n",
       "<table border=\"1\" class=\"dataframe\">\n",
       "  <thead>\n",
       "    <tr style=\"text-align: right;\">\n",
       "      <th></th>\n",
       "      <th>Model</th>\n",
       "      <th>Mean RMSE</th>\n",
       "      <th>Std RMSE</th>\n",
       "    </tr>\n",
       "  </thead>\n",
       "  <tbody>\n",
       "    <tr>\n",
       "      <th>0</th>\n",
       "      <td>cat</td>\n",
       "      <td>0.490687</td>\n",
       "      <td>0.008637</td>\n",
       "    </tr>\n",
       "    <tr>\n",
       "      <th>1</th>\n",
       "      <td>lgb</td>\n",
       "      <td>0.488817</td>\n",
       "      <td>0.010264</td>\n",
       "    </tr>\n",
       "    <tr>\n",
       "      <th>2</th>\n",
       "      <td>xgb</td>\n",
       "      <td>0.490146</td>\n",
       "      <td>0.009714</td>\n",
       "    </tr>\n",
       "  </tbody>\n",
       "</table>\n",
       "</div>"
      ],
      "text/plain": [
       "  Model  Mean RMSE  Std RMSE\n",
       "0   cat   0.490687  0.008637\n",
       "1   lgb   0.488817  0.010264\n",
       "2   xgb   0.490146  0.009714"
      ]
     },
     "metadata": {},
     "output_type": "display_data"
    }
   ],
   "source": [
    "# Summary statistics\n",
    "summary_df = df_rmses.groupby(\"model\")[\"rmse\"].agg([\"mean\", \"std\"]).reset_index()\n",
    "summary_df.columns = [\"Model\", \"Mean RMSE\", \"Std RMSE\"]\n",
    "# Summary statistics\n",
    "summary_df_bs = df_rmses_bs.groupby(\"model\")[\"rmse\"].agg([\"mean\", \"std\"]).reset_index()\n",
    "summary_df_bs.columns = [\"Model\", \"Mean RMSE\", \"Std RMSE\"]\n",
    "display(summary_df, summary_df_bs)"
   ]
  },
  {
   "cell_type": "code",
   "execution_count": 99,
   "id": "6cbaec6e",
   "metadata": {},
   "outputs": [
    {
     "data": {
      "application/vnd.plotly.v1+json": {
       "config": {
        "plotlyServerURL": "https://plot.ly"
       },
       "data": [
        {
         "boxmean": "sd",
         "marker": {
          "color": "blue"
         },
         "name": "xgb",
         "type": "box",
         "xaxis": "x",
         "y": {
          "bdata": "FL/Z//jE3z91O5RkI3TdPyxBeSJfAOA/rJ91CLOg4D+stpF1QoHePw==",
          "dtype": "f8"
         },
         "yaxis": "y"
        },
        {
         "boxmean": "sd",
         "marker": {
          "color": "red"
         },
         "name": "cat",
         "type": "box",
         "xaxis": "x",
         "y": {
          "bdata": "ziqaPu3l3z8jd6IasLLdP83w2hL93t8/1CDygm+I4D/z1Le3xEDePw==",
          "dtype": "f8"
         },
         "yaxis": "y"
        },
        {
         "boxmean": "sd",
         "marker": {
          "color": "green"
         },
         "name": "lgb",
         "type": "box",
         "xaxis": "x",
         "y": {
          "bdata": "eBYOqj7t3z//pqy9Q1zdP4WbEDT/398/oJoF48yZ4D/dqL2o8ybePw==",
          "dtype": "f8"
         },
         "yaxis": "y"
        },
        {
         "boxmean": "sd",
         "marker": {
          "color": "blue"
         },
         "name": "xgb",
         "showlegend": false,
         "type": "box",
         "xaxis": "x2",
         "y": {
          "bdata": "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",
          "dtype": "f8"
         },
         "yaxis": "y2"
        },
        {
         "boxmean": "sd",
         "marker": {
          "color": "red"
         },
         "name": "cat",
         "showlegend": false,
         "type": "box",
         "xaxis": "x2",
         "y": {
          "bdata": "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",
          "dtype": "f8"
         },
         "yaxis": "y2"
        },
        {
         "boxmean": "sd",
         "marker": {
          "color": "green"
         },
         "name": "lgb",
         "showlegend": false,
         "type": "box",
         "xaxis": "x2",
         "y": {
          "bdata": "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",
          "dtype": "f8"
         },
         "yaxis": "y2"
        }
       ],
       "layout": {
        "annotations": [
         {
          "font": {
           "size": 16
          },
          "showarrow": false,
          "text": "CV Splits RMSE",
          "x": 0.225,
          "xanchor": "center",
          "xref": "paper",
          "y": 1,
          "yanchor": "bottom",
          "yref": "paper"
         },
         {
          "font": {
           "size": 16
          },
          "showarrow": false,
          "text": "Bootstrapped RMSE",
          "x": 0.775,
          "xanchor": "center",
          "xref": "paper",
          "y": 1,
          "yanchor": "bottom",
          "yref": "paper"
         }
        ],
        "height": 400,
        "template": {
         "data": {
          "bar": [
           {
            "error_x": {
             "color": "#2a3f5f"
            },
            "error_y": {
             "color": "#2a3f5f"
            },
            "marker": {
             "line": {
              "color": "#E5ECF6",
              "width": 0.5
             },
             "pattern": {
              "fillmode": "overlay",
              "size": 10,
              "solidity": 0.2
             }
            },
            "type": "bar"
           }
          ],
          "barpolar": [
           {
            "marker": {
             "line": {
              "color": "#E5ECF6",
              "width": 0.5
             },
             "pattern": {
              "fillmode": "overlay",
              "size": 10,
              "solidity": 0.2
             }
            },
            "type": "barpolar"
           }
          ],
          "carpet": [
           {
            "aaxis": {
             "endlinecolor": "#2a3f5f",
             "gridcolor": "white",
             "linecolor": "white",
             "minorgridcolor": "white",
             "startlinecolor": "#2a3f5f"
            },
            "baxis": {
             "endlinecolor": "#2a3f5f",
             "gridcolor": "white",
             "linecolor": "white",
             "minorgridcolor": "white",
             "startlinecolor": "#2a3f5f"
            },
            "type": "carpet"
           }
          ],
          "choropleth": [
           {
            "colorbar": {
             "outlinewidth": 0,
             "ticks": ""
            },
            "type": "choropleth"
           }
          ],
          "contour": [
           {
            "colorbar": {
             "outlinewidth": 0,
             "ticks": ""
            },
            "colorscale": [
             [
              0,
              "#0d0887"
             ],
             [
              0.1111111111111111,
              "#46039f"
             ],
             [
              0.2222222222222222,
              "#7201a8"
             ],
             [
              0.3333333333333333,
              "#9c179e"
             ],
             [
              0.4444444444444444,
              "#bd3786"
             ],
             [
              0.5555555555555556,
              "#d8576b"
             ],
             [
              0.6666666666666666,
              "#ed7953"
             ],
             [
              0.7777777777777778,
              "#fb9f3a"
             ],
             [
              0.8888888888888888,
              "#fdca26"
             ],
             [
              1,
              "#f0f921"
             ]
            ],
            "type": "contour"
           }
          ],
          "contourcarpet": [
           {
            "colorbar": {
             "outlinewidth": 0,
             "ticks": ""
            },
            "type": "contourcarpet"
           }
          ],
          "heatmap": [
           {
            "colorbar": {
             "outlinewidth": 0,
             "ticks": ""
            },
            "colorscale": [
             [
              0,
              "#0d0887"
             ],
             [
              0.1111111111111111,
              "#46039f"
             ],
             [
              0.2222222222222222,
              "#7201a8"
             ],
             [
              0.3333333333333333,
              "#9c179e"
             ],
             [
              0.4444444444444444,
              "#bd3786"
             ],
             [
              0.5555555555555556,
              "#d8576b"
             ],
             [
              0.6666666666666666,
              "#ed7953"
             ],
             [
              0.7777777777777778,
              "#fb9f3a"
             ],
             [
              0.8888888888888888,
              "#fdca26"
             ],
             [
              1,
              "#f0f921"
             ]
            ],
            "type": "heatmap"
           }
          ],
          "histogram": [
           {
            "marker": {
             "pattern": {
              "fillmode": "overlay",
              "size": 10,
              "solidity": 0.2
             }
            },
            "type": "histogram"
           }
          ],
          "histogram2d": [
           {
            "colorbar": {
             "outlinewidth": 0,
             "ticks": ""
            },
            "colorscale": [
             [
              0,
              "#0d0887"
             ],
             [
              0.1111111111111111,
              "#46039f"
             ],
             [
              0.2222222222222222,
              "#7201a8"
             ],
             [
              0.3333333333333333,
              "#9c179e"
             ],
             [
              0.4444444444444444,
              "#bd3786"
             ],
             [
              0.5555555555555556,
              "#d8576b"
             ],
             [
              0.6666666666666666,
              "#ed7953"
             ],
             [
              0.7777777777777778,
              "#fb9f3a"
             ],
             [
              0.8888888888888888,
              "#fdca26"
             ],
             [
              1,
              "#f0f921"
             ]
            ],
            "type": "histogram2d"
           }
          ],
          "histogram2dcontour": [
           {
            "colorbar": {
             "outlinewidth": 0,
             "ticks": ""
            },
            "colorscale": [
             [
              0,
              "#0d0887"
             ],
             [
              0.1111111111111111,
              "#46039f"
             ],
             [
              0.2222222222222222,
              "#7201a8"
             ],
             [
              0.3333333333333333,
              "#9c179e"
             ],
             [
              0.4444444444444444,
              "#bd3786"
             ],
             [
              0.5555555555555556,
              "#d8576b"
             ],
             [
              0.6666666666666666,
              "#ed7953"
             ],
             [
              0.7777777777777778,
              "#fb9f3a"
             ],
             [
              0.8888888888888888,
              "#fdca26"
             ],
             [
              1,
              "#f0f921"
             ]
            ],
            "type": "histogram2dcontour"
           }
          ],
          "mesh3d": [
           {
            "colorbar": {
             "outlinewidth": 0,
             "ticks": ""
            },
            "type": "mesh3d"
           }
          ],
          "parcoords": [
           {
            "line": {
             "colorbar": {
              "outlinewidth": 0,
              "ticks": ""
             }
            },
            "type": "parcoords"
           }
          ],
          "pie": [
           {
            "automargin": true,
            "type": "pie"
           }
          ],
          "scatter": [
           {
            "fillpattern": {
             "fillmode": "overlay",
             "size": 10,
             "solidity": 0.2
            },
            "type": "scatter"
           }
          ],
          "scatter3d": [
           {
            "line": {
             "colorbar": {
              "outlinewidth": 0,
              "ticks": ""
             }
            },
            "marker": {
             "colorbar": {
              "outlinewidth": 0,
              "ticks": ""
             }
            },
            "type": "scatter3d"
           }
          ],
          "scattercarpet": [
           {
            "marker": {
             "colorbar": {
              "outlinewidth": 0,
              "ticks": ""
             }
            },
            "type": "scattercarpet"
           }
          ],
          "scattergeo": [
           {
            "marker": {
             "colorbar": {
              "outlinewidth": 0,
              "ticks": ""
             }
            },
            "type": "scattergeo"
           }
          ],
          "scattergl": [
           {
            "marker": {
             "colorbar": {
              "outlinewidth": 0,
              "ticks": ""
             }
            },
            "type": "scattergl"
           }
          ],
          "scattermap": [
           {
            "marker": {
             "colorbar": {
              "outlinewidth": 0,
              "ticks": ""
             }
            },
            "type": "scattermap"
           }
          ],
          "scattermapbox": [
           {
            "marker": {
             "colorbar": {
              "outlinewidth": 0,
              "ticks": ""
             }
            },
            "type": "scattermapbox"
           }
          ],
          "scatterpolar": [
           {
            "marker": {
             "colorbar": {
              "outlinewidth": 0,
              "ticks": ""
             }
            },
            "type": "scatterpolar"
           }
          ],
          "scatterpolargl": [
           {
            "marker": {
             "colorbar": {
              "outlinewidth": 0,
              "ticks": ""
             }
            },
            "type": "scatterpolargl"
           }
          ],
          "scatterternary": [
           {
            "marker": {
             "colorbar": {
              "outlinewidth": 0,
              "ticks": ""
             }
            },
            "type": "scatterternary"
           }
          ],
          "surface": [
           {
            "colorbar": {
             "outlinewidth": 0,
             "ticks": ""
            },
            "colorscale": [
             [
              0,
              "#0d0887"
             ],
             [
              0.1111111111111111,
              "#46039f"
             ],
             [
              0.2222222222222222,
              "#7201a8"
             ],
             [
              0.3333333333333333,
              "#9c179e"
             ],
             [
              0.4444444444444444,
              "#bd3786"
             ],
             [
              0.5555555555555556,
              "#d8576b"
             ],
             [
              0.6666666666666666,
              "#ed7953"
             ],
             [
              0.7777777777777778,
              "#fb9f3a"
             ],
             [
              0.8888888888888888,
              "#fdca26"
             ],
             [
              1,
              "#f0f921"
             ]
            ],
            "type": "surface"
           }
          ],
          "table": [
           {
            "cells": {
             "fill": {
              "color": "#EBF0F8"
             },
             "line": {
              "color": "white"
             }
            },
            "header": {
             "fill": {
              "color": "#C8D4E3"
             },
             "line": {
              "color": "white"
             }
            },
            "type": "table"
           }
          ]
         },
         "layout": {
          "annotationdefaults": {
           "arrowcolor": "#2a3f5f",
           "arrowhead": 0,
           "arrowwidth": 1
          },
          "autotypenumbers": "strict",
          "coloraxis": {
           "colorbar": {
            "outlinewidth": 0,
            "ticks": ""
           }
          },
          "colorscale": {
           "diverging": [
            [
             0,
             "#8e0152"
            ],
            [
             0.1,
             "#c51b7d"
            ],
            [
             0.2,
             "#de77ae"
            ],
            [
             0.3,
             "#f1b6da"
            ],
            [
             0.4,
             "#fde0ef"
            ],
            [
             0.5,
             "#f7f7f7"
            ],
            [
             0.6,
             "#e6f5d0"
            ],
            [
             0.7,
             "#b8e186"
            ],
            [
             0.8,
             "#7fbc41"
            ],
            [
             0.9,
             "#4d9221"
            ],
            [
             1,
             "#276419"
            ]
           ],
           "sequential": [
            [
             0,
             "#0d0887"
            ],
            [
             0.1111111111111111,
             "#46039f"
            ],
            [
             0.2222222222222222,
             "#7201a8"
            ],
            [
             0.3333333333333333,
             "#9c179e"
            ],
            [
             0.4444444444444444,
             "#bd3786"
            ],
            [
             0.5555555555555556,
             "#d8576b"
            ],
            [
             0.6666666666666666,
             "#ed7953"
            ],
            [
             0.7777777777777778,
             "#fb9f3a"
            ],
            [
             0.8888888888888888,
             "#fdca26"
            ],
            [
             1,
             "#f0f921"
            ]
           ],
           "sequentialminus": [
            [
             0,
             "#0d0887"
            ],
            [
             0.1111111111111111,
             "#46039f"
            ],
            [
             0.2222222222222222,
             "#7201a8"
            ],
            [
             0.3333333333333333,
             "#9c179e"
            ],
            [
             0.4444444444444444,
             "#bd3786"
            ],
            [
             0.5555555555555556,
             "#d8576b"
            ],
            [
             0.6666666666666666,
             "#ed7953"
            ],
            [
             0.7777777777777778,
             "#fb9f3a"
            ],
            [
             0.8888888888888888,
             "#fdca26"
            ],
            [
             1,
             "#f0f921"
            ]
           ]
          },
          "colorway": [
           "#636efa",
           "#EF553B",
           "#00cc96",
           "#ab63fa",
           "#FFA15A",
           "#19d3f3",
           "#FF6692",
           "#B6E880",
           "#FF97FF",
           "#FECB52"
          ],
          "font": {
           "color": "#2a3f5f"
          },
          "geo": {
           "bgcolor": "white",
           "lakecolor": "white",
           "landcolor": "#E5ECF6",
           "showlakes": true,
           "showland": true,
           "subunitcolor": "white"
          },
          "hoverlabel": {
           "align": "left"
          },
          "hovermode": "closest",
          "mapbox": {
           "style": "light"
          },
          "paper_bgcolor": "white",
          "plot_bgcolor": "#E5ECF6",
          "polar": {
           "angularaxis": {
            "gridcolor": "white",
            "linecolor": "white",
            "ticks": ""
           },
           "bgcolor": "#E5ECF6",
           "radialaxis": {
            "gridcolor": "white",
            "linecolor": "white",
            "ticks": ""
           }
          },
          "scene": {
           "xaxis": {
            "backgroundcolor": "#E5ECF6",
            "gridcolor": "white",
            "gridwidth": 2,
            "linecolor": "white",
            "showbackground": true,
            "ticks": "",
            "zerolinecolor": "white"
           },
           "yaxis": {
            "backgroundcolor": "#E5ECF6",
            "gridcolor": "white",
            "gridwidth": 2,
            "linecolor": "white",
            "showbackground": true,
            "ticks": "",
            "zerolinecolor": "white"
           },
           "zaxis": {
            "backgroundcolor": "#E5ECF6",
            "gridcolor": "white",
            "gridwidth": 2,
            "linecolor": "white",
            "showbackground": true,
            "ticks": "",
            "zerolinecolor": "white"
           }
          },
          "shapedefaults": {
           "line": {
            "color": "#2a3f5f"
           }
          },
          "ternary": {
           "aaxis": {
            "gridcolor": "white",
            "linecolor": "white",
            "ticks": ""
           },
           "baxis": {
            "gridcolor": "white",
            "linecolor": "white",
            "ticks": ""
           },
           "bgcolor": "#E5ECF6",
           "caxis": {
            "gridcolor": "white",
            "linecolor": "white",
            "ticks": ""
           }
          },
          "title": {
           "x": 0.05
          },
          "xaxis": {
           "automargin": true,
           "gridcolor": "white",
           "linecolor": "white",
           "ticks": "",
           "title": {
            "standoff": 15
           },
           "zerolinecolor": "white",
           "zerolinewidth": 2
          },
          "yaxis": {
           "automargin": true,
           "gridcolor": "white",
           "linecolor": "white",
           "ticks": "",
           "title": {
            "standoff": 15
           },
           "zerolinecolor": "white",
           "zerolinewidth": 2
          }
         }
        },
        "title": {
         "text": "RMSE Distributions by Model (CV Splits vs Bootstrapped)"
        },
        "width": 850,
        "xaxis": {
         "anchor": "y",
         "domain": [
          0,
          0.45
         ],
         "title": {
          "text": "Model"
         }
        },
        "xaxis2": {
         "anchor": "y2",
         "domain": [
          0.55,
          1
         ],
         "title": {
          "text": "Model"
         }
        },
        "yaxis": {
         "anchor": "x",
         "domain": [
          0,
          1
         ],
         "title": {
          "text": "RMSE"
         }
        },
        "yaxis2": {
         "anchor": "x2",
         "domain": [
          0,
          1
         ],
         "title": {
          "text": "RMSE"
         }
        }
       }
      }
     },
     "metadata": {},
     "output_type": "display_data"
    }
   ],
   "source": [
    "import plotly.express as px\n",
    "import plotly.graph_objects as go\n",
    "from plotly.subplots import make_subplots\n",
    "\n",
    "# Create subplot layout\n",
    "fig = make_subplots(rows=1, cols=2, subplot_titles=(\"CV Splits RMSE\", \"Bootstrapped RMSE\"))\n",
    "\n",
    "# Define model colors\n",
    "color_map = {'lgb': 'green', 'xgb': 'blue', 'cat': 'red'}\n",
    "\n",
    "# First plot: CV splits\n",
    "for model in df_rmses[\"model\"].unique():\n",
    "    fig.add_trace(\n",
    "        go.Box(\n",
    "            y=df_rmses[df_rmses[\"model\"] == model][\"rmse\"],\n",
    "            name=model,\n",
    "            marker_color=color_map.get(model, \"gray\"),\n",
    "            boxmean=\"sd\"\n",
    "        ),\n",
    "        row=1, col=1\n",
    "    )\n",
    "\n",
    "# Second plot: Bootstrapped\n",
    "for model in df_rmses_bs[\"model\"].unique():\n",
    "    fig.add_trace(\n",
    "        go.Box(\n",
    "            y=df_rmses_bs[df_rmses_bs[\"model\"] == model][\"rmse\"],\n",
    "            name=model,\n",
    "            marker_color=color_map.get(model, \"gray\"),\n",
    "            boxmean=\"sd\",\n",
    "            showlegend=False\n",
    "        ),\n",
    "        row=1, col=2\n",
    "    )\n",
    "\n",
    "# Layout adjustments\n",
    "fig.update_layout(\n",
    "    height=400,\n",
    "    width=850,\n",
    "    title_text=\"RMSE Distributions by Model (CV Splits vs Bootstrapped)\"\n",
    ")\n",
    "\n",
    "fig.update_yaxes(title_text=\"RMSE\", row=1, col=1)\n",
    "fig.update_yaxes(title_text=\"RMSE\", row=1, col=2)\n",
    "fig.update_xaxes(title_text=\"Model\", row=1, col=1)\n",
    "fig.update_xaxes(title_text=\"Model\", row=1, col=2)\n",
    "\n",
    "fig.show()\n"
   ]
  },
  {
   "cell_type": "markdown",
   "id": "239d36a8",
   "metadata": {},
   "source": [
    "#### Evaluate Performance"
   ]
  },
  {
   "cell_type": "code",
   "execution_count": 100,
   "id": "c17b7656",
   "metadata": {},
   "outputs": [],
   "source": [
    "with open(s_opath+\"best_params.json\", \"r\") as f:\n",
    "\td_p = json.load(f)\n",
    "d_params = d_p['cat']"
   ]
  },
  {
   "cell_type": "code",
   "execution_count": 101,
   "id": "4b8ddac5",
   "metadata": {},
   "outputs": [],
   "source": [
    "d_params = _cast_int(d_params)\n",
    "X_tr = featurise(dev_df, fit=True)\n",
    "X_va, feature_names = featurise(test_df, fit=False, return_columns=True) #featurise and get feature names"
   ]
  },
  {
   "cell_type": "code",
   "execution_count": 102,
   "id": "d293077e",
   "metadata": {},
   "outputs": [
    {
     "name": "stdout",
     "output_type": "stream",
     "text": [
      "Completed!\n"
     ]
    }
   ],
   "source": [
    "#with open(os.devnull, 'w') as f, redirect_stdout(f):\n",
    "key_mdl = CatBoostRegressor(**d_params, loss_function=\"RMSE\",\n",
    "                                    random_seed = RS_STATE, verbose=False)\n",
    "key_mdl.fit(X_tr, y_dev)\n",
    "mdl_rmse_test = rmse(y_test, key_mdl.predict(X_va))\n",
    "mdl_rmse_train = rmse(y_dev, key_mdl.predict(X_tr))\n",
    "print('Completed!')    "
   ]
  },
  {
   "cell_type": "code",
   "execution_count": 103,
   "id": "241b67e1",
   "metadata": {},
   "outputs": [
    {
     "name": "stdout",
     "output_type": "stream",
     "text": [
      "The RMSE of the best model - CatGBoost - is: 0.5212\n"
     ]
    }
   ],
   "source": [
    "print(f'The RMSE of the best model - CatGBoost - is: {mdl_rmse_test:.4f}')"
   ]
  },
  {
   "cell_type": "code",
   "execution_count": 104,
   "id": "b3b4178a",
   "metadata": {},
   "outputs": [
    {
     "data": {
      "text/html": [
       "<div>\n",
       "<style scoped>\n",
       "    .dataframe tbody tr th:only-of-type {\n",
       "        vertical-align: middle;\n",
       "    }\n",
       "\n",
       "    .dataframe tbody tr th {\n",
       "        vertical-align: top;\n",
       "    }\n",
       "\n",
       "    .dataframe thead th {\n",
       "        text-align: right;\n",
       "    }\n",
       "</style>\n",
       "<table border=\"1\" class=\"dataframe\">\n",
       "  <thead>\n",
       "    <tr style=\"text-align: right;\">\n",
       "      <th></th>\n",
       "      <th>Model</th>\n",
       "      <th>Score (Train)</th>\n",
       "      <th>Score (Test)</th>\n",
       "    </tr>\n",
       "  </thead>\n",
       "  <tbody>\n",
       "    <tr>\n",
       "      <th>0</th>\n",
       "      <td>CatGBoost</td>\n",
       "      <td>0.470606</td>\n",
       "      <td>0.521209</td>\n",
       "    </tr>\n",
       "  </tbody>\n",
       "</table>\n",
       "</div>"
      ],
      "text/plain": [
       "       Model  Score (Train)  Score (Test)\n",
       "0  CatGBoost       0.470606      0.521209"
      ]
     },
     "execution_count": 104,
     "metadata": {},
     "output_type": "execute_result"
    }
   ],
   "source": [
    "df_results = pd.DataFrame([{\n",
    "    \"Model\": \"CatGBoost\",\n",
    "    \"Score (Train)\": mdl_rmse_train,\n",
    "    \"Score (Test)\": mdl_rmse_test\n",
    "}])\n",
    "\n",
    "df_results"
   ]
  },
  {
   "cell_type": "code",
   "execution_count": 105,
   "id": "32932748",
   "metadata": {},
   "outputs": [],
   "source": [
    "def single_model_bootstrap_test(df_obs: pd.DataFrame, df_boot: pd.DataFrame,\n",
    "                                model: str, alpha: float = 0.05):\n",
    "    \"\"\"Return a dict with observed mean, 95 % CI and p‑value for one model.\"\"\"\n",
    "    obs_vals   = df_obs.loc[df_obs[\"model\"] == model, \"rmse\"].values\n",
    "    boot_means = df_boot.loc[df_boot[\"model\"] == model, \"rmse\"].values\n",
    "\n",
    "    obs_mean   = obs_vals.mean()\n",
    "    boot_mean  = boot_means.mean()\n",
    "    # two‑tailed percentile CI for the mean\n",
    "    ci_low, ci_high = np.quantile(boot_means, [alpha/2, 1 - alpha/2])\n",
    "\n",
    "    # p‑value: how often is |boot_mean_i − boot_mean| ≥ |obs_mean − boot_mean| ?\n",
    "    thresh = abs(obs_mean - boot_mean)\n",
    "    p_val  = (np.abs(boot_means - boot_mean) >= thresh).mean()\n",
    "\n",
    "    return {\n",
    "        \"Model\": model,\n",
    "        \"Observed mean\": obs_mean,\n",
    "        \"Boot mean\": boot_mean,\n",
    "        \"95% CI low\": ci_low,\n",
    "        \"95% CI high\": ci_high,\n",
    "        \"p‑value\": p_val,\n",
    "    }\n"
   ]
  },
  {
   "cell_type": "code",
   "execution_count": 106,
   "id": "68ddce9a",
   "metadata": {},
   "outputs": [
    {
     "name": "stdout",
     "output_type": "stream",
     "text": [
      "Per‑model bootstrap consistency test (two‑tailed):\n"
     ]
    },
    {
     "data": {
      "text/html": [
       "<div>\n",
       "<style scoped>\n",
       "    .dataframe tbody tr th:only-of-type {\n",
       "        vertical-align: middle;\n",
       "    }\n",
       "\n",
       "    .dataframe tbody tr th {\n",
       "        vertical-align: top;\n",
       "    }\n",
       "\n",
       "    .dataframe thead th {\n",
       "        text-align: right;\n",
       "    }\n",
       "</style>\n",
       "<table border=\"1\" class=\"dataframe\">\n",
       "  <thead>\n",
       "    <tr style=\"text-align: right;\">\n",
       "      <th></th>\n",
       "      <th>Model</th>\n",
       "      <th>Observed mean</th>\n",
       "      <th>Boot mean</th>\n",
       "      <th>95% CI low</th>\n",
       "      <th>95% CI high</th>\n",
       "      <th>p‑value</th>\n",
       "    </tr>\n",
       "  </thead>\n",
       "  <tbody>\n",
       "    <tr>\n",
       "      <th>1</th>\n",
       "      <td>cat</td>\n",
       "      <td>0.489957</td>\n",
       "      <td>0.490687</td>\n",
       "      <td>0.474291</td>\n",
       "      <td>0.505794</td>\n",
       "      <td>0.960</td>\n",
       "    </tr>\n",
       "    <tr>\n",
       "      <th>2</th>\n",
       "      <td>lgb</td>\n",
       "      <td>0.489112</td>\n",
       "      <td>0.488817</td>\n",
       "      <td>0.471505</td>\n",
       "      <td>0.506772</td>\n",
       "      <td>0.980</td>\n",
       "    </tr>\n",
       "    <tr>\n",
       "      <th>0</th>\n",
       "      <td>xgb</td>\n",
       "      <td>0.490582</td>\n",
       "      <td>0.490146</td>\n",
       "      <td>0.470735</td>\n",
       "      <td>0.506415</td>\n",
       "      <td>0.965</td>\n",
       "    </tr>\n",
       "  </tbody>\n",
       "</table>\n",
       "</div>"
      ],
      "text/plain": [
       "  Model  Observed mean  Boot mean  95% CI low  95% CI high  p‑value\n",
       "1   cat       0.489957   0.490687    0.474291     0.505794    0.960\n",
       "2   lgb       0.489112   0.488817    0.471505     0.506772    0.980\n",
       "0   xgb       0.490582   0.490146    0.470735     0.506415    0.965"
      ]
     },
     "metadata": {},
     "output_type": "display_data"
    }
   ],
   "source": [
    "#  For each model m we test\n",
    "#      H0 : The expected mean RMSE = the mean observed on the 5 splits  (no bias)\n",
    "#      HA : The expected mean RMSE ≠ that value\n",
    "results = [single_model_bootstrap_test(df_rmses, df_rmses_bs, m )\n",
    "           for m in df_rmses[\"model\"].unique()]\n",
    "\n",
    "summary = pd.DataFrame(results).sort_values(\"Model\")\n",
    "print(\"Per‑model bootstrap consistency test (two‑tailed):\")\n",
    "display(summary)"
   ]
  },
  {
   "cell_type": "code",
   "execution_count": 107,
   "id": "81746393",
   "metadata": {},
   "outputs": [],
   "source": [
    "import plotly.express as px\n",
    "\n",
    "def plot_catboost_importance(model, feature_names, top_n: int = 25):\n",
    "    \"\"\"Horizontal bar chart of CatBoost feature importances.\"\"\"\n",
    "    importances = model.get_feature_importance(type=\"FeatureImportance\")\n",
    "    df_imp = pd.DataFrame({\"feature\": feature_names, \"importance\": importances})\n",
    "    df_imp = df_imp.sort_values(\"importance\", ascending=False).head(top_n)\n",
    "\n",
    "    fig = px.bar(df_imp[::-1], x=\"importance\", y=\"feature\", orientation=\"h\",\n",
    "                 title=f\"CatBoost feature importance (top {top_n})\")\n",
    "    fig.update_layout(yaxis={'categoryorder': 'total ascending'},\n",
    "                      xaxis_title=\"Importance score\",\n",
    "                      yaxis_title=\"Feature\")\n",
    "    fig.show()\n",
    "    return df_imp\n"
   ]
  },
  {
   "cell_type": "code",
   "execution_count": 108,
   "id": "9b3028f0",
   "metadata": {},
   "outputs": [
    {
     "data": {
      "application/vnd.plotly.v1+json": {
       "config": {
        "plotlyServerURL": "https://plot.ly"
       },
       "data": [
        {
         "hovertemplate": "importance=%{x}<br>feature=%{y}<extra></extra>",
         "legendgroup": "",
         "marker": {
          "color": "#636efa",
          "pattern": {
           "shape": ""
          }
         },
         "name": "",
         "orientation": "h",
         "showlegend": false,
         "textposition": "auto",
         "type": "bar",
         "x": {
          "bdata": "3tWb4gYP4D/KIbob3rjhPztjGy8WrOQ/+Q9e28ce5T/E0WrIb7PoP4Ti6hETb+k/OSbdQb+57D+0XT8hzdHsP9pOb8LdsvA/Y6S9/WYe8z83Ke9Qfh/7P13tl68wh/s/u6aFpmGRBUCRVLy0E9YFQHy9Jw/mAw1AEu4K2QD4GEBdVMu9+iciQLYjVizbeCJA9cRr4iLlN0BqAAyWTQM5QA==",
          "dtype": "f8"
         },
         "xaxis": "x",
         "y": [
          "d_success",
          "a_Bullet03_min",
          "a_Bullet04_mean",
          "t_mean",
          "a_Bullet02_success",
          "t_success",
          "t_max",
          "a_Bullet02_max",
          "a_Assembled Depth (in.)_mean",
          "d_mean",
          "t_span",
          "t_min",
          "d_max",
          "d_span",
          "d_min",
          "bm25_t",
          "cos_l",
          "cos_char",
          "bm25_l",
          "cos_t"
         ],
         "yaxis": "y"
        }
       ],
       "layout": {
        "barmode": "relative",
        "legend": {
         "tracegroupgap": 0
        },
        "template": {
         "data": {
          "bar": [
           {
            "error_x": {
             "color": "#2a3f5f"
            },
            "error_y": {
             "color": "#2a3f5f"
            },
            "marker": {
             "line": {
              "color": "#E5ECF6",
              "width": 0.5
             },
             "pattern": {
              "fillmode": "overlay",
              "size": 10,
              "solidity": 0.2
             }
            },
            "type": "bar"
           }
          ],
          "barpolar": [
           {
            "marker": {
             "line": {
              "color": "#E5ECF6",
              "width": 0.5
             },
             "pattern": {
              "fillmode": "overlay",
              "size": 10,
              "solidity": 0.2
             }
            },
            "type": "barpolar"
           }
          ],
          "carpet": [
           {
            "aaxis": {
             "endlinecolor": "#2a3f5f",
             "gridcolor": "white",
             "linecolor": "white",
             "minorgridcolor": "white",
             "startlinecolor": "#2a3f5f"
            },
            "baxis": {
             "endlinecolor": "#2a3f5f",
             "gridcolor": "white",
             "linecolor": "white",
             "minorgridcolor": "white",
             "startlinecolor": "#2a3f5f"
            },
            "type": "carpet"
           }
          ],
          "choropleth": [
           {
            "colorbar": {
             "outlinewidth": 0,
             "ticks": ""
            },
            "type": "choropleth"
           }
          ],
          "contour": [
           {
            "colorbar": {
             "outlinewidth": 0,
             "ticks": ""
            },
            "colorscale": [
             [
              0,
              "#0d0887"
             ],
             [
              0.1111111111111111,
              "#46039f"
             ],
             [
              0.2222222222222222,
              "#7201a8"
             ],
             [
              0.3333333333333333,
              "#9c179e"
             ],
             [
              0.4444444444444444,
              "#bd3786"
             ],
             [
              0.5555555555555556,
              "#d8576b"
             ],
             [
              0.6666666666666666,
              "#ed7953"
             ],
             [
              0.7777777777777778,
              "#fb9f3a"
             ],
             [
              0.8888888888888888,
              "#fdca26"
             ],
             [
              1,
              "#f0f921"
             ]
            ],
            "type": "contour"
           }
          ],
          "contourcarpet": [
           {
            "colorbar": {
             "outlinewidth": 0,
             "ticks": ""
            },
            "type": "contourcarpet"
           }
          ],
          "heatmap": [
           {
            "colorbar": {
             "outlinewidth": 0,
             "ticks": ""
            },
            "colorscale": [
             [
              0,
              "#0d0887"
             ],
             [
              0.1111111111111111,
              "#46039f"
             ],
             [
              0.2222222222222222,
              "#7201a8"
             ],
             [
              0.3333333333333333,
              "#9c179e"
             ],
             [
              0.4444444444444444,
              "#bd3786"
             ],
             [
              0.5555555555555556,
              "#d8576b"
             ],
             [
              0.6666666666666666,
              "#ed7953"
             ],
             [
              0.7777777777777778,
              "#fb9f3a"
             ],
             [
              0.8888888888888888,
              "#fdca26"
             ],
             [
              1,
              "#f0f921"
             ]
            ],
            "type": "heatmap"
           }
          ],
          "histogram": [
           {
            "marker": {
             "pattern": {
              "fillmode": "overlay",
              "size": 10,
              "solidity": 0.2
             }
            },
            "type": "histogram"
           }
          ],
          "histogram2d": [
           {
            "colorbar": {
             "outlinewidth": 0,
             "ticks": ""
            },
            "colorscale": [
             [
              0,
              "#0d0887"
             ],
             [
              0.1111111111111111,
              "#46039f"
             ],
             [
              0.2222222222222222,
              "#7201a8"
             ],
             [
              0.3333333333333333,
              "#9c179e"
             ],
             [
              0.4444444444444444,
              "#bd3786"
             ],
             [
              0.5555555555555556,
              "#d8576b"
             ],
             [
              0.6666666666666666,
              "#ed7953"
             ],
             [
              0.7777777777777778,
              "#fb9f3a"
             ],
             [
              0.8888888888888888,
              "#fdca26"
             ],
             [
              1,
              "#f0f921"
             ]
            ],
            "type": "histogram2d"
           }
          ],
          "histogram2dcontour": [
           {
            "colorbar": {
             "outlinewidth": 0,
             "ticks": ""
            },
            "colorscale": [
             [
              0,
              "#0d0887"
             ],
             [
              0.1111111111111111,
              "#46039f"
             ],
             [
              0.2222222222222222,
              "#7201a8"
             ],
             [
              0.3333333333333333,
              "#9c179e"
             ],
             [
              0.4444444444444444,
              "#bd3786"
             ],
             [
              0.5555555555555556,
              "#d8576b"
             ],
             [
              0.6666666666666666,
              "#ed7953"
             ],
             [
              0.7777777777777778,
              "#fb9f3a"
             ],
             [
              0.8888888888888888,
              "#fdca26"
             ],
             [
              1,
              "#f0f921"
             ]
            ],
            "type": "histogram2dcontour"
           }
          ],
          "mesh3d": [
           {
            "colorbar": {
             "outlinewidth": 0,
             "ticks": ""
            },
            "type": "mesh3d"
           }
          ],
          "parcoords": [
           {
            "line": {
             "colorbar": {
              "outlinewidth": 0,
              "ticks": ""
             }
            },
            "type": "parcoords"
           }
          ],
          "pie": [
           {
            "automargin": true,
            "type": "pie"
           }
          ],
          "scatter": [
           {
            "fillpattern": {
             "fillmode": "overlay",
             "size": 10,
             "solidity": 0.2
            },
            "type": "scatter"
           }
          ],
          "scatter3d": [
           {
            "line": {
             "colorbar": {
              "outlinewidth": 0,
              "ticks": ""
             }
            },
            "marker": {
             "colorbar": {
              "outlinewidth": 0,
              "ticks": ""
             }
            },
            "type": "scatter3d"
           }
          ],
          "scattercarpet": [
           {
            "marker": {
             "colorbar": {
              "outlinewidth": 0,
              "ticks": ""
             }
            },
            "type": "scattercarpet"
           }
          ],
          "scattergeo": [
           {
            "marker": {
             "colorbar": {
              "outlinewidth": 0,
              "ticks": ""
             }
            },
            "type": "scattergeo"
           }
          ],
          "scattergl": [
           {
            "marker": {
             "colorbar": {
              "outlinewidth": 0,
              "ticks": ""
             }
            },
            "type": "scattergl"
           }
          ],
          "scattermap": [
           {
            "marker": {
             "colorbar": {
              "outlinewidth": 0,
              "ticks": ""
             }
            },
            "type": "scattermap"
           }
          ],
          "scattermapbox": [
           {
            "marker": {
             "colorbar": {
              "outlinewidth": 0,
              "ticks": ""
             }
            },
            "type": "scattermapbox"
           }
          ],
          "scatterpolar": [
           {
            "marker": {
             "colorbar": {
              "outlinewidth": 0,
              "ticks": ""
             }
            },
            "type": "scatterpolar"
           }
          ],
          "scatterpolargl": [
           {
            "marker": {
             "colorbar": {
              "outlinewidth": 0,
              "ticks": ""
             }
            },
            "type": "scatterpolargl"
           }
          ],
          "scatterternary": [
           {
            "marker": {
             "colorbar": {
              "outlinewidth": 0,
              "ticks": ""
             }
            },
            "type": "scatterternary"
           }
          ],
          "surface": [
           {
            "colorbar": {
             "outlinewidth": 0,
             "ticks": ""
            },
            "colorscale": [
             [
              0,
              "#0d0887"
             ],
             [
              0.1111111111111111,
              "#46039f"
             ],
             [
              0.2222222222222222,
              "#7201a8"
             ],
             [
              0.3333333333333333,
              "#9c179e"
             ],
             [
              0.4444444444444444,
              "#bd3786"
             ],
             [
              0.5555555555555556,
              "#d8576b"
             ],
             [
              0.6666666666666666,
              "#ed7953"
             ],
             [
              0.7777777777777778,
              "#fb9f3a"
             ],
             [
              0.8888888888888888,
              "#fdca26"
             ],
             [
              1,
              "#f0f921"
             ]
            ],
            "type": "surface"
           }
          ],
          "table": [
           {
            "cells": {
             "fill": {
              "color": "#EBF0F8"
             },
             "line": {
              "color": "white"
             }
            },
            "header": {
             "fill": {
              "color": "#C8D4E3"
             },
             "line": {
              "color": "white"
             }
            },
            "type": "table"
           }
          ]
         },
         "layout": {
          "annotationdefaults": {
           "arrowcolor": "#2a3f5f",
           "arrowhead": 0,
           "arrowwidth": 1
          },
          "autotypenumbers": "strict",
          "coloraxis": {
           "colorbar": {
            "outlinewidth": 0,
            "ticks": ""
           }
          },
          "colorscale": {
           "diverging": [
            [
             0,
             "#8e0152"
            ],
            [
             0.1,
             "#c51b7d"
            ],
            [
             0.2,
             "#de77ae"
            ],
            [
             0.3,
             "#f1b6da"
            ],
            [
             0.4,
             "#fde0ef"
            ],
            [
             0.5,
             "#f7f7f7"
            ],
            [
             0.6,
             "#e6f5d0"
            ],
            [
             0.7,
             "#b8e186"
            ],
            [
             0.8,
             "#7fbc41"
            ],
            [
             0.9,
             "#4d9221"
            ],
            [
             1,
             "#276419"
            ]
           ],
           "sequential": [
            [
             0,
             "#0d0887"
            ],
            [
             0.1111111111111111,
             "#46039f"
            ],
            [
             0.2222222222222222,
             "#7201a8"
            ],
            [
             0.3333333333333333,
             "#9c179e"
            ],
            [
             0.4444444444444444,
             "#bd3786"
            ],
            [
             0.5555555555555556,
             "#d8576b"
            ],
            [
             0.6666666666666666,
             "#ed7953"
            ],
            [
             0.7777777777777778,
             "#fb9f3a"
            ],
            [
             0.8888888888888888,
             "#fdca26"
            ],
            [
             1,
             "#f0f921"
            ]
           ],
           "sequentialminus": [
            [
             0,
             "#0d0887"
            ],
            [
             0.1111111111111111,
             "#46039f"
            ],
            [
             0.2222222222222222,
             "#7201a8"
            ],
            [
             0.3333333333333333,
             "#9c179e"
            ],
            [
             0.4444444444444444,
             "#bd3786"
            ],
            [
             0.5555555555555556,
             "#d8576b"
            ],
            [
             0.6666666666666666,
             "#ed7953"
            ],
            [
             0.7777777777777778,
             "#fb9f3a"
            ],
            [
             0.8888888888888888,
             "#fdca26"
            ],
            [
             1,
             "#f0f921"
            ]
           ]
          },
          "colorway": [
           "#636efa",
           "#EF553B",
           "#00cc96",
           "#ab63fa",
           "#FFA15A",
           "#19d3f3",
           "#FF6692",
           "#B6E880",
           "#FF97FF",
           "#FECB52"
          ],
          "font": {
           "color": "#2a3f5f"
          },
          "geo": {
           "bgcolor": "white",
           "lakecolor": "white",
           "landcolor": "#E5ECF6",
           "showlakes": true,
           "showland": true,
           "subunitcolor": "white"
          },
          "hoverlabel": {
           "align": "left"
          },
          "hovermode": "closest",
          "mapbox": {
           "style": "light"
          },
          "paper_bgcolor": "white",
          "plot_bgcolor": "#E5ECF6",
          "polar": {
           "angularaxis": {
            "gridcolor": "white",
            "linecolor": "white",
            "ticks": ""
           },
           "bgcolor": "#E5ECF6",
           "radialaxis": {
            "gridcolor": "white",
            "linecolor": "white",
            "ticks": ""
           }
          },
          "scene": {
           "xaxis": {
            "backgroundcolor": "#E5ECF6",
            "gridcolor": "white",
            "gridwidth": 2,
            "linecolor": "white",
            "showbackground": true,
            "ticks": "",
            "zerolinecolor": "white"
           },
           "yaxis": {
            "backgroundcolor": "#E5ECF6",
            "gridcolor": "white",
            "gridwidth": 2,
            "linecolor": "white",
            "showbackground": true,
            "ticks": "",
            "zerolinecolor": "white"
           },
           "zaxis": {
            "backgroundcolor": "#E5ECF6",
            "gridcolor": "white",
            "gridwidth": 2,
            "linecolor": "white",
            "showbackground": true,
            "ticks": "",
            "zerolinecolor": "white"
           }
          },
          "shapedefaults": {
           "line": {
            "color": "#2a3f5f"
           }
          },
          "ternary": {
           "aaxis": {
            "gridcolor": "white",
            "linecolor": "white",
            "ticks": ""
           },
           "baxis": {
            "gridcolor": "white",
            "linecolor": "white",
            "ticks": ""
           },
           "bgcolor": "#E5ECF6",
           "caxis": {
            "gridcolor": "white",
            "linecolor": "white",
            "ticks": ""
           }
          },
          "title": {
           "x": 0.05
          },
          "xaxis": {
           "automargin": true,
           "gridcolor": "white",
           "linecolor": "white",
           "ticks": "",
           "title": {
            "standoff": 15
           },
           "zerolinecolor": "white",
           "zerolinewidth": 2
          },
          "yaxis": {
           "automargin": true,
           "gridcolor": "white",
           "linecolor": "white",
           "ticks": "",
           "title": {
            "standoff": 15
           },
           "zerolinecolor": "white",
           "zerolinewidth": 2
          }
         }
        },
        "title": {
         "text": "CatBoost feature importance (top 20)"
        },
        "xaxis": {
         "anchor": "y",
         "domain": [
          0,
          1
         ],
         "title": {
          "text": "Importance score"
         }
        },
        "yaxis": {
         "anchor": "x",
         "categoryorder": "total ascending",
         "domain": [
          0,
          1
         ],
         "title": {
          "text": "Feature"
         }
        }
       }
      }
     },
     "metadata": {},
     "output_type": "display_data"
    },
    {
     "data": {
      "text/html": [
       "<div>\n",
       "<style scoped>\n",
       "    .dataframe tbody tr th:only-of-type {\n",
       "        vertical-align: middle;\n",
       "    }\n",
       "\n",
       "    .dataframe tbody tr th {\n",
       "        vertical-align: top;\n",
       "    }\n",
       "\n",
       "    .dataframe thead th {\n",
       "        text-align: right;\n",
       "    }\n",
       "</style>\n",
       "<table border=\"1\" class=\"dataframe\">\n",
       "  <thead>\n",
       "    <tr style=\"text-align: right;\">\n",
       "      <th></th>\n",
       "      <th>feature</th>\n",
       "      <th>importance</th>\n",
       "    </tr>\n",
       "  </thead>\n",
       "  <tbody>\n",
       "    <tr>\n",
       "      <th>0</th>\n",
       "      <td>cos_t</td>\n",
       "      <td>25.012903</td>\n",
       "    </tr>\n",
       "    <tr>\n",
       "      <th>3</th>\n",
       "      <td>bm25_l</td>\n",
       "      <td>23.895064</td>\n",
       "    </tr>\n",
       "    <tr>\n",
       "      <th>4</th>\n",
       "      <td>cos_char</td>\n",
       "      <td>9.236047</td>\n",
       "    </tr>\n",
       "    <tr>\n",
       "      <th>1</th>\n",
       "      <td>cos_l</td>\n",
       "      <td>9.078085</td>\n",
       "    </tr>\n",
       "    <tr>\n",
       "      <th>2</th>\n",
       "      <td>bm25_t</td>\n",
       "      <td>6.242191</td>\n",
       "    </tr>\n",
       "    <tr>\n",
       "      <th>10</th>\n",
       "      <td>d_min</td>\n",
       "      <td>3.626904</td>\n",
       "    </tr>\n",
       "    <tr>\n",
       "      <th>13</th>\n",
       "      <td>d_span</td>\n",
       "      <td>2.729530</td>\n",
       "    </tr>\n",
       "    <tr>\n",
       "      <th>11</th>\n",
       "      <td>d_max</td>\n",
       "      <td>2.695987</td>\n",
       "    </tr>\n",
       "    <tr>\n",
       "      <th>5</th>\n",
       "      <td>t_min</td>\n",
       "      <td>1.720505</td>\n",
       "    </tr>\n",
       "    <tr>\n",
       "      <th>8</th>\n",
       "      <td>t_span</td>\n",
       "      <td>1.695189</td>\n",
       "    </tr>\n",
       "    <tr>\n",
       "      <th>12</th>\n",
       "      <td>d_mean</td>\n",
       "      <td>1.194922</td>\n",
       "    </tr>\n",
       "    <tr>\n",
       "      <th>117</th>\n",
       "      <td>a_Assembled Depth (in.)_mean</td>\n",
       "      <td>1.043669</td>\n",
       "    </tr>\n",
       "    <tr>\n",
       "      <th>16</th>\n",
       "      <td>a_Bullet02_max</td>\n",
       "      <td>0.900611</td>\n",
       "    </tr>\n",
       "    <tr>\n",
       "      <th>6</th>\n",
       "      <td>t_max</td>\n",
       "      <td>0.897674</td>\n",
       "    </tr>\n",
       "    <tr>\n",
       "      <th>9</th>\n",
       "      <td>t_success</td>\n",
       "      <td>0.794809</td>\n",
       "    </tr>\n",
       "    <tr>\n",
       "      <th>19</th>\n",
       "      <td>a_Bullet02_success</td>\n",
       "      <td>0.771904</td>\n",
       "    </tr>\n",
       "    <tr>\n",
       "      <th>7</th>\n",
       "      <td>t_mean</td>\n",
       "      <td>0.660007</td>\n",
       "    </tr>\n",
       "    <tr>\n",
       "      <th>32</th>\n",
       "      <td>a_Bullet04_mean</td>\n",
       "      <td>0.646007</td>\n",
       "    </tr>\n",
       "    <tr>\n",
       "      <th>20</th>\n",
       "      <td>a_Bullet03_min</td>\n",
       "      <td>0.553817</td>\n",
       "    </tr>\n",
       "    <tr>\n",
       "      <th>14</th>\n",
       "      <td>d_success</td>\n",
       "      <td>0.501834</td>\n",
       "    </tr>\n",
       "  </tbody>\n",
       "</table>\n",
       "</div>"
      ],
      "text/plain": [
       "                          feature  importance\n",
       "0                           cos_t   25.012903\n",
       "3                          bm25_l   23.895064\n",
       "4                        cos_char    9.236047\n",
       "1                           cos_l    9.078085\n",
       "2                          bm25_t    6.242191\n",
       "10                          d_min    3.626904\n",
       "13                         d_span    2.729530\n",
       "11                          d_max    2.695987\n",
       "5                           t_min    1.720505\n",
       "8                          t_span    1.695189\n",
       "12                         d_mean    1.194922\n",
       "117  a_Assembled Depth (in.)_mean    1.043669\n",
       "16                 a_Bullet02_max    0.900611\n",
       "6                           t_max    0.897674\n",
       "9                       t_success    0.794809\n",
       "19             a_Bullet02_success    0.771904\n",
       "7                          t_mean    0.660007\n",
       "32                a_Bullet04_mean    0.646007\n",
       "20                 a_Bullet03_min    0.553817\n",
       "14                      d_success    0.501834"
      ]
     },
     "execution_count": 108,
     "metadata": {},
     "output_type": "execute_result"
    }
   ],
   "source": [
    "plot_catboost_importance(key_mdl, feature_names, top_n=20)"
   ]
  },
  {
   "cell_type": "markdown",
   "id": "dc1fa3f6",
   "metadata": {},
   "source": [
    "#### CLUSTERING\n",
    "\n",
    "Disclaimer: Clustering was performed exclusively with the training / dev_df dataset. My overall approach consists in disregarding the testing set except for model performance evaluations to avoid bias in all the inferences.\n",
    "\n",
    "Since we are using a sample dataset to test that the workflow work properly, the clustering results will differ from the real values presented in the report.\n",
    "Still, you can change the Sample DF section and obtain the real results (computationally expensive) "
   ]
  },
  {
   "cell_type": "code",
   "execution_count": null,
   "id": "99f2605b",
   "metadata": {},
   "outputs": [
    {
     "name": "stdout",
     "output_type": "stream",
     "text": [
      "100%|██████████| 50/50 [02:30<00:00,  3.00s/trial, best loss: -0.9660619497299194]\n",
      "\n",
      "  Best params  →  perplexity=40.0, lr=76.4, k=3\n",
      "  Best Silhouette on subsample: 0.9661\n",
      "Silhouette (all data): 0.9661\n",
      "Cluster 0: light, door, shower, tile, inch, wall, wood, white, glass, fence\n",
      "Cluster 1: planks, pine, 10, zero, zep, zenith, year, x4, x34, wrenches\n",
      "Cluster 2: round, outdoor, cushions, zero, zep, zenith, year, x4, x34, wrenches\n"
     ]
    }
   ],
   "source": [
    "from sklearn.decomposition import TruncatedSVD\n",
    "def zero_impute(X):\n",
    "    \"\"\"\n",
    "    Replace every NaN with 0 in a pandas.DataFrame, a NumPy ndarray,\n",
    "    or any SciPy sparse matrix (csr, csc, coo, …).\n",
    "    Returns the cleaned object in the same format it received.\n",
    "    \"\"\"\n",
    "    # -------- 1) Pandas DataFrame ----------------------------------------\n",
    "    if isinstance(X, pd.DataFrame):\n",
    "        return X.fillna(0)\n",
    "\n",
    "    # -------- 2) SciPy sparse matrix -------------------------------------\n",
    "    if sp.issparse(X):\n",
    "        # Work on the data vector only → keeps the matrix sparse\n",
    "        nan_mask = np.isnan(X.data)\n",
    "        if nan_mask.any():\n",
    "            X.data[nan_mask] = 0.0\n",
    "        return X   # still the same sparse format (csr, csc, …)\n",
    "\n",
    "    # -------- 3) Plain NumPy array ---------------------------------------\n",
    "    return np.nan_to_num(X, nan=0.0)\n",
    "\n",
    "\"\"\"\n",
    "workflow summary:\n",
    "------------------------------\n",
    "1) t-SNE  (tunes perplexity + learning_rate)\n",
    "2) Hyperopt  -> best (perplexity, lr, k) w.r.t. Silhouette\n",
    "3) KMeans fit on full data with best k\n",
    "4) Word-cloud of top 10 search-term tokens / cluster\n",
    "\"\"\"\n",
    "\n",
    "# ---------- INPUTS ------------------------------------------------------\n",
    "# X_train  : your dense feature matrix (n × d)\n",
    "# train    : DataFrame with \"search_term\" column\n",
    "# ------------------------------------------------------------------------\n",
    "\n",
    "# Zero impute\n",
    "X_train = zero_impute(X_tr)\n",
    "assert not np.isnan(\n",
    "    X_train.data if sp.issparse(X_train) else X_train\n",
    ").any(), \"There are still NaNs!\"\n",
    "\n",
    "# Dimensionality reduction\n",
    "svd = TruncatedSVD(n_components=50, random_state=RS_STATE)\n",
    "X_reduced = svd.fit_transform(X_train)   # dense (n_samples × 50)\n",
    "X_train = X_reduced\n",
    "\n",
    "# Subsample for speed\n",
    "MAX_PTS_FOR_TSNE = 10_000            \n",
    "idx = np.arange(X_train.shape[0])\n",
    "if MAX_PTS_FOR_TSNE and len(idx) > MAX_PTS_FOR_TSNE:\n",
    "    idx = np.random.choice(idx, MAX_PTS_FOR_TSNE, replace=False)\n",
    "X_sub = X_train[idx]\n",
    "\n",
    "#Hyperopt for best t-SNE + Kmeans params\n",
    "space = {\n",
    "    \"perplexity\":     hp.quniform(\"perplexity\", 10, 60, 5),\n",
    "    \"learning_rate\":  hp.loguniform(\"learning_rate\", np.log(50), np.log(500)),\n",
    "    \"k\":              hp.quniform(\"k\", 3, 15, 1),\n",
    "}\n",
    "\n",
    "def objective(params):\n",
    "    perpl = float(params[\"perplexity\"])\n",
    "    lr    = float(params[\"learning_rate\"])\n",
    "    k     = int(params[\"k\"])\n",
    "\n",
    "    tsne = TSNE(n_components=2, perplexity=perpl, learning_rate=lr,\n",
    "                n_iter=250, init=\"random\", random_state=RS_STATE)\n",
    "    embedded = tsne.fit_transform(X_sub)\n",
    "\n",
    "    km = KMeans(n_clusters=k, random_state=RS_STATE, n_init=\"auto\")\n",
    "    labels = km.fit_predict(embedded)\n",
    "\n",
    "    sil = silhouette_score(embedded, labels)\n",
    "    return {\"loss\": -sil, \"status\": STATUS_OK, \"sil\": sil}\n",
    "\n",
    "trials = Trials()\n",
    "best = fmin(fn=objective, space=space, algo=tpe.suggest,\n",
    "            max_evals=50, trials=trials, rstate=np.random.default_rng(42))\n",
    "\n",
    "best_perp = float(best[\"perplexity\"])\n",
    "best_lr   = float(best[\"learning_rate\"])\n",
    "best_k    = int(best[\"k\"])\n",
    "best_sil  = -min(t[\"result\"][\"loss\"] for t in trials.trials)\n",
    "\n",
    "print(f\"\\n  Best params  →  perplexity={best_perp}, lr={best_lr:.1f}, k={best_k}\")\n",
    "print(f\"  Best Silhouette on subsample: {best_sil:.4f}\")\n",
    "\n",
    "# ---------- Final Embed in ALL data with best t-SNE ------------------------------\n",
    "tsne_final = TSNE(n_components=2, perplexity=best_perp, learning_rate=best_lr,\n",
    "                  n_iter=250, init=\"random\", random_state=RS_STATE)\n",
    "all_emb = tsne_final.fit_transform(X_train)\n",
    "\n",
    "# ---------- Final KMeans -------------------------------------------------\n",
    "km_final   = KMeans(n_clusters=best_k, random_state=RS_STATE, n_init=\"auto\")\n",
    "labels_all = km_final.fit_predict(all_emb)\n",
    "\n",
    "sil_full = silhouette_score(all_emb, labels_all)\n",
    "print(f\"Silhouette (all data): {sil_full:.4f}\")\n",
    "\n",
    "# ---------- Top-10 search-term tokens per cluster -----------------------\n",
    "vectorizer   = CountVectorizer(stop_words=\"english\")\n",
    "term_matrix  = vectorizer.fit_transform(dev_df[\"search_term\"])\n",
    "vocab        = np.array(vectorizer.get_feature_names_out())\n",
    "top_n        = 10\n",
    "cluster_words= {}\n",
    "\n",
    "for c in range(best_k):\n",
    "    rows = np.where(labels_all == c)[0]\n",
    "    if rows.size == 0:\n",
    "        continue\n",
    "    counts   = np.asarray(term_matrix[rows].sum(axis=0)).ravel()\n",
    "    top_idx  = counts.argsort()[::-1][:top_n]\n",
    "    cluster_words[c] = list(vocab[top_idx])\n",
    "    print(f\"Cluster {c}: {', '.join(cluster_words[c])}\")\n",
    "\n"
   ]
  },
  {
   "cell_type": "code",
   "execution_count": 111,
   "id": "245847c2",
   "metadata": {},
   "outputs": [],
   "source": [
    "# ------------------------ 7. Export top-10 cluster words to CSV ------------------------\n",
    "# Convert cluster_words dict to a DataFrame\n",
    "cluster_words_df = pd.DataFrame.from_dict(cluster_words, orient=\"index\")\n",
    "cluster_words_df.columns = [f\"top_word_{i+1}\" for i in range(cluster_words_df.shape[1])]\n",
    "cluster_words_df.index.name = \"cluster_id\"\n",
    "\n",
    "# Export to CSV\n",
    "#cluster_words_df.to_csv(\"./object/top_words_per_cluster.csv\", encoding=\"utf-8\", index=True)"
   ]
  },
  {
   "cell_type": "code",
   "execution_count": 112,
   "id": "dbc7b66e",
   "metadata": {},
   "outputs": [
    {
     "data": {
      "application/vnd.plotly.v1+json": {
       "config": {
        "plotlyServerURL": "https://plot.ly"
       },
       "data": [
        {
         "hovertemplate": "cluster=0<br>t-SNE-1=%{x}<br>t-SNE-2=%{y}<extra></extra>",
         "legendgroup": "0",
         "marker": {
          "color": "#636efa",
          "line": {
           "width": 0
          },
          "size": 5,
          "symbol": "circle"
         },
         "mode": "markers",
         "name": "0",
         "orientation": "v",
         "showlegend": true,
         "type": "scatter",
         "x": {
          "bdata": "VuQFugdoIrqG9pm6jla2ulfgb7pAMq667EuauoDV7DeGU3U7mrXUvE+BnjoQdWq5bfb2OpvqlLoskYE7ABXtuqDCV7rgIse6an5nugyHeLqc2vy60uDaugJSsbqIYsm6S5NWukG2qrp4mOq5dgQnvIQBWDqj2ym6IqxfurhSojot0VM7EwhAujxm1rhEwwy7Gq6jOvQuVLowZUa5LQ0WO26p17pne3e6zuxlulKrpLsjAF66+BKpuivVv7muQ1A6PYjYOvjp37qwLyQ5LHFvuiPUErrOEsy6V1qeuhhW6bqwU0i5dMY8u6j5jrxMxMe64qNNuqgEh7lMQXC9oIVYuhU8XLo4ecs51NJHvE+idbpol9G66nxBuioZFLoQAwu6kiKjvBhO6rmQ4XW6ok9Xu/LgljpVq+s6xQaEulyohLr9/U26yUeBOZadubpAYvu7yJZ0Owj16TkASBe7kroUPXIfqTmK0/W5B8cOuhCmXbqQPEi6AzSzOqEBj7rx9cw7ycZRu4zw9bqwNVC6JB3qOaABSrpmY7O8LMkXOgAq9TkFCa26Kg5qugYcm7zuMAu6IUeQuld/77kwFaq63b6Cu8injrnOEom73+rDurQIibqWIby68v9zuiyQorrg0RC6fqCKunrVhzqwn8m6Mbn4uZgw9rmgTrG6+xRaui8wDbs2FbC88Gdjuukrf7qAbne5hLwuu5KqGLqKAAW5tP32uXKyh7plxeU6bsAMu5dVL7ossQO70kOLuuDC/bh4lua5fNQOuprvTrrgADc4rOTQOdt6jLphaam64MnrO/qoTLtbCJS94mX6ubLFd7pvsH26TXSoutK0DDp6BIu68FEaOVDWfLnZ4x26M/taugg2/7qAQUs4cla/uEi1wrpWlS+7EHsYOqAR3LlKwmq6JtmjutBOS7lIsUw65hcHuoBN2jiVSyE7ErhrOt5rRLpkmRK5LJ74uoL2N7r8Myq6tjT+useydzuYYmK6i2plukd/AbuGh5y7QA8Cu5z7Y7o9n2u6B1SNugiYbbsMSfW6IfmIunyIPjmnDNM6AAQHOuhKVzpnNGa5/uTOueCaTzro7U26MucHuqzpkbpEPie6Ldtoum7porpAKzu6fI11uiakA7pgBnE6uUWBOUdXrjrU4mu5vHM/uxhnzrt0daO6GoU4Olx0njlMhN+6wvMQOzSYEbqgTWG5cRaROkjfNbrwvH+5g2uSuoSFX7lwpg66CZMcuhTxljgEclO6wu+0Oiad+rofsIS6MBeuuOhEXD2WuKg7y9MBuqyTi7oP15S6oOj/uAA7GLpPyCG7/JlLusoEeTsAAG24qXbYvFQcOjqofRq7ySA3uqSg0brgpQ+4MVyxurFDDbog3Cq68vuxunhpaLlzCFe6q5jvOvjry7pZnZ66bPKyuDB0JLzSVGq6H/qGuvq6xjpFp/e6sEXruQAhcbqIG4u6QkdMun/TgbroAc+7mBSNuqhid7pgKnk4d1oZu/BVGbpeZqe8RNh/uoLmOrpKE1y6QGUruB49B7o84bc8yFfaufAeZrpaWga7KUnzuvbwxznQqIo9gFRAubzgETt+lyy6BBaGup+T/LoAA264qhkpOpxrsLsm2Vm6GASuuqyFjTlgneY6+lnzuTUIPLpMT1y6PX2VusD1cLrMlC45mpJful/43brAfkY7oBEEOtAHzrkcQQW5+A3qPJ4GALtgADU7HTzSua+g0bv2W566H5e6ujQxRLqg18o6LliIvIgCJbwaR0c6BOGRurYpvzosYVs75Ey6ufToxToEuAG7WQVhukPXqrp0wXS6ne6MukiGFjtQfEi65ISvuqfzVLvAS+Q4LFiNuWrXerrAaj65uJKjuskvNbqawVK60K1EummSCbrv2E+6kAlmOoIiGboixay6Y6pQunrPUrrnAte5vPpGOQp7JLv0c9Q5CndvOrxTsDyQjLm6keDEuiId6brH8ru7kO49ONPbTbrWnUO5tFCSuskXX7o9bFy6qs99OmxBMLpmfO26a+9mvFHwirrcMQq6gNY5ORpNYLrN8Yq5llKhOrkrL7qX/ac6npjsuvDLHLu2jOu5vCRdu8f9frrajqC7sEuUusiZLDm8ko+6gEysOaO3qrriv4I6fNU4vI0hRrrAIYK5Lo5wunqMBDviuiG6VNefvFIsMbrS26y6qlbVuqh6oroE1qe6Rnt9PWBXjrpgPqA4okZuusrdPbp4L9q6/nS1upRzgLl6ce25TVgLO+xPOrtQVAA5ypy+unBNAzm95pU9NmiGvB7jwLrwE9c56gH6OsBHjDmOsGK6IvZeutz/+rlbpVG6AJwNOJzQ27mqcLQ6QBBfuSy8+DpAKRK4ULssuTDOjbu3GIW7AM6NORDdirpUfq2698azOgSUgLp63LU6YDLGuomQgLp6Rn26wGX6uWWkijo9lZG6J0dWuoKZtLosTla6Rt6Sujmtk7qWNQy62lFourhaSLqA8fE6JKh5uVn3jLxkl4S6HhlhukpBVLotMCG6AGwlu86jo7rYd6Q48cQAun6/A7sQFi+5sha8ugxQmLp38oQ6xk2VuwkZTbrLnVi64hIOvI6FMLo+fT+60HZguhKRObu8y3C8MsXdutYpCrorCim65AIqOh/pmDoSbDc7HtjwuX5tiLqIo3s5uARmuXIMabngopa62O+AuvWViztCRMk5XokAPPRZkzpUTQe70A7nOopWOzwakpe5APqLuEueijvwzDe5iIBNOahXtbjQkg28Mu6zuni6ejqdCq27xMCfO15T0jnZqT26BPuJuQyGh7qBu7y6emF4OoLRm7q8tjI6bnSROl0xVLp6Hnq695WFukpD3LpMzLS6HZvYuro+zboUu0I6a3+CuuCPhbp4e4u8WHUfOzKCvDuCVpq9njwDulDNprhctLK6zKs5u7A3w7eUpI+7AOGMNj1n1rzgXgy5tpojumwnf7oKXEC6CkFlvZFSHTuWd4A5RmcSO07CirrtkI86Bsf5ukOlcbrMkqO6xBwOu24EBLtY3DM5QHGyugRLIrokOCu7AGYMuwCRgrroQe675G2TOoboKbzkOUK6GFqluurBLLuA+FK6NngRuxrhQ7qbQbY6mnohug+cbrqY/sU4YmN2umy12zrBCT07",
          "dtype": "f4"
         },
         "xaxis": "x",
         "y": {
          "bdata": "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",
          "dtype": "f4"
         },
         "yaxis": "y"
        },
        {
         "hovertemplate": "cluster=1<br>t-SNE-1=%{x}<br>t-SNE-2=%{y}<extra></extra>",
         "legendgroup": "1",
         "marker": {
          "color": "#EF553B",
          "line": {
           "width": 0
          },
          "size": 5,
          "symbol": "circle"
         },
         "mode": "markers",
         "name": "1",
         "orientation": "v",
         "showlegend": true,
         "type": "scatter",
         "x": {
          "bdata": "6SlwPg==",
          "dtype": "f4"
         },
         "xaxis": "x",
         "y": {
          "bdata": "nKstuw==",
          "dtype": "f4"
         },
         "yaxis": "y"
        },
        {
         "hovertemplate": "cluster=2<br>t-SNE-1=%{x}<br>t-SNE-2=%{y}<extra></extra>",
         "legendgroup": "2",
         "marker": {
          "color": "#00cc96",
          "line": {
           "width": 0
          },
          "size": 5,
          "symbol": "circle"
         },
         "mode": "markers",
         "name": "2",
         "orientation": "v",
         "showlegend": true,
         "type": "scatter",
         "x": {
          "bdata": "cDE9vg==",
          "dtype": "f4"
         },
         "xaxis": "x",
         "y": {
          "bdata": "JLoTvg==",
          "dtype": "f4"
         },
         "yaxis": "y"
        }
       ],
       "layout": {
        "height": 700,
        "legend": {
         "title": {
          "text": "cluster"
         },
         "tracegroupgap": 0
        },
        "template": {
         "data": {
          "bar": [
           {
            "error_x": {
             "color": "#2a3f5f"
            },
            "error_y": {
             "color": "#2a3f5f"
            },
            "marker": {
             "line": {
              "color": "#E5ECF6",
              "width": 0.5
             },
             "pattern": {
              "fillmode": "overlay",
              "size": 10,
              "solidity": 0.2
             }
            },
            "type": "bar"
           }
          ],
          "barpolar": [
           {
            "marker": {
             "line": {
              "color": "#E5ECF6",
              "width": 0.5
             },
             "pattern": {
              "fillmode": "overlay",
              "size": 10,
              "solidity": 0.2
             }
            },
            "type": "barpolar"
           }
          ],
          "carpet": [
           {
            "aaxis": {
             "endlinecolor": "#2a3f5f",
             "gridcolor": "white",
             "linecolor": "white",
             "minorgridcolor": "white",
             "startlinecolor": "#2a3f5f"
            },
            "baxis": {
             "endlinecolor": "#2a3f5f",
             "gridcolor": "white",
             "linecolor": "white",
             "minorgridcolor": "white",
             "startlinecolor": "#2a3f5f"
            },
            "type": "carpet"
           }
          ],
          "choropleth": [
           {
            "colorbar": {
             "outlinewidth": 0,
             "ticks": ""
            },
            "type": "choropleth"
           }
          ],
          "contour": [
           {
            "colorbar": {
             "outlinewidth": 0,
             "ticks": ""
            },
            "colorscale": [
             [
              0,
              "#0d0887"
             ],
             [
              0.1111111111111111,
              "#46039f"
             ],
             [
              0.2222222222222222,
              "#7201a8"
             ],
             [
              0.3333333333333333,
              "#9c179e"
             ],
             [
              0.4444444444444444,
              "#bd3786"
             ],
             [
              0.5555555555555556,
              "#d8576b"
             ],
             [
              0.6666666666666666,
              "#ed7953"
             ],
             [
              0.7777777777777778,
              "#fb9f3a"
             ],
             [
              0.8888888888888888,
              "#fdca26"
             ],
             [
              1,
              "#f0f921"
             ]
            ],
            "type": "contour"
           }
          ],
          "contourcarpet": [
           {
            "colorbar": {
             "outlinewidth": 0,
             "ticks": ""
            },
            "type": "contourcarpet"
           }
          ],
          "heatmap": [
           {
            "colorbar": {
             "outlinewidth": 0,
             "ticks": ""
            },
            "colorscale": [
             [
              0,
              "#0d0887"
             ],
             [
              0.1111111111111111,
              "#46039f"
             ],
             [
              0.2222222222222222,
              "#7201a8"
             ],
             [
              0.3333333333333333,
              "#9c179e"
             ],
             [
              0.4444444444444444,
              "#bd3786"
             ],
             [
              0.5555555555555556,
              "#d8576b"
             ],
             [
              0.6666666666666666,
              "#ed7953"
             ],
             [
              0.7777777777777778,
              "#fb9f3a"
             ],
             [
              0.8888888888888888,
              "#fdca26"
             ],
             [
              1,
              "#f0f921"
             ]
            ],
            "type": "heatmap"
           }
          ],
          "histogram": [
           {
            "marker": {
             "pattern": {
              "fillmode": "overlay",
              "size": 10,
              "solidity": 0.2
             }
            },
            "type": "histogram"
           }
          ],
          "histogram2d": [
           {
            "colorbar": {
             "outlinewidth": 0,
             "ticks": ""
            },
            "colorscale": [
             [
              0,
              "#0d0887"
             ],
             [
              0.1111111111111111,
              "#46039f"
             ],
             [
              0.2222222222222222,
              "#7201a8"
             ],
             [
              0.3333333333333333,
              "#9c179e"
             ],
             [
              0.4444444444444444,
              "#bd3786"
             ],
             [
              0.5555555555555556,
              "#d8576b"
             ],
             [
              0.6666666666666666,
              "#ed7953"
             ],
             [
              0.7777777777777778,
              "#fb9f3a"
             ],
             [
              0.8888888888888888,
              "#fdca26"
             ],
             [
              1,
              "#f0f921"
             ]
            ],
            "type": "histogram2d"
           }
          ],
          "histogram2dcontour": [
           {
            "colorbar": {
             "outlinewidth": 0,
             "ticks": ""
            },
            "colorscale": [
             [
              0,
              "#0d0887"
             ],
             [
              0.1111111111111111,
              "#46039f"
             ],
             [
              0.2222222222222222,
              "#7201a8"
             ],
             [
              0.3333333333333333,
              "#9c179e"
             ],
             [
              0.4444444444444444,
              "#bd3786"
             ],
             [
              0.5555555555555556,
              "#d8576b"
             ],
             [
              0.6666666666666666,
              "#ed7953"
             ],
             [
              0.7777777777777778,
              "#fb9f3a"
             ],
             [
              0.8888888888888888,
              "#fdca26"
             ],
             [
              1,
              "#f0f921"
             ]
            ],
            "type": "histogram2dcontour"
           }
          ],
          "mesh3d": [
           {
            "colorbar": {
             "outlinewidth": 0,
             "ticks": ""
            },
            "type": "mesh3d"
           }
          ],
          "parcoords": [
           {
            "line": {
             "colorbar": {
              "outlinewidth": 0,
              "ticks": ""
             }
            },
            "type": "parcoords"
           }
          ],
          "pie": [
           {
            "automargin": true,
            "type": "pie"
           }
          ],
          "scatter": [
           {
            "fillpattern": {
             "fillmode": "overlay",
             "size": 10,
             "solidity": 0.2
            },
            "type": "scatter"
           }
          ],
          "scatter3d": [
           {
            "line": {
             "colorbar": {
              "outlinewidth": 0,
              "ticks": ""
             }
            },
            "marker": {
             "colorbar": {
              "outlinewidth": 0,
              "ticks": ""
             }
            },
            "type": "scatter3d"
           }
          ],
          "scattercarpet": [
           {
            "marker": {
             "colorbar": {
              "outlinewidth": 0,
              "ticks": ""
             }
            },
            "type": "scattercarpet"
           }
          ],
          "scattergeo": [
           {
            "marker": {
             "colorbar": {
              "outlinewidth": 0,
              "ticks": ""
             }
            },
            "type": "scattergeo"
           }
          ],
          "scattergl": [
           {
            "marker": {
             "colorbar": {
              "outlinewidth": 0,
              "ticks": ""
             }
            },
            "type": "scattergl"
           }
          ],
          "scattermap": [
           {
            "marker": {
             "colorbar": {
              "outlinewidth": 0,
              "ticks": ""
             }
            },
            "type": "scattermap"
           }
          ],
          "scattermapbox": [
           {
            "marker": {
             "colorbar": {
              "outlinewidth": 0,
              "ticks": ""
             }
            },
            "type": "scattermapbox"
           }
          ],
          "scatterpolar": [
           {
            "marker": {
             "colorbar": {
              "outlinewidth": 0,
              "ticks": ""
             }
            },
            "type": "scatterpolar"
           }
          ],
          "scatterpolargl": [
           {
            "marker": {
             "colorbar": {
              "outlinewidth": 0,
              "ticks": ""
             }
            },
            "type": "scatterpolargl"
           }
          ],
          "scatterternary": [
           {
            "marker": {
             "colorbar": {
              "outlinewidth": 0,
              "ticks": ""
             }
            },
            "type": "scatterternary"
           }
          ],
          "surface": [
           {
            "colorbar": {
             "outlinewidth": 0,
             "ticks": ""
            },
            "colorscale": [
             [
              0,
              "#0d0887"
             ],
             [
              0.1111111111111111,
              "#46039f"
             ],
             [
              0.2222222222222222,
              "#7201a8"
             ],
             [
              0.3333333333333333,
              "#9c179e"
             ],
             [
              0.4444444444444444,
              "#bd3786"
             ],
             [
              0.5555555555555556,
              "#d8576b"
             ],
             [
              0.6666666666666666,
              "#ed7953"
             ],
             [
              0.7777777777777778,
              "#fb9f3a"
             ],
             [
              0.8888888888888888,
              "#fdca26"
             ],
             [
              1,
              "#f0f921"
             ]
            ],
            "type": "surface"
           }
          ],
          "table": [
           {
            "cells": {
             "fill": {
              "color": "#EBF0F8"
             },
             "line": {
              "color": "white"
             }
            },
            "header": {
             "fill": {
              "color": "#C8D4E3"
             },
             "line": {
              "color": "white"
             }
            },
            "type": "table"
           }
          ]
         },
         "layout": {
          "annotationdefaults": {
           "arrowcolor": "#2a3f5f",
           "arrowhead": 0,
           "arrowwidth": 1
          },
          "autotypenumbers": "strict",
          "coloraxis": {
           "colorbar": {
            "outlinewidth": 0,
            "ticks": ""
           }
          },
          "colorscale": {
           "diverging": [
            [
             0,
             "#8e0152"
            ],
            [
             0.1,
             "#c51b7d"
            ],
            [
             0.2,
             "#de77ae"
            ],
            [
             0.3,
             "#f1b6da"
            ],
            [
             0.4,
             "#fde0ef"
            ],
            [
             0.5,
             "#f7f7f7"
            ],
            [
             0.6,
             "#e6f5d0"
            ],
            [
             0.7,
             "#b8e186"
            ],
            [
             0.8,
             "#7fbc41"
            ],
            [
             0.9,
             "#4d9221"
            ],
            [
             1,
             "#276419"
            ]
           ],
           "sequential": [
            [
             0,
             "#0d0887"
            ],
            [
             0.1111111111111111,
             "#46039f"
            ],
            [
             0.2222222222222222,
             "#7201a8"
            ],
            [
             0.3333333333333333,
             "#9c179e"
            ],
            [
             0.4444444444444444,
             "#bd3786"
            ],
            [
             0.5555555555555556,
             "#d8576b"
            ],
            [
             0.6666666666666666,
             "#ed7953"
            ],
            [
             0.7777777777777778,
             "#fb9f3a"
            ],
            [
             0.8888888888888888,
             "#fdca26"
            ],
            [
             1,
             "#f0f921"
            ]
           ],
           "sequentialminus": [
            [
             0,
             "#0d0887"
            ],
            [
             0.1111111111111111,
             "#46039f"
            ],
            [
             0.2222222222222222,
             "#7201a8"
            ],
            [
             0.3333333333333333,
             "#9c179e"
            ],
            [
             0.4444444444444444,
             "#bd3786"
            ],
            [
             0.5555555555555556,
             "#d8576b"
            ],
            [
             0.6666666666666666,
             "#ed7953"
            ],
            [
             0.7777777777777778,
             "#fb9f3a"
            ],
            [
             0.8888888888888888,
             "#fdca26"
            ],
            [
             1,
             "#f0f921"
            ]
           ]
          },
          "colorway": [
           "#636efa",
           "#EF553B",
           "#00cc96",
           "#ab63fa",
           "#FFA15A",
           "#19d3f3",
           "#FF6692",
           "#B6E880",
           "#FF97FF",
           "#FECB52"
          ],
          "font": {
           "color": "#2a3f5f"
          },
          "geo": {
           "bgcolor": "white",
           "lakecolor": "white",
           "landcolor": "#E5ECF6",
           "showlakes": true,
           "showland": true,
           "subunitcolor": "white"
          },
          "hoverlabel": {
           "align": "left"
          },
          "hovermode": "closest",
          "mapbox": {
           "style": "light"
          },
          "paper_bgcolor": "white",
          "plot_bgcolor": "#E5ECF6",
          "polar": {
           "angularaxis": {
            "gridcolor": "white",
            "linecolor": "white",
            "ticks": ""
           },
           "bgcolor": "#E5ECF6",
           "radialaxis": {
            "gridcolor": "white",
            "linecolor": "white",
            "ticks": ""
           }
          },
          "scene": {
           "xaxis": {
            "backgroundcolor": "#E5ECF6",
            "gridcolor": "white",
            "gridwidth": 2,
            "linecolor": "white",
            "showbackground": true,
            "ticks": "",
            "zerolinecolor": "white"
           },
           "yaxis": {
            "backgroundcolor": "#E5ECF6",
            "gridcolor": "white",
            "gridwidth": 2,
            "linecolor": "white",
            "showbackground": true,
            "ticks": "",
            "zerolinecolor": "white"
           },
           "zaxis": {
            "backgroundcolor": "#E5ECF6",
            "gridcolor": "white",
            "gridwidth": 2,
            "linecolor": "white",
            "showbackground": true,
            "ticks": "",
            "zerolinecolor": "white"
           }
          },
          "shapedefaults": {
           "line": {
            "color": "#2a3f5f"
           }
          },
          "ternary": {
           "aaxis": {
            "gridcolor": "white",
            "linecolor": "white",
            "ticks": ""
           },
           "baxis": {
            "gridcolor": "white",
            "linecolor": "white",
            "ticks": ""
           },
           "bgcolor": "#E5ECF6",
           "caxis": {
            "gridcolor": "white",
            "linecolor": "white",
            "ticks": ""
           }
          },
          "title": {
           "x": 0.05
          },
          "xaxis": {
           "automargin": true,
           "gridcolor": "white",
           "linecolor": "white",
           "ticks": "",
           "title": {
            "standoff": 15
           },
           "zerolinecolor": "white",
           "zerolinewidth": 2
          },
          "yaxis": {
           "automargin": true,
           "gridcolor": "white",
           "linecolor": "white",
           "ticks": "",
           "title": {
            "standoff": 15
           },
           "zerolinecolor": "white",
           "zerolinewidth": 2
          }
         }
        },
        "title": {
         "text": "t-SNE embedding (best params) – coloured by K-Means cluster"
        },
        "width": 900,
        "xaxis": {
         "anchor": "y",
         "domain": [
          0,
          1
         ],
         "title": {
          "text": "t-SNE-1"
         }
        },
        "yaxis": {
         "anchor": "x",
         "domain": [
          0,
          1
         ],
         "title": {
          "text": "t-SNE-2"
         }
        }
       }
      }
     },
     "metadata": {},
     "output_type": "display_data"
    },
    {
     "data": {
      "application/vnd.plotly.v1+json": {
       "config": {
        "plotlyServerURL": "https://plot.ly"
       },
       "data": [],
       "layout": {
        "height": 350,
        "images": [
         {
          "layer": "below",
          "sizex": 1,
          "sizey": 1,
          "sizing": "stretch",
          "source": "data:image/png;base64,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",
          "x": 0,
          "xref": "x",
          "y": 1,
          "yref": "y"
         }
        ],
        "margin": {
         "b": 0,
         "l": 0,
         "r": 0,
         "t": 40
        },
        "template": {
         "data": {
          "bar": [
           {
            "error_x": {
             "color": "#2a3f5f"
            },
            "error_y": {
             "color": "#2a3f5f"
            },
            "marker": {
             "line": {
              "color": "#E5ECF6",
              "width": 0.5
             },
             "pattern": {
              "fillmode": "overlay",
              "size": 10,
              "solidity": 0.2
             }
            },
            "type": "bar"
           }
          ],
          "barpolar": [
           {
            "marker": {
             "line": {
              "color": "#E5ECF6",
              "width": 0.5
             },
             "pattern": {
              "fillmode": "overlay",
              "size": 10,
              "solidity": 0.2
             }
            },
            "type": "barpolar"
           }
          ],
          "carpet": [
           {
            "aaxis": {
             "endlinecolor": "#2a3f5f",
             "gridcolor": "white",
             "linecolor": "white",
             "minorgridcolor": "white",
             "startlinecolor": "#2a3f5f"
            },
            "baxis": {
             "endlinecolor": "#2a3f5f",
             "gridcolor": "white",
             "linecolor": "white",
             "minorgridcolor": "white",
             "startlinecolor": "#2a3f5f"
            },
            "type": "carpet"
           }
          ],
          "choropleth": [
           {
            "colorbar": {
             "outlinewidth": 0,
             "ticks": ""
            },
            "type": "choropleth"
           }
          ],
          "contour": [
           {
            "colorbar": {
             "outlinewidth": 0,
             "ticks": ""
            },
            "colorscale": [
             [
              0,
              "#0d0887"
             ],
             [
              0.1111111111111111,
              "#46039f"
             ],
             [
              0.2222222222222222,
              "#7201a8"
             ],
             [
              0.3333333333333333,
              "#9c179e"
             ],
             [
              0.4444444444444444,
              "#bd3786"
             ],
             [
              0.5555555555555556,
              "#d8576b"
             ],
             [
              0.6666666666666666,
              "#ed7953"
             ],
             [
              0.7777777777777778,
              "#fb9f3a"
             ],
             [
              0.8888888888888888,
              "#fdca26"
             ],
             [
              1,
              "#f0f921"
             ]
            ],
            "type": "contour"
           }
          ],
          "contourcarpet": [
           {
            "colorbar": {
             "outlinewidth": 0,
             "ticks": ""
            },
            "type": "contourcarpet"
           }
          ],
          "heatmap": [
           {
            "colorbar": {
             "outlinewidth": 0,
             "ticks": ""
            },
            "colorscale": [
             [
              0,
              "#0d0887"
             ],
             [
              0.1111111111111111,
              "#46039f"
             ],
             [
              0.2222222222222222,
              "#7201a8"
             ],
             [
              0.3333333333333333,
              "#9c179e"
             ],
             [
              0.4444444444444444,
              "#bd3786"
             ],
             [
              0.5555555555555556,
              "#d8576b"
             ],
             [
              0.6666666666666666,
              "#ed7953"
             ],
             [
              0.7777777777777778,
              "#fb9f3a"
             ],
             [
              0.8888888888888888,
              "#fdca26"
             ],
             [
              1,
              "#f0f921"
             ]
            ],
            "type": "heatmap"
           }
          ],
          "histogram": [
           {
            "marker": {
             "pattern": {
              "fillmode": "overlay",
              "size": 10,
              "solidity": 0.2
             }
            },
            "type": "histogram"
           }
          ],
          "histogram2d": [
           {
            "colorbar": {
             "outlinewidth": 0,
             "ticks": ""
            },
            "colorscale": [
             [
              0,
              "#0d0887"
             ],
             [
              0.1111111111111111,
              "#46039f"
             ],
             [
              0.2222222222222222,
              "#7201a8"
             ],
             [
              0.3333333333333333,
              "#9c179e"
             ],
             [
              0.4444444444444444,
              "#bd3786"
             ],
             [
              0.5555555555555556,
              "#d8576b"
             ],
             [
              0.6666666666666666,
              "#ed7953"
             ],
             [
              0.7777777777777778,
              "#fb9f3a"
             ],
             [
              0.8888888888888888,
              "#fdca26"
             ],
             [
              1,
              "#f0f921"
             ]
            ],
            "type": "histogram2d"
           }
          ],
          "histogram2dcontour": [
           {
            "colorbar": {
             "outlinewidth": 0,
             "ticks": ""
            },
            "colorscale": [
             [
              0,
              "#0d0887"
             ],
             [
              0.1111111111111111,
              "#46039f"
             ],
             [
              0.2222222222222222,
              "#7201a8"
             ],
             [
              0.3333333333333333,
              "#9c179e"
             ],
             [
              0.4444444444444444,
              "#bd3786"
             ],
             [
              0.5555555555555556,
              "#d8576b"
             ],
             [
              0.6666666666666666,
              "#ed7953"
             ],
             [
              0.7777777777777778,
              "#fb9f3a"
             ],
             [
              0.8888888888888888,
              "#fdca26"
             ],
             [
              1,
              "#f0f921"
             ]
            ],
            "type": "histogram2dcontour"
           }
          ],
          "mesh3d": [
           {
            "colorbar": {
             "outlinewidth": 0,
             "ticks": ""
            },
            "type": "mesh3d"
           }
          ],
          "parcoords": [
           {
            "line": {
             "colorbar": {
              "outlinewidth": 0,
              "ticks": ""
             }
            },
            "type": "parcoords"
           }
          ],
          "pie": [
           {
            "automargin": true,
            "type": "pie"
           }
          ],
          "scatter": [
           {
            "fillpattern": {
             "fillmode": "overlay",
             "size": 10,
             "solidity": 0.2
            },
            "type": "scatter"
           }
          ],
          "scatter3d": [
           {
            "line": {
             "colorbar": {
              "outlinewidth": 0,
              "ticks": ""
             }
            },
            "marker": {
             "colorbar": {
              "outlinewidth": 0,
              "ticks": ""
             }
            },
            "type": "scatter3d"
           }
          ],
          "scattercarpet": [
           {
            "marker": {
             "colorbar": {
              "outlinewidth": 0,
              "ticks": ""
             }
            },
            "type": "scattercarpet"
           }
          ],
          "scattergeo": [
           {
            "marker": {
             "colorbar": {
              "outlinewidth": 0,
              "ticks": ""
             }
            },
            "type": "scattergeo"
           }
          ],
          "scattergl": [
           {
            "marker": {
             "colorbar": {
              "outlinewidth": 0,
              "ticks": ""
             }
            },
            "type": "scattergl"
           }
          ],
          "scattermap": [
           {
            "marker": {
             "colorbar": {
              "outlinewidth": 0,
              "ticks": ""
             }
            },
            "type": "scattermap"
           }
          ],
          "scattermapbox": [
           {
            "marker": {
             "colorbar": {
              "outlinewidth": 0,
              "ticks": ""
             }
            },
            "type": "scattermapbox"
           }
          ],
          "scatterpolar": [
           {
            "marker": {
             "colorbar": {
              "outlinewidth": 0,
              "ticks": ""
             }
            },
            "type": "scatterpolar"
           }
          ],
          "scatterpolargl": [
           {
            "marker": {
             "colorbar": {
              "outlinewidth": 0,
              "ticks": ""
             }
            },
            "type": "scatterpolargl"
           }
          ],
          "scatterternary": [
           {
            "marker": {
             "colorbar": {
              "outlinewidth": 0,
              "ticks": ""
             }
            },
            "type": "scatterternary"
           }
          ],
          "surface": [
           {
            "colorbar": {
             "outlinewidth": 0,
             "ticks": ""
            },
            "colorscale": [
             [
              0,
              "#0d0887"
             ],
             [
              0.1111111111111111,
              "#46039f"
             ],
             [
              0.2222222222222222,
              "#7201a8"
             ],
             [
              0.3333333333333333,
              "#9c179e"
             ],
             [
              0.4444444444444444,
              "#bd3786"
             ],
             [
              0.5555555555555556,
              "#d8576b"
             ],
             [
              0.6666666666666666,
              "#ed7953"
             ],
             [
              0.7777777777777778,
              "#fb9f3a"
             ],
             [
              0.8888888888888888,
              "#fdca26"
             ],
             [
              1,
              "#f0f921"
             ]
            ],
            "type": "surface"
           }
          ],
          "table": [
           {
            "cells": {
             "fill": {
              "color": "#EBF0F8"
             },
             "line": {
              "color": "white"
             }
            },
            "header": {
             "fill": {
              "color": "#C8D4E3"
             },
             "line": {
              "color": "white"
             }
            },
            "type": "table"
           }
          ]
         },
         "layout": {
          "annotationdefaults": {
           "arrowcolor": "#2a3f5f",
           "arrowhead": 0,
           "arrowwidth": 1
          },
          "autotypenumbers": "strict",
          "coloraxis": {
           "colorbar": {
            "outlinewidth": 0,
            "ticks": ""
           }
          },
          "colorscale": {
           "diverging": [
            [
             0,
             "#8e0152"
            ],
            [
             0.1,
             "#c51b7d"
            ],
            [
             0.2,
             "#de77ae"
            ],
            [
             0.3,
             "#f1b6da"
            ],
            [
             0.4,
             "#fde0ef"
            ],
            [
             0.5,
             "#f7f7f7"
            ],
            [
             0.6,
             "#e6f5d0"
            ],
            [
             0.7,
             "#b8e186"
            ],
            [
             0.8,
             "#7fbc41"
            ],
            [
             0.9,
             "#4d9221"
            ],
            [
             1,
             "#276419"
            ]
           ],
           "sequential": [
            [
             0,
             "#0d0887"
            ],
            [
             0.1111111111111111,
             "#46039f"
            ],
            [
             0.2222222222222222,
             "#7201a8"
            ],
            [
             0.3333333333333333,
             "#9c179e"
            ],
            [
             0.4444444444444444,
             "#bd3786"
            ],
            [
             0.5555555555555556,
             "#d8576b"
            ],
            [
             0.6666666666666666,
             "#ed7953"
            ],
            [
             0.7777777777777778,
             "#fb9f3a"
            ],
            [
             0.8888888888888888,
             "#fdca26"
            ],
            [
             1,
             "#f0f921"
            ]
           ],
           "sequentialminus": [
            [
             0,
             "#0d0887"
            ],
            [
             0.1111111111111111,
             "#46039f"
            ],
            [
             0.2222222222222222,
             "#7201a8"
            ],
            [
             0.3333333333333333,
             "#9c179e"
            ],
            [
             0.4444444444444444,
             "#bd3786"
            ],
            [
             0.5555555555555556,
             "#d8576b"
            ],
            [
             0.6666666666666666,
             "#ed7953"
            ],
            [
             0.7777777777777778,
             "#fb9f3a"
            ],
            [
             0.8888888888888888,
             "#fdca26"
            ],
            [
             1,
             "#f0f921"
            ]
           ]
          },
          "colorway": [
           "#636efa",
           "#EF553B",
           "#00cc96",
           "#ab63fa",
           "#FFA15A",
           "#19d3f3",
           "#FF6692",
           "#B6E880",
           "#FF97FF",
           "#FECB52"
          ],
          "font": {
           "color": "#2a3f5f"
          },
          "geo": {
           "bgcolor": "white",
           "lakecolor": "white",
           "landcolor": "#E5ECF6",
           "showlakes": true,
           "showland": true,
           "subunitcolor": "white"
          },
          "hoverlabel": {
           "align": "left"
          },
          "hovermode": "closest",
          "mapbox": {
           "style": "light"
          },
          "paper_bgcolor": "white",
          "plot_bgcolor": "#E5ECF6",
          "polar": {
           "angularaxis": {
            "gridcolor": "white",
            "linecolor": "white",
            "ticks": ""
           },
           "bgcolor": "#E5ECF6",
           "radialaxis": {
            "gridcolor": "white",
            "linecolor": "white",
            "ticks": ""
           }
          },
          "scene": {
           "xaxis": {
            "backgroundcolor": "#E5ECF6",
            "gridcolor": "white",
            "gridwidth": 2,
            "linecolor": "white",
            "showbackground": true,
            "ticks": "",
            "zerolinecolor": "white"
           },
           "yaxis": {
            "backgroundcolor": "#E5ECF6",
            "gridcolor": "white",
            "gridwidth": 2,
            "linecolor": "white",
            "showbackground": true,
            "ticks": "",
            "zerolinecolor": "white"
           },
           "zaxis": {
            "backgroundcolor": "#E5ECF6",
            "gridcolor": "white",
            "gridwidth": 2,
            "linecolor": "white",
            "showbackground": true,
            "ticks": "",
            "zerolinecolor": "white"
           }
          },
          "shapedefaults": {
           "line": {
            "color": "#2a3f5f"
           }
          },
          "ternary": {
           "aaxis": {
            "gridcolor": "white",
            "linecolor": "white",
            "ticks": ""
           },
           "baxis": {
            "gridcolor": "white",
            "linecolor": "white",
            "ticks": ""
           },
           "bgcolor": "#E5ECF6",
           "caxis": {
            "gridcolor": "white",
            "linecolor": "white",
            "ticks": ""
           }
          },
          "title": {
           "x": 0.05
          },
          "xaxis": {
           "automargin": true,
           "gridcolor": "white",
           "linecolor": "white",
           "ticks": "",
           "title": {
            "standoff": 15
           },
           "zerolinecolor": "white",
           "zerolinewidth": 2
          },
          "yaxis": {
           "automargin": true,
           "gridcolor": "white",
           "linecolor": "white",
           "ticks": "",
           "title": {
            "standoff": 15
           },
           "zerolinecolor": "white",
           "zerolinewidth": 2
          }
         }
        },
        "title": {
         "text": "Cluster 0 – top tokens"
        },
        "width": 700,
        "xaxis": {
         "visible": false
        },
        "yaxis": {
         "visible": false
        }
       }
      }
     },
     "metadata": {},
     "output_type": "display_data"
    },
    {
     "data": {
      "application/vnd.plotly.v1+json": {
       "config": {
        "plotlyServerURL": "https://plot.ly"
       },
       "data": [],
       "layout": {
        "height": 350,
        "images": [
         {
          "layer": "below",
          "sizex": 1,
          "sizey": 1,
          "sizing": "stretch",
          "source": "data:image/png;base64,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",
          "x": 0,
          "xref": "x",
          "y": 1,
          "yref": "y"
         }
        ],
        "margin": {
         "b": 0,
         "l": 0,
         "r": 0,
         "t": 40
        },
        "template": {
         "data": {
          "bar": [
           {
            "error_x": {
             "color": "#2a3f5f"
            },
            "error_y": {
             "color": "#2a3f5f"
            },
            "marker": {
             "line": {
              "color": "#E5ECF6",
              "width": 0.5
             },
             "pattern": {
              "fillmode": "overlay",
              "size": 10,
              "solidity": 0.2
             }
            },
            "type": "bar"
           }
          ],
          "barpolar": [
           {
            "marker": {
             "line": {
              "color": "#E5ECF6",
              "width": 0.5
             },
             "pattern": {
              "fillmode": "overlay",
              "size": 10,
              "solidity": 0.2
             }
            },
            "type": "barpolar"
           }
          ],
          "carpet": [
           {
            "aaxis": {
             "endlinecolor": "#2a3f5f",
             "gridcolor": "white",
             "linecolor": "white",
             "minorgridcolor": "white",
             "startlinecolor": "#2a3f5f"
            },
            "baxis": {
             "endlinecolor": "#2a3f5f",
             "gridcolor": "white",
             "linecolor": "white",
             "minorgridcolor": "white",
             "startlinecolor": "#2a3f5f"
            },
            "type": "carpet"
           }
          ],
          "choropleth": [
           {
            "colorbar": {
             "outlinewidth": 0,
             "ticks": ""
            },
            "type": "choropleth"
           }
          ],
          "contour": [
           {
            "colorbar": {
             "outlinewidth": 0,
             "ticks": ""
            },
            "colorscale": [
             [
              0,
              "#0d0887"
             ],
             [
              0.1111111111111111,
              "#46039f"
             ],
             [
              0.2222222222222222,
              "#7201a8"
             ],
             [
              0.3333333333333333,
              "#9c179e"
             ],
             [
              0.4444444444444444,
              "#bd3786"
             ],
             [
              0.5555555555555556,
              "#d8576b"
             ],
             [
              0.6666666666666666,
              "#ed7953"
             ],
             [
              0.7777777777777778,
              "#fb9f3a"
             ],
             [
              0.8888888888888888,
              "#fdca26"
             ],
             [
              1,
              "#f0f921"
             ]
            ],
            "type": "contour"
           }
          ],
          "contourcarpet": [
           {
            "colorbar": {
             "outlinewidth": 0,
             "ticks": ""
            },
            "type": "contourcarpet"
           }
          ],
          "heatmap": [
           {
            "colorbar": {
             "outlinewidth": 0,
             "ticks": ""
            },
            "colorscale": [
             [
              0,
              "#0d0887"
             ],
             [
              0.1111111111111111,
              "#46039f"
             ],
             [
              0.2222222222222222,
              "#7201a8"
             ],
             [
              0.3333333333333333,
              "#9c179e"
             ],
             [
              0.4444444444444444,
              "#bd3786"
             ],
             [
              0.5555555555555556,
              "#d8576b"
             ],
             [
              0.6666666666666666,
              "#ed7953"
             ],
             [
              0.7777777777777778,
              "#fb9f3a"
             ],
             [
              0.8888888888888888,
              "#fdca26"
             ],
             [
              1,
              "#f0f921"
             ]
            ],
            "type": "heatmap"
           }
          ],
          "histogram": [
           {
            "marker": {
             "pattern": {
              "fillmode": "overlay",
              "size": 10,
              "solidity": 0.2
             }
            },
            "type": "histogram"
           }
          ],
          "histogram2d": [
           {
            "colorbar": {
             "outlinewidth": 0,
             "ticks": ""
            },
            "colorscale": [
             [
              0,
              "#0d0887"
             ],
             [
              0.1111111111111111,
              "#46039f"
             ],
             [
              0.2222222222222222,
              "#7201a8"
             ],
             [
              0.3333333333333333,
              "#9c179e"
             ],
             [
              0.4444444444444444,
              "#bd3786"
             ],
             [
              0.5555555555555556,
              "#d8576b"
             ],
             [
              0.6666666666666666,
              "#ed7953"
             ],
             [
              0.7777777777777778,
              "#fb9f3a"
             ],
             [
              0.8888888888888888,
              "#fdca26"
             ],
             [
              1,
              "#f0f921"
             ]
            ],
            "type": "histogram2d"
           }
          ],
          "histogram2dcontour": [
           {
            "colorbar": {
             "outlinewidth": 0,
             "ticks": ""
            },
            "colorscale": [
             [
              0,
              "#0d0887"
             ],
             [
              0.1111111111111111,
              "#46039f"
             ],
             [
              0.2222222222222222,
              "#7201a8"
             ],
             [
              0.3333333333333333,
              "#9c179e"
             ],
             [
              0.4444444444444444,
              "#bd3786"
             ],
             [
              0.5555555555555556,
              "#d8576b"
             ],
             [
              0.6666666666666666,
              "#ed7953"
             ],
             [
              0.7777777777777778,
              "#fb9f3a"
             ],
             [
              0.8888888888888888,
              "#fdca26"
             ],
             [
              1,
              "#f0f921"
             ]
            ],
            "type": "histogram2dcontour"
           }
          ],
          "mesh3d": [
           {
            "colorbar": {
             "outlinewidth": 0,
             "ticks": ""
            },
            "type": "mesh3d"
           }
          ],
          "parcoords": [
           {
            "line": {
             "colorbar": {
              "outlinewidth": 0,
              "ticks": ""
             }
            },
            "type": "parcoords"
           }
          ],
          "pie": [
           {
            "automargin": true,
            "type": "pie"
           }
          ],
          "scatter": [
           {
            "fillpattern": {
             "fillmode": "overlay",
             "size": 10,
             "solidity": 0.2
            },
            "type": "scatter"
           }
          ],
          "scatter3d": [
           {
            "line": {
             "colorbar": {
              "outlinewidth": 0,
              "ticks": ""
             }
            },
            "marker": {
             "colorbar": {
              "outlinewidth": 0,
              "ticks": ""
             }
            },
            "type": "scatter3d"
           }
          ],
          "scattercarpet": [
           {
            "marker": {
             "colorbar": {
              "outlinewidth": 0,
              "ticks": ""
             }
            },
            "type": "scattercarpet"
           }
          ],
          "scattergeo": [
           {
            "marker": {
             "colorbar": {
              "outlinewidth": 0,
              "ticks": ""
             }
            },
            "type": "scattergeo"
           }
          ],
          "scattergl": [
           {
            "marker": {
             "colorbar": {
              "outlinewidth": 0,
              "ticks": ""
             }
            },
            "type": "scattergl"
           }
          ],
          "scattermap": [
           {
            "marker": {
             "colorbar": {
              "outlinewidth": 0,
              "ticks": ""
             }
            },
            "type": "scattermap"
           }
          ],
          "scattermapbox": [
           {
            "marker": {
             "colorbar": {
              "outlinewidth": 0,
              "ticks": ""
             }
            },
            "type": "scattermapbox"
           }
          ],
          "scatterpolar": [
           {
            "marker": {
             "colorbar": {
              "outlinewidth": 0,
              "ticks": ""
             }
            },
            "type": "scatterpolar"
           }
          ],
          "scatterpolargl": [
           {
            "marker": {
             "colorbar": {
              "outlinewidth": 0,
              "ticks": ""
             }
            },
            "type": "scatterpolargl"
           }
          ],
          "scatterternary": [
           {
            "marker": {
             "colorbar": {
              "outlinewidth": 0,
              "ticks": ""
             }
            },
            "type": "scatterternary"
           }
          ],
          "surface": [
           {
            "colorbar": {
             "outlinewidth": 0,
             "ticks": ""
            },
            "colorscale": [
             [
              0,
              "#0d0887"
             ],
             [
              0.1111111111111111,
              "#46039f"
             ],
             [
              0.2222222222222222,
              "#7201a8"
             ],
             [
              0.3333333333333333,
              "#9c179e"
             ],
             [
              0.4444444444444444,
              "#bd3786"
             ],
             [
              0.5555555555555556,
              "#d8576b"
             ],
             [
              0.6666666666666666,
              "#ed7953"
             ],
             [
              0.7777777777777778,
              "#fb9f3a"
             ],
             [
              0.8888888888888888,
              "#fdca26"
             ],
             [
              1,
              "#f0f921"
             ]
            ],
            "type": "surface"
           }
          ],
          "table": [
           {
            "cells": {
             "fill": {
              "color": "#EBF0F8"
             },
             "line": {
              "color": "white"
             }
            },
            "header": {
             "fill": {
              "color": "#C8D4E3"
             },
             "line": {
              "color": "white"
             }
            },
            "type": "table"
           }
          ]
         },
         "layout": {
          "annotationdefaults": {
           "arrowcolor": "#2a3f5f",
           "arrowhead": 0,
           "arrowwidth": 1
          },
          "autotypenumbers": "strict",
          "coloraxis": {
           "colorbar": {
            "outlinewidth": 0,
            "ticks": ""
           }
          },
          "colorscale": {
           "diverging": [
            [
             0,
             "#8e0152"
            ],
            [
             0.1,
             "#c51b7d"
            ],
            [
             0.2,
             "#de77ae"
            ],
            [
             0.3,
             "#f1b6da"
            ],
            [
             0.4,
             "#fde0ef"
            ],
            [
             0.5,
             "#f7f7f7"
            ],
            [
             0.6,
             "#e6f5d0"
            ],
            [
             0.7,
             "#b8e186"
            ],
            [
             0.8,
             "#7fbc41"
            ],
            [
             0.9,
             "#4d9221"
            ],
            [
             1,
             "#276419"
            ]
           ],
           "sequential": [
            [
             0,
             "#0d0887"
            ],
            [
             0.1111111111111111,
             "#46039f"
            ],
            [
             0.2222222222222222,
             "#7201a8"
            ],
            [
             0.3333333333333333,
             "#9c179e"
            ],
            [
             0.4444444444444444,
             "#bd3786"
            ],
            [
             0.5555555555555556,
             "#d8576b"
            ],
            [
             0.6666666666666666,
             "#ed7953"
            ],
            [
             0.7777777777777778,
             "#fb9f3a"
            ],
            [
             0.8888888888888888,
             "#fdca26"
            ],
            [
             1,
             "#f0f921"
            ]
           ],
           "sequentialminus": [
            [
             0,
             "#0d0887"
            ],
            [
             0.1111111111111111,
             "#46039f"
            ],
            [
             0.2222222222222222,
             "#7201a8"
            ],
            [
             0.3333333333333333,
             "#9c179e"
            ],
            [
             0.4444444444444444,
             "#bd3786"
            ],
            [
             0.5555555555555556,
             "#d8576b"
            ],
            [
             0.6666666666666666,
             "#ed7953"
            ],
            [
             0.7777777777777778,
             "#fb9f3a"
            ],
            [
             0.8888888888888888,
             "#fdca26"
            ],
            [
             1,
             "#f0f921"
            ]
           ]
          },
          "colorway": [
           "#636efa",
           "#EF553B",
           "#00cc96",
           "#ab63fa",
           "#FFA15A",
           "#19d3f3",
           "#FF6692",
           "#B6E880",
           "#FF97FF",
           "#FECB52"
          ],
          "font": {
           "color": "#2a3f5f"
          },
          "geo": {
           "bgcolor": "white",
           "lakecolor": "white",
           "landcolor": "#E5ECF6",
           "showlakes": true,
           "showland": true,
           "subunitcolor": "white"
          },
          "hoverlabel": {
           "align": "left"
          },
          "hovermode": "closest",
          "mapbox": {
           "style": "light"
          },
          "paper_bgcolor": "white",
          "plot_bgcolor": "#E5ECF6",
          "polar": {
           "angularaxis": {
            "gridcolor": "white",
            "linecolor": "white",
            "ticks": ""
           },
           "bgcolor": "#E5ECF6",
           "radialaxis": {
            "gridcolor": "white",
            "linecolor": "white",
            "ticks": ""
           }
          },
          "scene": {
           "xaxis": {
            "backgroundcolor": "#E5ECF6",
            "gridcolor": "white",
            "gridwidth": 2,
            "linecolor": "white",
            "showbackground": true,
            "ticks": "",
            "zerolinecolor": "white"
           },
           "yaxis": {
            "backgroundcolor": "#E5ECF6",
            "gridcolor": "white",
            "gridwidth": 2,
            "linecolor": "white",
            "showbackground": true,
            "ticks": "",
            "zerolinecolor": "white"
           },
           "zaxis": {
            "backgroundcolor": "#E5ECF6",
            "gridcolor": "white",
            "gridwidth": 2,
            "linecolor": "white",
            "showbackground": true,
            "ticks": "",
            "zerolinecolor": "white"
           }
          },
          "shapedefaults": {
           "line": {
            "color": "#2a3f5f"
           }
          },
          "ternary": {
           "aaxis": {
            "gridcolor": "white",
            "linecolor": "white",
            "ticks": ""
           },
           "baxis": {
            "gridcolor": "white",
            "linecolor": "white",
            "ticks": ""
           },
           "bgcolor": "#E5ECF6",
           "caxis": {
            "gridcolor": "white",
            "linecolor": "white",
            "ticks": ""
           }
          },
          "title": {
           "x": 0.05
          },
          "xaxis": {
           "automargin": true,
           "gridcolor": "white",
           "linecolor": "white",
           "ticks": "",
           "title": {
            "standoff": 15
           },
           "zerolinecolor": "white",
           "zerolinewidth": 2
          },
          "yaxis": {
           "automargin": true,
           "gridcolor": "white",
           "linecolor": "white",
           "ticks": "",
           "title": {
            "standoff": 15
           },
           "zerolinecolor": "white",
           "zerolinewidth": 2
          }
         }
        },
        "title": {
         "text": "Cluster 1 – top tokens"
        },
        "width": 700,
        "xaxis": {
         "visible": false
        },
        "yaxis": {
         "visible": false
        }
       }
      }
     },
     "metadata": {},
     "output_type": "display_data"
    },
    {
     "data": {
      "application/vnd.plotly.v1+json": {
       "config": {
        "plotlyServerURL": "https://plot.ly"
       },
       "data": [],
       "layout": {
        "height": 350,
        "images": [
         {
          "layer": "below",
          "sizex": 1,
          "sizey": 1,
          "sizing": "stretch",
          "source": "data:image/png;base64,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",
          "x": 0,
          "xref": "x",
          "y": 1,
          "yref": "y"
         }
        ],
        "margin": {
         "b": 0,
         "l": 0,
         "r": 0,
         "t": 40
        },
        "template": {
         "data": {
          "bar": [
           {
            "error_x": {
             "color": "#2a3f5f"
            },
            "error_y": {
             "color": "#2a3f5f"
            },
            "marker": {
             "line": {
              "color": "#E5ECF6",
              "width": 0.5
             },
             "pattern": {
              "fillmode": "overlay",
              "size": 10,
              "solidity": 0.2
             }
            },
            "type": "bar"
           }
          ],
          "barpolar": [
           {
            "marker": {
             "line": {
              "color": "#E5ECF6",
              "width": 0.5
             },
             "pattern": {
              "fillmode": "overlay",
              "size": 10,
              "solidity": 0.2
             }
            },
            "type": "barpolar"
           }
          ],
          "carpet": [
           {
            "aaxis": {
             "endlinecolor": "#2a3f5f",
             "gridcolor": "white",
             "linecolor": "white",
             "minorgridcolor": "white",
             "startlinecolor": "#2a3f5f"
            },
            "baxis": {
             "endlinecolor": "#2a3f5f",
             "gridcolor": "white",
             "linecolor": "white",
             "minorgridcolor": "white",
             "startlinecolor": "#2a3f5f"
            },
            "type": "carpet"
           }
          ],
          "choropleth": [
           {
            "colorbar": {
             "outlinewidth": 0,
             "ticks": ""
            },
            "type": "choropleth"
           }
          ],
          "contour": [
           {
            "colorbar": {
             "outlinewidth": 0,
             "ticks": ""
            },
            "colorscale": [
             [
              0,
              "#0d0887"
             ],
             [
              0.1111111111111111,
              "#46039f"
             ],
             [
              0.2222222222222222,
              "#7201a8"
             ],
             [
              0.3333333333333333,
              "#9c179e"
             ],
             [
              0.4444444444444444,
              "#bd3786"
             ],
             [
              0.5555555555555556,
              "#d8576b"
             ],
             [
              0.6666666666666666,
              "#ed7953"
             ],
             [
              0.7777777777777778,
              "#fb9f3a"
             ],
             [
              0.8888888888888888,
              "#fdca26"
             ],
             [
              1,
              "#f0f921"
             ]
            ],
            "type": "contour"
           }
          ],
          "contourcarpet": [
           {
            "colorbar": {
             "outlinewidth": 0,
             "ticks": ""
            },
            "type": "contourcarpet"
           }
          ],
          "heatmap": [
           {
            "colorbar": {
             "outlinewidth": 0,
             "ticks": ""
            },
            "colorscale": [
             [
              0,
              "#0d0887"
             ],
             [
              0.1111111111111111,
              "#46039f"
             ],
             [
              0.2222222222222222,
              "#7201a8"
             ],
             [
              0.3333333333333333,
              "#9c179e"
             ],
             [
              0.4444444444444444,
              "#bd3786"
             ],
             [
              0.5555555555555556,
              "#d8576b"
             ],
             [
              0.6666666666666666,
              "#ed7953"
             ],
             [
              0.7777777777777778,
              "#fb9f3a"
             ],
             [
              0.8888888888888888,
              "#fdca26"
             ],
             [
              1,
              "#f0f921"
             ]
            ],
            "type": "heatmap"
           }
          ],
          "histogram": [
           {
            "marker": {
             "pattern": {
              "fillmode": "overlay",
              "size": 10,
              "solidity": 0.2
             }
            },
            "type": "histogram"
           }
          ],
          "histogram2d": [
           {
            "colorbar": {
             "outlinewidth": 0,
             "ticks": ""
            },
            "colorscale": [
             [
              0,
              "#0d0887"
             ],
             [
              0.1111111111111111,
              "#46039f"
             ],
             [
              0.2222222222222222,
              "#7201a8"
             ],
             [
              0.3333333333333333,
              "#9c179e"
             ],
             [
              0.4444444444444444,
              "#bd3786"
             ],
             [
              0.5555555555555556,
              "#d8576b"
             ],
             [
              0.6666666666666666,
              "#ed7953"
             ],
             [
              0.7777777777777778,
              "#fb9f3a"
             ],
             [
              0.8888888888888888,
              "#fdca26"
             ],
             [
              1,
              "#f0f921"
             ]
            ],
            "type": "histogram2d"
           }
          ],
          "histogram2dcontour": [
           {
            "colorbar": {
             "outlinewidth": 0,
             "ticks": ""
            },
            "colorscale": [
             [
              0,
              "#0d0887"
             ],
             [
              0.1111111111111111,
              "#46039f"
             ],
             [
              0.2222222222222222,
              "#7201a8"
             ],
             [
              0.3333333333333333,
              "#9c179e"
             ],
             [
              0.4444444444444444,
              "#bd3786"
             ],
             [
              0.5555555555555556,
              "#d8576b"
             ],
             [
              0.6666666666666666,
              "#ed7953"
             ],
             [
              0.7777777777777778,
              "#fb9f3a"
             ],
             [
              0.8888888888888888,
              "#fdca26"
             ],
             [
              1,
              "#f0f921"
             ]
            ],
            "type": "histogram2dcontour"
           }
          ],
          "mesh3d": [
           {
            "colorbar": {
             "outlinewidth": 0,
             "ticks": ""
            },
            "type": "mesh3d"
           }
          ],
          "parcoords": [
           {
            "line": {
             "colorbar": {
              "outlinewidth": 0,
              "ticks": ""
             }
            },
            "type": "parcoords"
           }
          ],
          "pie": [
           {
            "automargin": true,
            "type": "pie"
           }
          ],
          "scatter": [
           {
            "fillpattern": {
             "fillmode": "overlay",
             "size": 10,
             "solidity": 0.2
            },
            "type": "scatter"
           }
          ],
          "scatter3d": [
           {
            "line": {
             "colorbar": {
              "outlinewidth": 0,
              "ticks": ""
             }
            },
            "marker": {
             "colorbar": {
              "outlinewidth": 0,
              "ticks": ""
             }
            },
            "type": "scatter3d"
           }
          ],
          "scattercarpet": [
           {
            "marker": {
             "colorbar": {
              "outlinewidth": 0,
              "ticks": ""
             }
            },
            "type": "scattercarpet"
           }
          ],
          "scattergeo": [
           {
            "marker": {
             "colorbar": {
              "outlinewidth": 0,
              "ticks": ""
             }
            },
            "type": "scattergeo"
           }
          ],
          "scattergl": [
           {
            "marker": {
             "colorbar": {
              "outlinewidth": 0,
              "ticks": ""
             }
            },
            "type": "scattergl"
           }
          ],
          "scattermap": [
           {
            "marker": {
             "colorbar": {
              "outlinewidth": 0,
              "ticks": ""
             }
            },
            "type": "scattermap"
           }
          ],
          "scattermapbox": [
           {
            "marker": {
             "colorbar": {
              "outlinewidth": 0,
              "ticks": ""
             }
            },
            "type": "scattermapbox"
           }
          ],
          "scatterpolar": [
           {
            "marker": {
             "colorbar": {
              "outlinewidth": 0,
              "ticks": ""
             }
            },
            "type": "scatterpolar"
           }
          ],
          "scatterpolargl": [
           {
            "marker": {
             "colorbar": {
              "outlinewidth": 0,
              "ticks": ""
             }
            },
            "type": "scatterpolargl"
           }
          ],
          "scatterternary": [
           {
            "marker": {
             "colorbar": {
              "outlinewidth": 0,
              "ticks": ""
             }
            },
            "type": "scatterternary"
           }
          ],
          "surface": [
           {
            "colorbar": {
             "outlinewidth": 0,
             "ticks": ""
            },
            "colorscale": [
             [
              0,
              "#0d0887"
             ],
             [
              0.1111111111111111,
              "#46039f"
             ],
             [
              0.2222222222222222,
              "#7201a8"
             ],
             [
              0.3333333333333333,
              "#9c179e"
             ],
             [
              0.4444444444444444,
              "#bd3786"
             ],
             [
              0.5555555555555556,
              "#d8576b"
             ],
             [
              0.6666666666666666,
              "#ed7953"
             ],
             [
              0.7777777777777778,
              "#fb9f3a"
             ],
             [
              0.8888888888888888,
              "#fdca26"
             ],
             [
              1,
              "#f0f921"
             ]
            ],
            "type": "surface"
           }
          ],
          "table": [
           {
            "cells": {
             "fill": {
              "color": "#EBF0F8"
             },
             "line": {
              "color": "white"
             }
            },
            "header": {
             "fill": {
              "color": "#C8D4E3"
             },
             "line": {
              "color": "white"
             }
            },
            "type": "table"
           }
          ]
         },
         "layout": {
          "annotationdefaults": {
           "arrowcolor": "#2a3f5f",
           "arrowhead": 0,
           "arrowwidth": 1
          },
          "autotypenumbers": "strict",
          "coloraxis": {
           "colorbar": {
            "outlinewidth": 0,
            "ticks": ""
           }
          },
          "colorscale": {
           "diverging": [
            [
             0,
             "#8e0152"
            ],
            [
             0.1,
             "#c51b7d"
            ],
            [
             0.2,
             "#de77ae"
            ],
            [
             0.3,
             "#f1b6da"
            ],
            [
             0.4,
             "#fde0ef"
            ],
            [
             0.5,
             "#f7f7f7"
            ],
            [
             0.6,
             "#e6f5d0"
            ],
            [
             0.7,
             "#b8e186"
            ],
            [
             0.8,
             "#7fbc41"
            ],
            [
             0.9,
             "#4d9221"
            ],
            [
             1,
             "#276419"
            ]
           ],
           "sequential": [
            [
             0,
             "#0d0887"
            ],
            [
             0.1111111111111111,
             "#46039f"
            ],
            [
             0.2222222222222222,
             "#7201a8"
            ],
            [
             0.3333333333333333,
             "#9c179e"
            ],
            [
             0.4444444444444444,
             "#bd3786"
            ],
            [
             0.5555555555555556,
             "#d8576b"
            ],
            [
             0.6666666666666666,
             "#ed7953"
            ],
            [
             0.7777777777777778,
             "#fb9f3a"
            ],
            [
             0.8888888888888888,
             "#fdca26"
            ],
            [
             1,
             "#f0f921"
            ]
           ],
           "sequentialminus": [
            [
             0,
             "#0d0887"
            ],
            [
             0.1111111111111111,
             "#46039f"
            ],
            [
             0.2222222222222222,
             "#7201a8"
            ],
            [
             0.3333333333333333,
             "#9c179e"
            ],
            [
             0.4444444444444444,
             "#bd3786"
            ],
            [
             0.5555555555555556,
             "#d8576b"
            ],
            [
             0.6666666666666666,
             "#ed7953"
            ],
            [
             0.7777777777777778,
             "#fb9f3a"
            ],
            [
             0.8888888888888888,
             "#fdca26"
            ],
            [
             1,
             "#f0f921"
            ]
           ]
          },
          "colorway": [
           "#636efa",
           "#EF553B",
           "#00cc96",
           "#ab63fa",
           "#FFA15A",
           "#19d3f3",
           "#FF6692",
           "#B6E880",
           "#FF97FF",
           "#FECB52"
          ],
          "font": {
           "color": "#2a3f5f"
          },
          "geo": {
           "bgcolor": "white",
           "lakecolor": "white",
           "landcolor": "#E5ECF6",
           "showlakes": true,
           "showland": true,
           "subunitcolor": "white"
          },
          "hoverlabel": {
           "align": "left"
          },
          "hovermode": "closest",
          "mapbox": {
           "style": "light"
          },
          "paper_bgcolor": "white",
          "plot_bgcolor": "#E5ECF6",
          "polar": {
           "angularaxis": {
            "gridcolor": "white",
            "linecolor": "white",
            "ticks": ""
           },
           "bgcolor": "#E5ECF6",
           "radialaxis": {
            "gridcolor": "white",
            "linecolor": "white",
            "ticks": ""
           }
          },
          "scene": {
           "xaxis": {
            "backgroundcolor": "#E5ECF6",
            "gridcolor": "white",
            "gridwidth": 2,
            "linecolor": "white",
            "showbackground": true,
            "ticks": "",
            "zerolinecolor": "white"
           },
           "yaxis": {
            "backgroundcolor": "#E5ECF6",
            "gridcolor": "white",
            "gridwidth": 2,
            "linecolor": "white",
            "showbackground": true,
            "ticks": "",
            "zerolinecolor": "white"
           },
           "zaxis": {
            "backgroundcolor": "#E5ECF6",
            "gridcolor": "white",
            "gridwidth": 2,
            "linecolor": "white",
            "showbackground": true,
            "ticks": "",
            "zerolinecolor": "white"
           }
          },
          "shapedefaults": {
           "line": {
            "color": "#2a3f5f"
           }
          },
          "ternary": {
           "aaxis": {
            "gridcolor": "white",
            "linecolor": "white",
            "ticks": ""
           },
           "baxis": {
            "gridcolor": "white",
            "linecolor": "white",
            "ticks": ""
           },
           "bgcolor": "#E5ECF6",
           "caxis": {
            "gridcolor": "white",
            "linecolor": "white",
            "ticks": ""
           }
          },
          "title": {
           "x": 0.05
          },
          "xaxis": {
           "automargin": true,
           "gridcolor": "white",
           "linecolor": "white",
           "ticks": "",
           "title": {
            "standoff": 15
           },
           "zerolinecolor": "white",
           "zerolinewidth": 2
          },
          "yaxis": {
           "automargin": true,
           "gridcolor": "white",
           "linecolor": "white",
           "ticks": "",
           "title": {
            "standoff": 15
           },
           "zerolinecolor": "white",
           "zerolinewidth": 2
          }
         }
        },
        "title": {
         "text": "Cluster 2 – top tokens"
        },
        "width": 700,
        "xaxis": {
         "visible": false
        },
        "yaxis": {
         "visible": false
        }
       }
      }
     },
     "metadata": {},
     "output_type": "display_data"
    }
   ],
   "source": [
    "import plotly.express as px\n",
    "import plotly.graph_objects as go\n",
    "from PIL import Image\n",
    "import io\n",
    "import plotly.io as pio\n",
    "\n",
    "\n",
    "\n",
    "# ------------------------------------------------------------------\n",
    "# 1) Interactive scatterplot of the t-SNE embedding\n",
    "# ------------------------------------------------------------------\n",
    "fig_scatter = px.scatter(\n",
    "    x=all_emb[:, 0],\n",
    "    y=all_emb[:, 1],\n",
    "    color=labels_all.astype(str),        # colour by cluster id\n",
    "    title=\"t-SNE embedding (best params) – coloured by K-Means cluster\",\n",
    "    labels={\"x\": \"t-SNE-1\", \"y\": \"t-SNE-2\", \"color\": \"cluster\"},\n",
    "    width=900,\n",
    "    height=700\n",
    ")\n",
    "fig_scatter.update_traces(marker=dict(size=5, line=dict(width=0)))\n",
    "fig_scatter.show()\n",
    "\n",
    "# ------------------------------------------------------------------\n",
    "# 2) Word-cloud per cluster rendered in Plotly\n",
    "# ------------------------------------------------------------------\n",
    "for c, words in cluster_words.items():\n",
    "    wc = WordCloud(\n",
    "        background_color=\"white\",\n",
    "        width=700,\n",
    "        height=350,\n",
    "        colormap=\"tab10\"\n",
    "    ).generate(\" \".join(words))\n",
    "\n",
    "    # Convert PIL image to bytes buffer\n",
    "    buf = io.BytesIO()\n",
    "    wc.to_image().save(buf, format=\"PNG\")\n",
    "    buf.seek(0)\n",
    "\n",
    "    # Build a figure with a single image trace\n",
    "    fig_wc = go.Figure()\n",
    "    fig_wc.add_layout_image(\n",
    "        dict(\n",
    "            source=Image.open(buf),\n",
    "            xref=\"x\", yref=\"y\",\n",
    "            x=0, y=1,        # position\n",
    "            sizex=1, sizey=1,\n",
    "            sizing=\"stretch\",\n",
    "            layer=\"below\"\n",
    "        )\n",
    "    )\n",
    "    fig_wc.update_xaxes(visible=False)\n",
    "    fig_wc.update_yaxes(visible=False)\n",
    "    fig_wc.update_layout(\n",
    "        width=700, height=350,\n",
    "        title=f\"Cluster {c} – top tokens\",\n",
    "        margin=dict(l=0, r=0, t=40, b=0)\n",
    "    )\n",
    "    fig_wc.show()\n"
   ]
  }
 ],
 "metadata": {
  "kernelspec": {
   "display_name": "venv_01",
   "language": "python",
   "name": "python3"
  },
  "language_info": {
   "codemirror_mode": {
    "name": "ipython",
    "version": 3
   },
   "file_extension": ".py",
   "mimetype": "text/x-python",
   "name": "python",
   "nbconvert_exporter": "python",
   "pygments_lexer": "ipython3",
   "version": "3.11.4"
  }
 },
 "nbformat": 4,
 "nbformat_minor": 5
}
